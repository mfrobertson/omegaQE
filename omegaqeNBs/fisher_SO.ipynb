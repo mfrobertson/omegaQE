{
 "cells": [
  {
   "cell_type": "code",
   "execution_count": 1,
   "id": "5281c67f",
   "metadata": {
    "scrolled": false
   },
   "outputs": [],
   "source": [
    "import omegaqe\n",
    "from omegaqe.fisher import Fisher\n",
    "from omegaqe.fisher import Fisher\n",
    "import numpy as np\n",
    "import time\n",
    "import matplotlib.pyplot as plt\n",
    "import matplotlib\n",
    "from omegaqe.cosmology import Cosmology\n",
    "plt.rcParams['figure.figsize'] = [10, 5]\n",
    "%config InlineBackend.figure_format = 'retina'"
   ]
  },
  {
   "cell_type": "code",
   "execution_count": 2,
   "id": "5be4414d",
   "metadata": {},
   "outputs": [],
   "source": [
    "M_path = f\"{omegaqe.CACHE_DIR}/_M/\""
   ]
  },
  {
   "cell_type": "code",
   "execution_count": 3,
   "id": "69ed1205",
   "metadata": {},
   "outputs": [],
   "source": [
    "fisher = Fisher()\n",
    "fisher.setup_bispectra(M_path)"
   ]
  },
  {
   "cell_type": "code",
   "execution_count": 4,
   "id": "377f8a15",
   "metadata": {},
   "outputs": [],
   "source": [
    "def print_bi_fishers(exp, Lmax=4000, dL=2, Ntheta=10, f_sky=0.4, iter=False, iter_ext=False, qe=\"TEB\", gmv=True):\n",
    "    t0 = time.time()\n",
    "    fisher.setup_noise(exp=exp, iter=iter, iter_ext=iter_ext, qe=qe, gmv=gmv)\n",
    "    print(f\"exp: {exp}, f_sky: {f_sky}, iter: {iter}, iter_ext: {iter_ext}\")\n",
    "    print(\"---------------------------\")\n",
    "    print(\"  Individual bispectra\")\n",
    "    F = fisher.get_bispectrum_Fisher(\"kkw\", Lmax, dL, Ntheta=Ntheta, f_sky=f_sky)\n",
    "    print(f\"    kkw = {np.sqrt(F)}\")\n",
    "    F = fisher.get_bispectrum_Fisher(\"ggw\", Lmax, dL, Ntheta=Ntheta, f_sky=f_sky)\n",
    "    print(f\"    ggw = {np.sqrt(F)}\")\n",
    "    F = fisher.get_bispectrum_Fisher(\"gkw\", Lmax, dL, Ntheta=Ntheta, f_sky=f_sky)\n",
    "    print(f\"    gkw = {np.sqrt(F)}\")\n",
    "    F = fisher.get_bispectrum_Fisher(\"IIw\", Lmax, dL, Ntheta=Ntheta, f_sky=f_sky, nu=353e9)\n",
    "    print(f\"    IIw (353) = {np.sqrt(F)}\")\n",
    "    F = fisher.get_bispectrum_Fisher(\"Ikw\", Lmax, dL, Ntheta=Ntheta, f_sky=f_sky, nu=353e9)\n",
    "    print(f\"    Ikw (353) = {np.sqrt(F)}\")\n",
    "    F = fisher.get_bispectrum_Fisher(\"Igw\", Lmax, dL, Ntheta=Ntheta, f_sky=f_sky, nu=353e9)\n",
    "    print(f\"    Igw (353) = {np.sqrt(F)}\")\n",
    "    F_opt = fisher.get_optimal_bispectrum_Fisher(\"kg\", Lmax, dL, Ntheta=Ntheta, f_sky=f_sky)\n",
    "    print(\"  ---------------------------\")\n",
    "    print(\"  Optimal bispectra\")\n",
    "    print(f\"    optimal kg= {np.sqrt(F_opt)}\")\n",
    "    F_opt = fisher.get_optimal_bispectrum_Fisher(\"kI\", Lmax, dL, Ntheta=Ntheta, f_sky=f_sky, nu=353e9)\n",
    "    print(f\"    optimal kI (353) = {np.sqrt(F_opt)}\")\n",
    "    F_opt = fisher.get_optimal_bispectrum_Fisher(\"Ig\", Lmax, dL, Ntheta=Ntheta, f_sky=f_sky, nu=353e9)\n",
    "    print(f\"    optimal Ig (353) = {np.sqrt(F_opt)}\")\n",
    "    F_opt = fisher.get_optimal_bispectrum_Fisher(\"Igk\", Lmax, dL, Ntheta=Ntheta, f_sky=f_sky, nu=353e9)\n",
    "    print(f\"    optimal Igk (353) = {np.sqrt(F_opt)}\")\n",
    "    print(\"---------------------------\")\n",
    "    t1 = time.time()\n",
    "    print(f\"Time = {t1 - t0}\")\n"
   ]
  },
  {
   "cell_type": "code",
   "execution_count": 15,
   "id": "037a2771",
   "metadata": {},
   "outputs": [
    {
     "name": "stdout",
     "output_type": "stream",
     "text": [
      "exp: SO_base, f_sky: 0.4, iter: False, iter_ext: False\n",
      "---------------------------\n",
      "  Individual bispectra\n",
      "    kkw = 0.43918490404281707\n",
      "    ggw = 0.24649778253890178\n",
      "    gkw = 2.771575279988573\n",
      "    IIw (353) = 0.08493363476298\n",
      "    Ikw (353) = 0.4468843554726461\n",
      "    Igw (353) = 3.456192331448653\n",
      "  ---------------------------\n",
      "  Optimal bispectra\n",
      "    optimal kg= 3.343487564781856\n",
      "    optimal kI (353) = 0.5900523686519304\n",
      "    optimal Ig (353) = 3.642615212344401\n",
      "    optimal Igk (353) = 4.521510634290053\n",
      "---------------------------\n",
      "Time = 535.827584028244\n",
      "exp: SO_base, f_sky: 0.4, iter: True, iter_ext: False\n",
      "---------------------------\n",
      "  Individual bispectra\n",
      "    kkw = 0.4757359383098354\n",
      "    ggw = 0.25234539662836214\n",
      "    gkw = 2.901755311302026\n",
      "    IIw (353) = 0.08686000354315342\n",
      "    Ikw (353) = 0.4666210310292535\n",
      "    Igw (353) = 3.535113743878831\n",
      "  ---------------------------\n",
      "  Optimal bispectra\n",
      "    optimal kg= 3.5475356882757003\n",
      "    optimal kI (353) = 0.6257284776841888\n",
      "    optimal Ig (353) = 3.72600922108447\n",
      "    optimal Igk (353) = 4.6981547579530964\n",
      "---------------------------\n",
      "Time = 557.7446267604828\n",
      "exp: SO_base, f_sky: 0.4, iter: False, iter_ext: True\n",
      "---------------------------\n",
      "  Individual bispectra\n",
      "    kkw = 0.48475762873568673\n",
      "    ggw = 0.25468946746395354\n",
      "    gkw = 2.9441916427955697\n",
      "    IIw (353) = 0.0876220039575732\n",
      "    Ikw (353) = 0.4723669335426469\n",
      "    Igw (353) = 3.56677535876516\n",
      "  ---------------------------\n",
      "  Optimal bispectra\n",
      "    optimal kg= 3.6052536152985555\n",
      "    optimal kI (353) = 0.6350915639665402\n",
      "    optimal Ig (353) = 3.7593716360450937\n",
      "    optimal Igk (353) = 4.754146171408288\n",
      "---------------------------\n",
      "Time = 552.3491382598877\n"
     ]
    }
   ],
   "source": [
    "exp = \"SO_base\"\n",
    "iters = [False, True, False]\n",
    "iters_ext = [False, False, True]\n",
    "for iii in range(np.size(iters)):\n",
    "    print_fishers(exp, iter=iters[iii], iter_ext=iters_ext[iii])"
   ]
  },
  {
   "cell_type": "code",
   "execution_count": 16,
   "id": "ec94fb6a",
   "metadata": {},
   "outputs": [
    {
     "name": "stdout",
     "output_type": "stream",
     "text": [
      "exp: SO_goal, f_sky: 0.4, iter: False, iter_ext: False\n",
      "---------------------------\n",
      "  Individual bispectra\n",
      "    kkw = 0.6451769806537996\n",
      "    ggw = 0.2988383754511124\n",
      "    gkw = 3.765492249679277\n",
      "    IIw (353) = 0.108108516222996\n",
      "    Ikw (353) = 0.603409397255381\n",
      "    Igw (353) = 4.303476455086354\n",
      "  ---------------------------\n",
      "  Optimal bispectra\n",
      "    optimal kg= 4.6163702727469875\n",
      "    optimal kI (353) = 0.8230112136039301\n",
      "    optimal Ig (353) = 4.540103820702129\n",
      "    optimal Igk (353) = 5.865025605362495\n",
      "---------------------------\n",
      "Time = 542.9303419589996\n",
      "exp: SO_goal, f_sky: 0.4, iter: True, iter_ext: False\n",
      "---------------------------\n",
      "  Individual bispectra\n",
      "    kkw = 0.6928202788725785\n",
      "    ggw = 0.30583098550751653\n",
      "    gkw = 3.9287173716968047\n",
      "    IIw (353) = 0.11045148175228643\n",
      "    Ikw (353) = 0.6278906521543502\n",
      "    Igw (353) = 4.398229208345247\n",
      "  ---------------------------\n",
      "  Optimal bispectra\n",
      "    optimal kg= 4.876497487872914\n",
      "    optimal kI (353) = 0.8695027491327241\n",
      "    optimal Ig (353) = 4.640279983425385\n",
      "    optimal Igk (353) = 6.092997645261477\n",
      "---------------------------\n",
      "Time = 548.6954069137573\n",
      "exp: SO_goal, f_sky: 0.4, iter: False, iter_ext: True\n",
      "---------------------------\n",
      "  Individual bispectra\n",
      "    kkw = 0.7059257577623305\n",
      "    ggw = 0.30870662656679215\n",
      "    gkw = 3.98671965111633\n",
      "    IIw (353) = 0.11153465660196345\n",
      "    Ikw (353) = 0.6361890708886283\n",
      "    Igw (353) = 4.440147925654588\n",
      "  ---------------------------\n",
      "  Optimal bispectra\n",
      "    optimal kg= 4.9555597847469635\n",
      "    optimal kI (353) = 0.8832838393527283\n",
      "    optimal Ig (353) = 4.684577047480934\n",
      "    optimal Igk (353) = 6.169808218398257\n",
      "---------------------------\n",
      "Time = 545.3681509494781\n"
     ]
    }
   ],
   "source": [
    "exp = \"SO_goal\"\n",
    "iters = [False, True, False]\n",
    "iters_ext = [False, False, True]\n",
    "for iii in range(np.size(iters)):\n",
    "    print_bi_fishers(exp, iter=iters[iii], iter_ext=iters_ext[iii])"
   ]
  },
  {
   "cell_type": "code",
   "execution_count": 5,
   "id": "bf2cb6ee",
   "metadata": {},
   "outputs": [
    {
     "name": "stdout",
     "output_type": "stream",
     "text": [
      "exp: S4_base, f_sky: 0.4, iter: False, iter_ext: False\n",
      "---------------------------\n",
      "  Individual bispectra\n",
      "    kkw = 1.7945287368170726\n",
      "    ggw = 0.591000670622384\n",
      "    gkw = 9.487015316535452\n",
      "    IIw (353) = 0.2250360488452057\n",
      "    Ikw (353) = 1.426430762898881\n",
      "    Igw (353) = 8.785195999304877\n",
      "  ---------------------------\n",
      "  Optimal bispectra\n",
      "    optimal kg= 12.105100908346602\n",
      "    optimal kI (353) = 2.1399539484352723\n",
      "    optimal Ig (353) = 9.276969941620525\n",
      "    optimal Igk (353) = 13.581272265097075\n",
      "---------------------------\n",
      "Time = 527.1745767593384\n",
      "exp: S4_base, f_sky: 0.4, iter: True, iter_ext: False\n",
      "---------------------------\n",
      "  Individual bispectra\n",
      "    kkw = 2.0152442055316135\n",
      "    ggw = 0.6198753422020853\n",
      "    gkw = 10.271338182968092\n",
      "    IIw (353) = 0.2392398706184613\n",
      "    Ikw (353) = 1.5509187612358222\n",
      "    Igw (353) = 9.27429040961\n",
      "  ---------------------------\n",
      "  Optimal bispectra\n",
      "    optimal kg= 13.273588600479057\n",
      "    optimal kI (353) = 2.376184503126182\n",
      "    optimal Ig (353) = 9.796835777564473\n",
      "    optimal Igk (353) = 14.698713385288574\n",
      "---------------------------\n",
      "Time = 516.6521019935608\n",
      "exp: S4_base, f_sky: 0.4, iter: False, iter_ext: True\n",
      "---------------------------\n",
      "  Individual bispectra\n",
      "    kkw = 2.079475742273641\n",
      "    ggw = 0.6304953141685407\n",
      "    gkw = 10.532550943617878\n",
      "    IIw (353) = 0.24432845232645362\n",
      "    Ikw (353) = 1.591086362724057\n",
      "    Igw (353) = 9.453264268535037\n",
      "  ---------------------------\n",
      "  Optimal bispectra\n",
      "    optimal kg= 13.6404766856146\n",
      "    optimal kI (353) = 2.4479416709992767\n",
      "    optimal Ig (353) = 9.986758353627723\n",
      "    optimal Igk (353) = 15.061817207625756\n",
      "---------------------------\n",
      "Time = 515.9605567455292\n"
     ]
    }
   ],
   "source": [
    "exp = \"S4_base\"\n",
    "iters = [False, True, False]\n",
    "iters_ext = [False, False, True]\n",
    "for iii in range(np.size(iters)):\n",
    "    print_bi_fishers(exp, iter=iters[iii], iter_ext=iters_ext[iii])"
   ]
  },
  {
   "cell_type": "code",
   "execution_count": 6,
   "id": "a387bd86",
   "metadata": {},
   "outputs": [
    {
     "name": "stdout",
     "output_type": "stream",
     "text": [
      "exp: S4_dp, f_sky: 0.05, iter: False, iter_ext: False\n",
      "---------------------------\n",
      "  Individual bispectra\n",
      "    kkw = 1.5065589397486199\n",
      "    ggw = 0.4531260227116296\n",
      "    gkw = 8.176378788045907\n",
      "    IIw (353) = 0.16267365880008408\n",
      "    Ikw (353) = 1.1060722995108216\n",
      "    Igw (353) = 6.537037475498257\n",
      "  ---------------------------\n",
      "  Optimal bispectra\n",
      "    optimal kg= 10.708410650985229\n",
      "    optimal kI (353) = 1.7986431548439445\n",
      "    optimal Ig (353) = 6.894273408559952\n",
      "    optimal Igk (353) = 11.349619009639161\n",
      "---------------------------\n",
      "Time = 586.8875110149384\n",
      "exp: S4_dp, f_sky: 0.05, iter: True, iter_ext: False\n",
      "---------------------------\n",
      "  Individual bispectra\n",
      "    kkw = 3.1787009029694655\n",
      "    ggw = 0.7130237574907289\n",
      "    gkw = 14.813456166111491\n",
      "    IIw (353) = 0.2902324152255326\n",
      "    Ikw (353) = 2.124278732135513\n",
      "    Igw (353) = 10.992565140103158\n",
      "  ---------------------------\n",
      "  Optimal bispectra\n",
      "    optimal kg= 20.472893304059745\n",
      "    optimal kI (353) = 3.74074896510958\n",
      "    optimal Ig (353) = 11.624366863735007\n",
      "    optimal Igk (353) = 21.296376624081724\n",
      "---------------------------\n",
      "Time = 551.8433628082275\n",
      "exp: S4_dp, f_sky: 0.05, iter: False, iter_ext: True\n",
      "---------------------------\n",
      "  Individual bispectra\n",
      "    kkw = 3.5196927970928935\n",
      "    ggw = 0.7699528114702923\n",
      "    gkw = 16.200283947646817\n",
      "    IIw (353) = 0.31686908310907214\n",
      "    Ikw (353) = 2.3333145007859932\n",
      "    Igw (353) = 11.939954232347647\n",
      "  ---------------------------\n",
      "  Optimal bispectra\n",
      "    optimal kg= 22.50813396223484\n",
      "    optimal kI (353) = 4.138355028523154\n",
      "    optimal Ig (353) = 12.629338093330968\n",
      "    optimal Igk (353) = 23.390486673234253\n",
      "---------------------------\n",
      "Time = 557.2335019111633\n"
     ]
    }
   ],
   "source": [
    "exp = \"S4_dp\"\n",
    "iters = [False, True, False]\n",
    "iters_ext = [False, False, True]\n",
    "for iii in range(np.size(iters)):\n",
    "    print_bi_fishers(exp, iter=iters[iii], iter_ext=iters_ext[iii], f_sky=0.05, qe=\"EB\")"
   ]
  },
  {
   "cell_type": "code",
   "execution_count": 8,
   "id": "25a9aab8",
   "metadata": {},
   "outputs": [
    {
     "name": "stdout",
     "output_type": "stream",
     "text": [
      "exp: HD, f_sky: 0.5, iter: False, iter_ext: False\n",
      "---------------------------\n",
      "  Individual bispectra\n",
      "    kkw = 5.064851498829515\n",
      "    ggw = 1.5625739146435857\n",
      "    gkw = 28.15439989016445\n",
      "    IIw (353) = 0.5311834524207332\n",
      "    Ikw (353) = 3.6342394136061658\n",
      "    Igw (353) = 21.969499059623406\n",
      "  ---------------------------\n",
      "  Optimal bispectra\n",
      "    optimal kg= 36.8380322090379\n",
      "    optimal kI (353) = 6.015668808826572\n",
      "    optimal Ig (353) = 23.144042870742716\n",
      "    optimal Igk (353) = 38.80415235480471\n",
      "---------------------------\n",
      "Time = 563.424115896225\n"
     ]
    }
   ],
   "source": [
    "exp = \"HD\"\n",
    "print_bi_fishers(exp, iter=False, iter_ext=False, f_sky=0.5, qe=\"TEB\")"
   ]
  },
  {
   "cell_type": "code",
   "execution_count": 13,
   "id": "3c89ca5e",
   "metadata": {},
   "outputs": [],
   "source": [
    "def print_ps_fishers(exp, Lmax=4000, f_sky=0.4, iter=False, iter_ext=False, qe=\"TEB\", gmv=True):\n",
    "    t0 = time.time()\n",
    "    fisher.setup_noise(exp=exp, iter=iter, iter_ext=iter_ext, qe=qe, gmv=gmv)\n",
    "    print(f\"exp: {exp}, f_sky: {f_sky}, iter: {iter}, iter_ext: {iter_ext}\")\n",
    "    print(\"---------------------------\")\n",
    "    F = fisher.get_rotation_ps_Fisher(Lmax, M_path=f\"{omegaqe.CACHE_DIR}/_M\", f_sky=f_sky, auto=True)\n",
    "    print(f\"  Auto ps S/N = {np.sqrt(F)}\")\n",
    "    F = fisher.get_rotation_ps_Fisher(Lmax, M_path=f\"{omegaqe.CACHE_DIR}/_M\", f_sky=f_sky, auto=False)\n",
    "    print(f\"  Cross ps S/N = {np.sqrt(F)}\")\n",
    "    print(\"---------------------------\")\n",
    "    t1 = time.time()\n",
    "    print(f\"Time = {t1-t0}\")"
   ]
  },
  {
   "cell_type": "code",
   "execution_count": 14,
   "id": "da34e882",
   "metadata": {},
   "outputs": [
    {
     "name": "stdout",
     "output_type": "stream",
     "text": [
      "exp: SO_base, f_sky: 0.4, iter: False, iter_ext: False\n",
      "---------------------------\n",
      "  Auto ps S/N = 0.04873060473334699\n",
      "  Cross ps S/N = 9.561676864448584\n",
      "---------------------------\n",
      "42.98342299461365\n",
      "exp: SO_base, f_sky: 0.4, iter: True, iter_ext: False\n",
      "---------------------------\n",
      "  Auto ps S/N = 0.052020556755490166\n",
      "  Cross ps S/N = 9.773367722640595\n",
      "---------------------------\n",
      "43.01294302940369\n",
      "exp: SO_base, f_sky: 0.4, iter: False, iter_ext: True\n",
      "---------------------------\n",
      "  Auto ps S/N = 0.05307105278351062\n",
      "  Cross ps S/N = 9.861801361493189\n",
      "---------------------------\n",
      "43.08511209487915\n"
     ]
    }
   ],
   "source": [
    "exp = \"SO_base\"\n",
    "iters = [False, True, False]\n",
    "iters_ext = [False, False, True]\n",
    "for iii in range(np.size(iters)):\n",
    "    print_ps_fishers(exp, iter=iters[iii], iter_ext=iters_ext[iii], f_sky=0.4, qe=\"TEB\")"
   ]
  },
  {
   "cell_type": "code",
   "execution_count": 15,
   "id": "739491cc",
   "metadata": {},
   "outputs": [
    {
     "name": "stdout",
     "output_type": "stream",
     "text": [
      "exp: SO_goal, f_sky: 0.4, iter: False, iter_ext: False\n",
      "---------------------------\n",
      "  Auto ps S/N = 0.08128710230339525\n",
      "  Cross ps S/N = 11.712799278365734\n",
      "---------------------------\n",
      "46.850502252578735\n",
      "exp: SO_goal, f_sky: 0.4, iter: True, iter_ext: False\n",
      "---------------------------\n",
      "  Auto ps S/N = 0.08654908754931606\n",
      "  Cross ps S/N = 11.964236558560325\n",
      "---------------------------\n",
      "42.90541195869446\n",
      "exp: SO_goal, f_sky: 0.4, iter: False, iter_ext: True\n",
      "---------------------------\n",
      "  Auto ps S/N = 0.08850196263538321\n",
      "  Cross ps S/N = 12.075381108379935\n",
      "---------------------------\n",
      "46.551088094711304\n"
     ]
    }
   ],
   "source": [
    "exp = \"SO_goal\"\n",
    "iters = [False, True, False]\n",
    "iters_ext = [False, False, True]\n",
    "for iii in range(np.size(iters)):\n",
    "    print_ps_fishers(exp, iter=iters[iii], iter_ext=iters_ext[iii])"
   ]
  },
  {
   "cell_type": "code",
   "execution_count": 16,
   "id": "4d7ca2bd",
   "metadata": {},
   "outputs": [
    {
     "name": "stdout",
     "output_type": "stream",
     "text": [
      "exp: S4_base, f_sky: 0.4, iter: False, iter_ext: False\n",
      "---------------------------\n",
      "  Auto ps S/N = 0.35164455323103944\n",
      "  Cross ps S/N = 23.528122912484946\n",
      "---------------------------\n",
      "52.09367513656616\n",
      "exp: S4_base, f_sky: 0.4, iter: True, iter_ext: False\n",
      "---------------------------\n",
      "  Auto ps S/N = 0.4107740169792724\n",
      "  Cross ps S/N = 24.682166443344933\n",
      "---------------------------\n",
      "43.45317506790161\n",
      "exp: S4_base, f_sky: 0.4, iter: False, iter_ext: True\n",
      "---------------------------\n",
      "  Auto ps S/N = 0.43065163826555164\n",
      "  Cross ps S/N = 25.1156819099088\n",
      "---------------------------\n",
      "50.099019050598145\n"
     ]
    }
   ],
   "source": [
    "exp = \"S4_base\"\n",
    "iters = [False, True, False]\n",
    "iters_ext = [False, False, True]\n",
    "for iii in range(np.size(iters)):\n",
    "    print_ps_fishers(exp, iter=iters[iii], iter_ext=iters_ext[iii])"
   ]
  },
  {
   "cell_type": "code",
   "execution_count": 17,
   "id": "9099d7b7",
   "metadata": {},
   "outputs": [
    {
     "name": "stdout",
     "output_type": "stream",
     "text": [
      "exp: S4_dp, f_sky: 0.05, iter: False, iter_ext: False\n",
      "---------------------------\n",
      "  Auto ps S/N = 0.47814357992915907\n",
      "  Cross ps S/N = 17.876962283661104\n",
      "---------------------------\n",
      "58.83611869812012\n",
      "exp: S4_dp, f_sky: 0.05, iter: True, iter_ext: False\n",
      "---------------------------\n",
      "  Auto ps S/N = 1.7468560607510686\n",
      "  Cross ps S/N = 28.391848438973245\n",
      "---------------------------\n",
      "44.669811964035034\n",
      "exp: S4_dp, f_sky: 0.05, iter: False, iter_ext: True\n",
      "---------------------------\n",
      "  Auto ps S/N = 2.1151254248792393\n",
      "  Cross ps S/N = 30.631119382087476\n",
      "---------------------------\n",
      "44.78870916366577\n"
     ]
    }
   ],
   "source": [
    "exp = \"S4_dp\"\n",
    "iters = [False, True, False]\n",
    "iters_ext = [False, False, True]\n",
    "for iii in range(np.size(iters)):\n",
    "    print_ps_fishers(exp, iter=iters[iii], iter_ext=iters_ext[iii], f_sky=0.05, qe=\"EB\")"
   ]
  },
  {
   "cell_type": "code",
   "execution_count": 18,
   "id": "a2373753",
   "metadata": {},
   "outputs": [
    {
     "name": "stdout",
     "output_type": "stream",
     "text": [
      "exp: HD, f_sky: 0.5, iter: False, iter_ext: False\n",
      "---------------------------\n",
      "  Auto ps S/N = 1.5931574943981663\n",
      "  Cross ps S/N = 61.72862801114361\n",
      "---------------------------\n",
      "43.89062213897705\n"
     ]
    }
   ],
   "source": [
    "exp = \"HD\"\n",
    "print_ps_fishers(exp, iter=False, iter_ext=False, f_sky=0.5, qe=\"TEB\")"
   ]
  }
 ],
 "metadata": {
  "kernelspec": {
   "display_name": "Python 3 (ipykernel)",
   "language": "python",
   "name": "python3"
  },
  "language_info": {
   "codemirror_mode": {
    "name": "ipython",
    "version": 3
   },
   "file_extension": ".py",
   "mimetype": "text/x-python",
   "name": "python",
   "nbconvert_exporter": "python",
   "pygments_lexer": "ipython3",
   "version": "3.10.8"
  }
 },
 "nbformat": 4,
 "nbformat_minor": 5
}
