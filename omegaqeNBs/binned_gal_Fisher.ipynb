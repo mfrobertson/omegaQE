{
 "cells": [
  {
   "cell_type": "code",
   "execution_count": 1,
   "id": "0014ac12",
   "metadata": {},
   "outputs": [],
   "source": [
    "from fisher import Fisher\n",
    "import numpy as np\n",
    "import time"
   ]
  },
  {
   "cell_type": "code",
   "execution_count": 2,
   "id": "3de5c83f",
   "metadata": {},
   "outputs": [],
   "source": [
    "Lmax = 4000\n",
    "dL = 10\n",
    "Ntheta = 10\n",
    "f_sky = 0.4\n",
    "t0 = time.time()\n",
    "N0_file = \"cache/_N0/N0_my_SO_14_14_TQU.npy\"\n",
    "fisher = Fisher(N0_file)"
   ]
  },
  {
   "cell_type": "code",
   "execution_count": 3,
   "id": "d1bb27ef",
   "metadata": {},
   "outputs": [
    {
     "name": "stdout",
     "output_type": "stream",
     "text": [
      "No foreground (S/N)\n",
      "---------------------------\n",
      "ggw = 0.5282260666155969\n",
      "---------------------------\n",
      "gal_bins = (0, 100, 0, 100)\n",
      "----------------------------\n",
      "aaw = 0.5282257398615812\n",
      "bbw = 0.5282257398615812\n",
      "----------------------------\n",
      "gal_bins = (0, 1.5, 1.5, 3)\n",
      "----------------------------\n",
      "aaw = 0.3152042226030542\n",
      "bbw = 0.03206975952980189\n",
      "abw = 5.34866272863866\n",
      "baw = 5.348662728638661\n",
      "opt a = 0.3152042226030542\n",
      "opt b = 0.03206975952980189\n",
      "opt ab = 5.35803836829781\n",
      "opt abk = 10.40084512824335\n",
      "opt abI = 6.787415839495797\n",
      "----------------------------\n",
      "gal_bins = (0, 1.75, 1.75, 3.5)\n",
      "----------------------------\n",
      "aaw = 0.3839936889051515\n",
      "bbw = 0.019633177610822734\n",
      "abw = 5.4023610194482075\n",
      "baw = 5.402361019448207\n",
      "opt a = 0.3839936889051515\n",
      "opt b = 0.019633177610822734\n",
      "opt ab = 5.416026329259815\n",
      "opt abk = 10.363828137655654\n",
      "opt abI = 6.8345928080436344\n",
      "----------------------------\n",
      "gal_bins = (0, 1.167, 1.167, 2.33, 2.33, 3.5)\n",
      "----------------------------\n",
      "opt abc = 6.888317100956845\n",
      "opt abck = 10.811720465456357\n",
      "opt abckI = 10.53291447886897\n",
      "----------------------------\n",
      "gal_bins = (0, 0.875, 0.875, 1.75, 1.75, 2.625, 2.625, 3.5)\n",
      "----------------------------\n",
      "opt abcd = 7.541757539616586\n",
      "opt abcdk = 11.077413533373116\n",
      "Time = 1974.7967660427094\n"
     ]
    }
   ],
   "source": [
    "t0 = time.time()\n",
    "print(\"No foreground (S/N)\")\n",
    "print(\"---------------------------\")\n",
    "F = fisher.get_bispectrum_Fisher(\"ggw\", Lmax, dL, Ntheta=Ntheta, f_sky=f_sky)\n",
    "print(f\"ggw = {np.sqrt(F)}\")\n",
    "print(\"---------------------------\")\n",
    "gal_bins = (0,100,0,100)\n",
    "print(f\"gal_bins = {gal_bins}\")\n",
    "print(\"----------------------------\")\n",
    "F = fisher.get_bispectrum_Fisher(\"aaw\", Lmax, dL, Ntheta=Ntheta, f_sky=f_sky, gal_bins=gal_bins)\n",
    "print(f\"aaw = {np.sqrt(F)}\")\n",
    "F = fisher.get_bispectrum_Fisher(\"bbw\", Lmax, dL, Ntheta=Ntheta, f_sky=f_sky, gal_bins=gal_bins)\n",
    "print(f\"bbw = {np.sqrt(F)}\")\n",
    "print(\"----------------------------\")\n",
    "gal_bins = (0,1.5,1.5,3)\n",
    "print(f\"gal_bins = {gal_bins}\")\n",
    "print(\"----------------------------\")\n",
    "F = fisher.get_bispectrum_Fisher(\"aaw\", Lmax, dL, Ntheta=Ntheta, f_sky=f_sky, gal_bins=gal_bins)\n",
    "print(f\"aaw = {np.sqrt(F)}\")\n",
    "F = fisher.get_bispectrum_Fisher(\"bbw\", Lmax, dL, Ntheta=Ntheta, f_sky=f_sky, gal_bins=gal_bins)\n",
    "print(f\"bbw = {np.sqrt(F)}\")\n",
    "F = fisher.get_bispectrum_Fisher(\"abw\", Lmax, dL, Ntheta=Ntheta, f_sky=f_sky, gal_bins=gal_bins)\n",
    "print(f\"abw = {np.sqrt(F)}\")\n",
    "F = fisher.get_bispectrum_Fisher(\"baw\", Lmax, dL, Ntheta=Ntheta, f_sky=f_sky, gal_bins=gal_bins)\n",
    "print(f\"baw = {np.sqrt(F)}\")\n",
    "F = fisher.get_optimal_bispectrum_Fisher(\"a\", Lmax, dL, Ntheta=Ntheta, f_sky=f_sky, gal_bins=gal_bins)\n",
    "print(f\"opt a = {np.sqrt(F)}\")\n",
    "F = fisher.get_optimal_bispectrum_Fisher(\"b\", Lmax, dL, Ntheta=Ntheta, f_sky=f_sky, gal_bins=gal_bins)\n",
    "print(f\"opt b = {np.sqrt(F)}\")\n",
    "F = fisher.get_optimal_bispectrum_Fisher(\"ab\", Lmax, dL, Ntheta=Ntheta, f_sky=f_sky, gal_bins=gal_bins)\n",
    "print(f\"opt ab = {np.sqrt(F)}\")\n",
    "F = fisher.get_optimal_bispectrum_Fisher(\"abk\", Lmax, dL, Ntheta=Ntheta, f_sky=f_sky, gal_bins=gal_bins)\n",
    "print(f\"opt abk = {np.sqrt(F)}\")\n",
    "F = fisher.get_optimal_bispectrum_Fisher(\"abI\", Lmax, dL, Ntheta=Ntheta, f_sky=f_sky, gal_bins=gal_bins)\n",
    "print(f\"opt abI = {np.sqrt(F)}\")\n",
    "print(\"----------------------------\")\n",
    "gal_bins = (0,1.75,1.75,3.5)\n",
    "print(f\"gal_bins = {gal_bins}\")\n",
    "print(\"----------------------------\")\n",
    "F = fisher.get_bispectrum_Fisher(\"aaw\", Lmax, dL, Ntheta=Ntheta, f_sky=f_sky, gal_bins=gal_bins)\n",
    "print(f\"aaw = {np.sqrt(F)}\")\n",
    "F = fisher.get_bispectrum_Fisher(\"bbw\", Lmax, dL, Ntheta=Ntheta, f_sky=f_sky, gal_bins=gal_bins)\n",
    "print(f\"bbw = {np.sqrt(F)}\")\n",
    "F = fisher.get_bispectrum_Fisher(\"abw\", Lmax, dL, Ntheta=Ntheta, f_sky=f_sky, gal_bins=gal_bins)\n",
    "print(f\"abw = {np.sqrt(F)}\")\n",
    "F = fisher.get_bispectrum_Fisher(\"baw\", Lmax, dL, Ntheta=Ntheta, f_sky=f_sky, gal_bins=gal_bins)\n",
    "print(f\"baw = {np.sqrt(F)}\")\n",
    "F = fisher.get_optimal_bispectrum_Fisher(\"a\", Lmax, dL, Ntheta=Ntheta, f_sky=f_sky, gal_bins=gal_bins)\n",
    "print(f\"opt a = {np.sqrt(F)}\")\n",
    "F = fisher.get_optimal_bispectrum_Fisher(\"b\", Lmax, dL, Ntheta=Ntheta, f_sky=f_sky, gal_bins=gal_bins)\n",
    "print(f\"opt b = {np.sqrt(F)}\")\n",
    "F = fisher.get_optimal_bispectrum_Fisher(\"ab\", Lmax, dL, Ntheta=Ntheta, f_sky=f_sky, gal_bins=gal_bins)\n",
    "print(f\"opt ab = {np.sqrt(F)}\")\n",
    "F = fisher.get_optimal_bispectrum_Fisher(\"abk\", Lmax, dL, Ntheta=Ntheta, f_sky=f_sky, gal_bins=gal_bins)\n",
    "print(f\"opt abk = {np.sqrt(F)}\")\n",
    "F = fisher.get_optimal_bispectrum_Fisher(\"abI\", Lmax, dL, Ntheta=Ntheta, f_sky=f_sky, gal_bins=gal_bins)\n",
    "print(f\"opt abI = {np.sqrt(F)}\")\n",
    "print(\"----------------------------\")\n",
    "gal_bins = (0,1.167,1.167,2.33,2.33,3.5)\n",
    "print(f\"gal_bins = {gal_bins}\")\n",
    "print(\"----------------------------\")\n",
    "F = fisher.get_optimal_bispectrum_Fisher(\"abc\", Lmax, dL, Ntheta=Ntheta, f_sky=f_sky, gal_bins=gal_bins)\n",
    "print(f\"opt abc = {np.sqrt(F)}\")\n",
    "F = fisher.get_optimal_bispectrum_Fisher(\"abck\", Lmax, dL, Ntheta=Ntheta, f_sky=f_sky, gal_bins=gal_bins)\n",
    "print(f\"opt abck = {np.sqrt(F)}\")\n",
    "F = fisher.get_optimal_bispectrum_Fisher(\"abckI\", Lmax, dL, Ntheta=Ntheta, f_sky=f_sky, gal_bins=gal_bins)\n",
    "print(f\"opt abckI = {np.sqrt(F)}\")\n",
    "print(\"----------------------------\")\n",
    "gal_bins = (0,0.875,0.875,1.75,1.75,2.625, 2.625, 3.5)\n",
    "print(f\"gal_bins = {gal_bins}\")\n",
    "print(\"----------------------------\")\n",
    "F = fisher.get_optimal_bispectrum_Fisher(\"abcd\", Lmax, dL, Ntheta=Ntheta, f_sky=f_sky, gal_bins=gal_bins)\n",
    "print(f\"opt abcd = {np.sqrt(F)}\")\n",
    "F = fisher.get_optimal_bispectrum_Fisher(\"abcdk\", Lmax, dL, Ntheta=Ntheta, f_sky=f_sky, gal_bins=gal_bins)\n",
    "print(f\"opt abcdk = {np.sqrt(F)}\")\n",
    "t1 = time.time()\n",
    "print(f\"Time = {t1 - t0}\")"
   ]
  },
  {
   "cell_type": "code",
   "execution_count": 3,
   "id": "e4db98a5",
   "metadata": {},
   "outputs": [
    {
     "name": "stdout",
     "output_type": "stream",
     "text": [
      "No foreground (S/N)\n",
      "---------------------------\n",
      "ggw = 0.5282260666155969\n",
      "---------------------------\n",
      "gal_bins = (0, 100, 0, 100)\n",
      "----------------------------\n",
      "aaw = 0.5282257398615812\n",
      "bbw = 0.5282257398615812\n",
      "----------------------------\n",
      "gal_bins = (0, 0.96285, 0.96285, 4)\n",
      "----------------------------\n",
      "aaw = 0.15087563940301557\n",
      "bbw = 0.1377132522829704\n",
      "abw = 5.074652966223862\n",
      "baw = 5.074652966223863\n",
      "opt a = 0.15087563940301557\n",
      "opt b = 0.1377132522829704\n",
      "opt ab = 5.078762755438008\n",
      "opt abk = 10.421109193934452\n",
      "opt abI = 6.751571533252578\n",
      "----------------------------\n",
      "gal_bins = (0, 2, 2, 4)\n",
      "----------------------------\n",
      "aaw = 0.4422106594374761\n",
      "bbw = 0.013534663616963115\n",
      "abw = 5.264197456973897\n",
      "baw = 5.2641974569739\n",
      "opt a = 0.4422106594374761\n",
      "opt b = 0.013534663616963115\n",
      "opt ab = 5.2827557505954985\n",
      "opt abk = 10.280950227430507\n",
      "opt abI = 6.8728049545742715\n",
      "----------------------------\n",
      "Time = 747.1556520462036\n"
     ]
    }
   ],
   "source": [
    "# 2 bins\n",
    "t0 = time.time()\n",
    "print(\"No foreground (S/N)\")\n",
    "print(\"---------------------------\")\n",
    "F = fisher.get_bispectrum_Fisher(\"ggw\", Lmax, dL, Ntheta=Ntheta, f_sky=f_sky)\n",
    "print(f\"ggw = {np.sqrt(F)}\")\n",
    "print(\"---------------------------\")\n",
    "gal_bins = (0,100,0,100)\n",
    "print(f\"gal_bins = {gal_bins}\")\n",
    "print(\"----------------------------\")\n",
    "F = fisher.get_bispectrum_Fisher(\"aaw\", Lmax, dL, Ntheta=Ntheta, f_sky=f_sky, gal_bins=gal_bins)\n",
    "print(f\"aaw = {np.sqrt(F)}\")\n",
    "F = fisher.get_bispectrum_Fisher(\"bbw\", Lmax, dL, Ntheta=Ntheta, f_sky=f_sky, gal_bins=gal_bins)\n",
    "print(f\"bbw = {np.sqrt(F)}\")\n",
    "print(\"----------------------------\")\n",
    "gal_bins = (0,0.96285,0.96285,4)\n",
    "print(f\"gal_bins = {gal_bins}\")\n",
    "print(\"----------------------------\")\n",
    "F = fisher.get_bispectrum_Fisher(\"aaw\", Lmax, dL, Ntheta=Ntheta, f_sky=f_sky, gal_bins=gal_bins)\n",
    "print(f\"aaw = {np.sqrt(F)}\")\n",
    "F = fisher.get_bispectrum_Fisher(\"bbw\", Lmax, dL, Ntheta=Ntheta, f_sky=f_sky, gal_bins=gal_bins)\n",
    "print(f\"bbw = {np.sqrt(F)}\")\n",
    "F = fisher.get_bispectrum_Fisher(\"abw\", Lmax, dL, Ntheta=Ntheta, f_sky=f_sky, gal_bins=gal_bins)\n",
    "print(f\"abw = {np.sqrt(F)}\")\n",
    "F = fisher.get_bispectrum_Fisher(\"baw\", Lmax, dL, Ntheta=Ntheta, f_sky=f_sky, gal_bins=gal_bins)\n",
    "print(f\"baw = {np.sqrt(F)}\")\n",
    "F = fisher.get_optimal_bispectrum_Fisher(\"a\", Lmax, dL, Ntheta=Ntheta, f_sky=f_sky, gal_bins=gal_bins)\n",
    "print(f\"opt a = {np.sqrt(F)}\")\n",
    "F = fisher.get_optimal_bispectrum_Fisher(\"b\", Lmax, dL, Ntheta=Ntheta, f_sky=f_sky, gal_bins=gal_bins)\n",
    "print(f\"opt b = {np.sqrt(F)}\")\n",
    "F = fisher.get_optimal_bispectrum_Fisher(\"ab\", Lmax, dL, Ntheta=Ntheta, f_sky=f_sky, gal_bins=gal_bins)\n",
    "print(f\"opt ab = {np.sqrt(F)}\")\n",
    "F = fisher.get_optimal_bispectrum_Fisher(\"abk\", Lmax, dL, Ntheta=Ntheta, f_sky=f_sky, gal_bins=gal_bins)\n",
    "print(f\"opt abk = {np.sqrt(F)}\")\n",
    "F = fisher.get_optimal_bispectrum_Fisher(\"abI\", Lmax, dL, Ntheta=Ntheta, f_sky=f_sky, gal_bins=gal_bins)\n",
    "print(f\"opt abI = {np.sqrt(F)}\")\n",
    "print(\"----------------------------\")\n",
    "gal_bins = (0,2,2,4)\n",
    "print(f\"gal_bins = {gal_bins}\")\n",
    "print(\"----------------------------\")\n",
    "F = fisher.get_bispectrum_Fisher(\"aaw\", Lmax, dL, Ntheta=Ntheta, f_sky=f_sky, gal_bins=gal_bins)\n",
    "print(f\"aaw = {np.sqrt(F)}\")\n",
    "F = fisher.get_bispectrum_Fisher(\"bbw\", Lmax, dL, Ntheta=Ntheta, f_sky=f_sky, gal_bins=gal_bins)\n",
    "print(f\"bbw = {np.sqrt(F)}\")\n",
    "F = fisher.get_bispectrum_Fisher(\"abw\", Lmax, dL, Ntheta=Ntheta, f_sky=f_sky, gal_bins=gal_bins)\n",
    "print(f\"abw = {np.sqrt(F)}\")\n",
    "F = fisher.get_bispectrum_Fisher(\"baw\", Lmax, dL, Ntheta=Ntheta, f_sky=f_sky, gal_bins=gal_bins)\n",
    "print(f\"baw = {np.sqrt(F)}\")\n",
    "F = fisher.get_optimal_bispectrum_Fisher(\"a\", Lmax, dL, Ntheta=Ntheta, f_sky=f_sky, gal_bins=gal_bins)\n",
    "print(f\"opt a = {np.sqrt(F)}\")\n",
    "F = fisher.get_optimal_bispectrum_Fisher(\"b\", Lmax, dL, Ntheta=Ntheta, f_sky=f_sky, gal_bins=gal_bins)\n",
    "print(f\"opt b = {np.sqrt(F)}\")\n",
    "F = fisher.get_optimal_bispectrum_Fisher(\"ab\", Lmax, dL, Ntheta=Ntheta, f_sky=f_sky, gal_bins=gal_bins)\n",
    "print(f\"opt ab = {np.sqrt(F)}\")\n",
    "F = fisher.get_optimal_bispectrum_Fisher(\"abk\", Lmax, dL, Ntheta=Ntheta, f_sky=f_sky, gal_bins=gal_bins)\n",
    "print(f\"opt abk = {np.sqrt(F)}\")\n",
    "F = fisher.get_optimal_bispectrum_Fisher(\"abI\", Lmax, dL, Ntheta=Ntheta, f_sky=f_sky, gal_bins=gal_bins)\n",
    "print(f\"opt abI = {np.sqrt(F)}\")\n",
    "print(\"----------------------------\")\n",
    "\n",
    "t1 = time.time()\n",
    "print(f\"Time = {t1 - t0}\")"
   ]
  },
  {
   "cell_type": "code",
   "execution_count": 5,
   "id": "0d5955b2",
   "metadata": {},
   "outputs": [
    {
     "name": "stdout",
     "output_type": "stream",
     "text": [
      "gal_bins = (0, 0.73932, 0.73932, 1.22565, 1.22565, 4)\n",
      "----------------------------\n",
      "opt a = 0.10324055377762922\n",
      "opt b = 0.027806749065651646\n",
      "opt c = 0.06964215621903114\n",
      "opt abc = 5.990840892130832\n",
      "opt abck = 10.708007702194402\n",
      "----------------------------\n",
      "gal_bins = (0, 1.33, 1.33, 2.67, 2.67, 4)\n",
      "----------------------------\n",
      "opt a = 0.26810436331544873\n",
      "opt b = 0.04519643818620768\n",
      "opt c = 0.003310353999888168\n",
      "opt abc = 6.868003915955589\n",
      "opt abck = 10.823913168972975\n"
     ]
    }
   ],
   "source": [
    "# 3 bins\n",
    "gal_bins = (0,0.73932,0.73932,1.22565, 1.22565,4)\n",
    "print(f\"gal_bins = {gal_bins}\")\n",
    "print(\"----------------------------\")\n",
    "F = fisher.get_optimal_bispectrum_Fisher(\"a\", Lmax, dL, Ntheta=Ntheta, f_sky=f_sky, gal_bins=gal_bins)\n",
    "print(f\"opt a = {np.sqrt(F)}\")\n",
    "F = fisher.get_optimal_bispectrum_Fisher(\"b\", Lmax, dL, Ntheta=Ntheta, f_sky=f_sky, gal_bins=gal_bins)\n",
    "print(f\"opt b = {np.sqrt(F)}\")\n",
    "F = fisher.get_optimal_bispectrum_Fisher(\"c\", Lmax, dL, Ntheta=Ntheta, f_sky=f_sky, gal_bins=gal_bins)\n",
    "print(f\"opt c = {np.sqrt(F)}\")\n",
    "F = fisher.get_optimal_bispectrum_Fisher(\"abc\", Lmax, dL, Ntheta=Ntheta, f_sky=f_sky, gal_bins=gal_bins)\n",
    "print(f\"opt abc = {np.sqrt(F)}\")\n",
    "F = fisher.get_optimal_bispectrum_Fisher(\"abck\", Lmax, dL, Ntheta=Ntheta, f_sky=f_sky, gal_bins=gal_bins)\n",
    "print(f\"opt abck = {np.sqrt(F)}\")\n",
    "print(\"----------------------------\")\n",
    "gal_bins = (0,1.33,1.33,2.67,2.67,4)\n",
    "print(f\"gal_bins = {gal_bins}\")\n",
    "print(\"----------------------------\")\n",
    "F = fisher.get_optimal_bispectrum_Fisher(\"a\", Lmax, dL, Ntheta=Ntheta, f_sky=f_sky, gal_bins=gal_bins)\n",
    "print(f\"opt a = {np.sqrt(F)}\")\n",
    "F = fisher.get_optimal_bispectrum_Fisher(\"b\", Lmax, dL, Ntheta=Ntheta, f_sky=f_sky, gal_bins=gal_bins)\n",
    "print(f\"opt b = {np.sqrt(F)}\")\n",
    "F = fisher.get_optimal_bispectrum_Fisher(\"c\", Lmax, dL, Ntheta=Ntheta, f_sky=f_sky, gal_bins=gal_bins)\n",
    "print(f\"opt c = {np.sqrt(F)}\")\n",
    "F = fisher.get_optimal_bispectrum_Fisher(\"abc\", Lmax, dL, Ntheta=Ntheta, f_sky=f_sky, gal_bins=gal_bins)\n",
    "print(f\"opt abc = {np.sqrt(F)}\")\n",
    "F = fisher.get_optimal_bispectrum_Fisher(\"abck\", Lmax, dL, Ntheta=Ntheta, f_sky=f_sky, gal_bins=gal_bins)\n",
    "print(f\"opt abck = {np.sqrt(F)}\")"
   ]
  },
  {
   "cell_type": "code",
   "execution_count": 6,
   "id": "6084652b",
   "metadata": {},
   "outputs": [
    {
     "name": "stdout",
     "output_type": "stream",
     "text": [
      "gal_bins = (0, 0.6298, 0.6298, 0.96285, 0.96285, 1.3932, 1.3932, 4)\n",
      "----------------------------\n",
      "opt abcd = 6.629637244376625\n",
      "opt abcdk = 11.03166870154426\n",
      "----------------------------\n",
      "gal_bins = (0, 1, 1, 2, 2, 3, 3, 4)\n",
      "----------------------------\n",
      "opt abcd = 7.504630072325845\n",
      "opt abcdk = 11.09892517101597\n"
     ]
    }
   ],
   "source": [
    "# 4 bins\n",
    "gal_bins = (0,0.6298,0.6298,0.96285,0.96285,1.3932, 1.3932, 4)\n",
    "print(f\"gal_bins = {gal_bins}\")\n",
    "print(\"----------------------------\")\n",
    "F = fisher.get_optimal_bispectrum_Fisher(\"abcd\", Lmax, dL, Ntheta=Ntheta, f_sky=f_sky, gal_bins=gal_bins)\n",
    "print(f\"opt abcd = {np.sqrt(F)}\")\n",
    "F = fisher.get_optimal_bispectrum_Fisher(\"abcdk\", Lmax, dL, Ntheta=Ntheta, f_sky=f_sky, gal_bins=gal_bins)\n",
    "print(f\"opt abcdk = {np.sqrt(F)}\")\n",
    "print(\"----------------------------\")\n",
    "gal_bins = (0,1,1,2,2,3, 3,4)\n",
    "print(f\"gal_bins = {gal_bins}\")\n",
    "print(\"----------------------------\")\n",
    "F = fisher.get_optimal_bispectrum_Fisher(\"abcd\", Lmax, dL, Ntheta=Ntheta, f_sky=f_sky, gal_bins=gal_bins)\n",
    "print(f\"opt abcd = {np.sqrt(F)}\")\n",
    "F = fisher.get_optimal_bispectrum_Fisher(\"abcdk\", Lmax, dL, Ntheta=Ntheta, f_sky=f_sky, gal_bins=gal_bins)\n",
    "print(f\"opt abcdk = {np.sqrt(F)}\")"
   ]
  },
  {
   "cell_type": "code",
   "execution_count": 7,
   "id": "793e2340",
   "metadata": {},
   "outputs": [
    {
     "name": "stdout",
     "output_type": "stream",
     "text": [
      "gal_bins = (0, 0.5613, 0.5613, 0.8267, 0.8267, 1.1126, 1.1126, 1.5155, 1.5155, 4)\n",
      "----------------------------\n",
      "opt abcde = 6.9505401164837\n",
      "opt abcdek = 11.230185243478374\n",
      "----------------------------\n",
      "gal_bins = (0, 0.8, 0.8, 1.6, 1.6, 2.4, 2.4, 3.2, 3.2, 4)\n",
      "----------------------------\n",
      "opt abcde = 8.017634421180729\n",
      "opt abcdek = 11.318527555041896\n"
     ]
    }
   ],
   "source": [
    "# 5 bins\n",
    "gal_bins = (0,0.5613, 0.5613, 0.8267, 0.8267, 1.1126, 1.1126, 1.5155, 1.5155, 4)\n",
    "print(f\"gal_bins = {gal_bins}\")\n",
    "print(\"----------------------------\")\n",
    "F = fisher.get_optimal_bispectrum_Fisher(\"abcde\", Lmax, dL, Ntheta=Ntheta, f_sky=f_sky, gal_bins=gal_bins)\n",
    "print(f\"opt abcde = {np.sqrt(F)}\")\n",
    "F = fisher.get_optimal_bispectrum_Fisher(\"abcdek\", Lmax, dL, Ntheta=Ntheta, f_sky=f_sky, gal_bins=gal_bins)\n",
    "print(f\"opt abcdek = {np.sqrt(F)}\")\n",
    "print(\"----------------------------\")\n",
    "gal_bins = (0,0.8, 0.8, 1.6, 1.6, 2.4, 2.4, 3.2, 3.2, 4)\n",
    "print(f\"gal_bins = {gal_bins}\")\n",
    "print(\"----------------------------\")\n",
    "F = fisher.get_optimal_bispectrum_Fisher(\"abcde\", Lmax, dL, Ntheta=Ntheta, f_sky=f_sky, gal_bins=gal_bins)\n",
    "print(f\"opt abcde = {np.sqrt(F)}\")\n",
    "F = fisher.get_optimal_bispectrum_Fisher(\"abcdek\", Lmax, dL, Ntheta=Ntheta, f_sky=f_sky, gal_bins=gal_bins)\n",
    "print(f\"opt abcdek = {np.sqrt(F)}\")"
   ]
  },
  {
   "cell_type": "code",
   "execution_count": 8,
   "id": "e51f1faa",
   "metadata": {},
   "outputs": [
    {
     "name": "stdout",
     "output_type": "stream",
     "text": [
      "gal_bins = (0, 0.51319, 0.51319, 0.73927, 0.73927, 0.96259, 0.96259, 1.22557, 1.22557, 1.61116, 1.61116, 4)\n",
      "----------------------------\n",
      "opt abcdef = 7.1238590072992345\n",
      "opt abcdefk = 11.20490975773811\n",
      "----------------------------\n",
      "gal_bins = (0, 0.6666, 0.6666, 1.3333, 1.3333, 2.0, 2.0, 2.6666, 2.6666, 3.3333, 3.3333, 4.0)\n",
      "----------------------------\n",
      "opt abcdef = 8.408934924435044\n",
      "opt abcdefk = 11.435411387130875\n"
     ]
    }
   ],
   "source": [
    "# 6 bins\n",
    "gal_bins = (0,0.51319, 0.51319, 0.73927, 0.73927, 0.96259, 0.96259, 1.22557, 1.22557, 1.61116, 1.61116, 4)\n",
    "print(f\"gal_bins = {gal_bins}\")\n",
    "print(\"----------------------------\")\n",
    "F = fisher.get_optimal_bispectrum_Fisher(\"abcdef\", Lmax, dL, Ntheta=Ntheta, f_sky=f_sky, gal_bins=gal_bins)\n",
    "print(f\"opt abcdef = {np.sqrt(F)}\")\n",
    "F = fisher.get_optimal_bispectrum_Fisher(\"abcdefk\", Lmax, dL, Ntheta=Ntheta, f_sky=f_sky, gal_bins=gal_bins)\n",
    "print(f\"opt abcdefk = {np.sqrt(F)}\")\n",
    "print(\"----------------------------\")\n",
    "gal_bins = (0, 0.6666, 0.6666, 1.3333, 1.3333, 2.0, 2.0, 2.6666, 2.6666, 3.3333, 3.3333, 4.0)\n",
    "print(f\"gal_bins = {gal_bins}\")\n",
    "print(\"----------------------------\")\n",
    "F = fisher.get_optimal_bispectrum_Fisher(\"abcdef\", Lmax, dL, Ntheta=Ntheta, f_sky=f_sky, gal_bins=gal_bins)\n",
    "print(f\"opt abcdef = {np.sqrt(F)}\")\n",
    "F = fisher.get_optimal_bispectrum_Fisher(\"abcdefk\", Lmax, dL, Ntheta=Ntheta, f_sky=f_sky, gal_bins=gal_bins)\n",
    "print(f\"opt abcdefk = {np.sqrt(F)}\")"
   ]
  },
  {
   "cell_type": "code",
   "execution_count": 3,
   "id": "c9a82ed2",
   "metadata": {},
   "outputs": [
    {
     "name": "stdout",
     "output_type": "stream",
     "text": [
      "gal_bins = (0, 0.6666, 0.6666, 1.3333, 1.3333, 2.0, 2.0, 2.6666, 2.6666, 3.3333, 3.3333, 4.0)\n",
      "----------------------------\n",
      "Matrix([[aa, ab, ac, ad, ae, az, ay], [ba, bb, bc, bd, be, bz, by], [ca, cb, cc, cd, ce, cz, cy], [da, db, dc, dd, de, dz, dy], [ea, eb, ec, ed, ee, ez, ey], [za, zb, zc, zd, ze, zz, zy], [ya, yb, yc, yd, ye, yz, yy]])\n",
      "opt abcdefI = 8.896916151083005\n",
      "Matrix([[aa, ab, ac, ad, ae, az, ak, ay], [ba, bb, bc, bd, be, bz, bk, by], [ca, cb, cc, cd, ce, cz, ck, cy], [da, db, dc, dd, de, dz, dk, dy], [ea, eb, ec, ed, ee, ez, ek, ey], [za, zb, zc, zd, ze, zz, zk, zy], [ka, kb, kc, kd, ke, kz, kk, ky], [ya, yb, yc, yd, ye, yz, yk, yy]])\n",
      "opt abcdefkI = 11.760495562765087\n"
     ]
    }
   ],
   "source": [
    "gal_bins = (0, 0.6666, 0.6666, 1.3333, 1.3333, 2.0, 2.0, 2.6666, 2.6666, 3.3333, 3.3333, 4.0)\n",
    "print(f\"gal_bins = {gal_bins}\")\n",
    "print(\"----------------------------\")\n",
    "F = fisher.get_optimal_bispectrum_Fisher(\"abcdefI\", Lmax, dL, Ntheta=Ntheta, f_sky=f_sky, gal_bins=gal_bins)\n",
    "print(f\"opt abcdefI = {np.sqrt(F)}\")\n",
    "F = fisher.get_optimal_bispectrum_Fisher(\"abcdefkI\", Lmax, dL, Ntheta=Ntheta, f_sky=f_sky, gal_bins=gal_bins)\n",
    "print(f\"opt abcdefkI = {np.sqrt(F)}\")"
   ]
  },
  {
   "cell_type": "code",
   "execution_count": 9,
   "id": "4ed07ba8",
   "metadata": {},
   "outputs": [
    {
     "name": "stdout",
     "output_type": "stream",
     "text": [
      "gal_bins = (0, 2.0, 2.0, 2.4, 2.4, 2.8, 2.8, 3.2, 3.2, 3.6, 3.6, 4)\n",
      "----------------------------\n",
      "opt abcdef = 6.719196006493848\n",
      "opt abcdefk = 10.545007296895758\n"
     ]
    }
   ],
   "source": [
    "# 6 bins\n",
    "gal_bins = (0, 2.0, 2.0, 2.4, 2.4, 2.8, 2.8, 3.2, 3.2, 3.6, 3.6, 4)\n",
    "print(f\"gal_bins = {gal_bins}\")\n",
    "print(\"----------------------------\")\n",
    "F = fisher.get_optimal_bispectrum_Fisher(\"abcdef\", Lmax, dL, Ntheta=Ntheta, f_sky=f_sky, gal_bins=gal_bins)\n",
    "print(f\"opt abcdef = {np.sqrt(F)}\")\n",
    "F = fisher.get_optimal_bispectrum_Fisher(\"abcdefk\", Lmax, dL, Ntheta=Ntheta, f_sky=f_sky, gal_bins=gal_bins)\n",
    "print(f\"opt abcdefk = {np.sqrt(F)}\")"
   ]
  },
  {
   "cell_type": "code",
   "execution_count": 4,
   "id": "fc6a527c",
   "metadata": {},
   "outputs": [
    {
     "name": "stdout",
     "output_type": "stream",
     "text": [
      "gal_bins = (0, 0.7, 0.7, 1.4, 1.4, 2.0999999999999996, 2.0999999999999996, 2.8, 2.8, 3.5)\n",
      "----------------------------\n",
      "opt abcde = 7.895208666018842\n",
      "opt abcdek = 11.285136531915384\n",
      "Time = 377.34975385665894\n"
     ]
    }
   ],
   "source": [
    "t0 = time.time()\n",
    "bin_max = 3.5\n",
    "Nbins = 5\n",
    "bin_width = bin_max/Nbins\n",
    "gal_bins = (0,bin_width,bin_width,2*bin_width,2*bin_width,3*bin_width, 3*bin_width, 4*bin_width, 4*bin_width, 5*bin_width)\n",
    "print(f\"gal_bins = {gal_bins}\")\n",
    "print(\"----------------------------\")\n",
    "F = fisher.get_optimal_bispectrum_Fisher(\"abcde\", Lmax, dL, Ntheta=Ntheta, f_sky=f_sky, gal_bins=gal_bins)\n",
    "print(f\"opt abcde = {np.sqrt(F)}\")\n",
    "F = fisher.get_optimal_bispectrum_Fisher(\"abcdek\", Lmax, dL, Ntheta=Ntheta, f_sky=f_sky, gal_bins=gal_bins)\n",
    "print(f\"opt abcdek = {np.sqrt(F)}\")\n",
    "t1 = time.time()\n",
    "print(f\"Time = {t1 - t0}\")"
   ]
  },
  {
   "cell_type": "code",
   "execution_count": 3,
   "id": "04ca0a75",
   "metadata": {},
   "outputs": [
    {
     "name": "stdout",
     "output_type": "stream",
     "text": [
      "gal_bins = (0, 0.5833333333333334, 0.5833333333333334, 1.1666666666666667, 1.1666666666666667, 1.75, 1.75, 2.3333333333333335, 2.3333333333333335, 2.916666666666667, 2.916666666666667, 3.5)\n",
      "----------------------------\n",
      "opt abcdef = 8.20969327711367\n",
      "opt abcdefk = 11.421239802140292\n",
      "Time = 1860.6513409614563\n"
     ]
    }
   ],
   "source": [
    "t0 = time.time()\n",
    "bin_max = 3.5\n",
    "Nbins = 6\n",
    "bin_width = bin_max/Nbins\n",
    "gal_bins = (0,bin_width,bin_width,2*bin_width,2*bin_width,3*bin_width, 3*bin_width, 4*bin_width, 4*bin_width, 5*bin_width, 5*bin_width, 6*bin_width)\n",
    "print(f\"gal_bins = {gal_bins}\")\n",
    "print(\"----------------------------\")\n",
    "F = fisher.get_optimal_bispectrum_Fisher(\"abcdef\", Lmax, dL, Ntheta=Ntheta, f_sky=f_sky, gal_bins=gal_bins)\n",
    "print(f\"opt abcdef = {np.sqrt(F)}\")\n",
    "F = fisher.get_optimal_bispectrum_Fisher(\"abcdefk\", Lmax, dL, Ntheta=Ntheta, f_sky=f_sky, gal_bins=gal_bins)\n",
    "print(f\"opt abcdefk = {np.sqrt(F)}\")\n",
    "t1 = time.time()\n",
    "print(f\"Time = {t1 - t0}\")"
   ]
  },
  {
   "cell_type": "code",
   "execution_count": 4,
   "id": "72c51fdd",
   "metadata": {},
   "outputs": [
    {
     "name": "stdout",
     "output_type": "stream",
     "text": [
      "gal_bins = (0, 0.6666666666666666, 0.6666666666666666, 1.3333333333333333, 1.3333333333333333, 2.0, 2.0, 2.6666666666666665, 2.6666666666666665, 3.333333333333333, 3.333333333333333, 4.0)\n",
      "----------------------------\n",
      "opt abcdef = 8.408892072889161\n",
      "opt abcdefk = 11.435397699236193\n",
      "Time = 1780.8932120800018\n"
     ]
    }
   ],
   "source": [
    "t0 = time.time()\n",
    "bin_max = 4\n",
    "Nbins = 6\n",
    "bin_width = bin_max/Nbins\n",
    "gal_bins = (0,bin_width,bin_width,2*bin_width,2*bin_width,3*bin_width, 3*bin_width, 4*bin_width, 4*bin_width, 5*bin_width, 5*bin_width, 6*bin_width)\n",
    "print(f\"gal_bins = {gal_bins}\")\n",
    "print(\"----------------------------\")\n",
    "F = fisher.get_optimal_bispectrum_Fisher(\"abcdef\", Lmax, dL, Ntheta=Ntheta, f_sky=f_sky, gal_bins=gal_bins)\n",
    "print(f\"opt abcdef = {np.sqrt(F)}\")\n",
    "F = fisher.get_optimal_bispectrum_Fisher(\"abcdefk\", Lmax, dL, Ntheta=Ntheta, f_sky=f_sky, gal_bins=gal_bins)\n",
    "print(f\"opt abcdefk = {np.sqrt(F)}\")\n",
    "t1 = time.time()\n",
    "print(f\"Time = {t1 - t0}\")"
   ]
  },
  {
   "cell_type": "code",
   "execution_count": 4,
   "id": "b8ea4afe",
   "metadata": {},
   "outputs": [
    {
     "name": "stdout",
     "output_type": "stream",
     "text": [
      "gal_bins = (0, 2.0, 2.0, 4.0)\n",
      "----------------------------\n",
      "Matrix([[aa, ab], [ba, bb]])\n",
      "opt ab = 5.2827557505954985\n",
      "Matrix([[aa, ab, ak], [ba, bb, bk], [ka, kb, kk]])\n",
      "opt abk = 10.280950227430507\n",
      "Matrix([[aa, ab, ak, ay], [ba, bb, bk, by], [ka, kb, kk, ky], [ya, yb, yk, yy]])\n",
      "opt abkI = 11.127448013958851\n",
      "Time = 377.9590232372284\n"
     ]
    }
   ],
   "source": [
    "t0 = time.time()\n",
    "bin_max = 4\n",
    "Nbins = 2\n",
    "bin_width = bin_max/Nbins\n",
    "gal_bins = (0,bin_width,bin_width,2*bin_width)\n",
    "print(f\"gal_bins = {gal_bins}\")\n",
    "print(\"----------------------------\")\n",
    "F = fisher.get_optimal_bispectrum_Fisher(\"ab\", Lmax, dL, Ntheta=Ntheta, f_sky=f_sky, gal_bins=gal_bins)\n",
    "print(f\"opt ab = {np.sqrt(F)}\")\n",
    "F = fisher.get_optimal_bispectrum_Fisher(\"abk\", Lmax, dL, Ntheta=Ntheta, f_sky=f_sky, gal_bins=gal_bins)\n",
    "print(f\"opt abk = {np.sqrt(F)}\")\n",
    "F = fisher.get_optimal_bispectrum_Fisher(\"abkI\", Lmax, dL, Ntheta=Ntheta, f_sky=f_sky, gal_bins=gal_bins)\n",
    "print(f\"opt abkI = {np.sqrt(F)}\")\n",
    "t1 = time.time()\n",
    "print(f\"Time = {t1 - t0}\")"
   ]
  },
  {
   "cell_type": "code",
   "execution_count": 5,
   "id": "4f842441",
   "metadata": {},
   "outputs": [
    {
     "name": "stdout",
     "output_type": "stream",
     "text": [
      "gal_bins = (0, 1.3333333333333333, 1.3333333333333333, 2.6666666666666665, 2.6666666666666665, 4.0)\n",
      "----------------------------\n",
      "Matrix([[aa, ab, ac], [ba, bb, bc], [ca, cb, cc]])\n",
      "opt abc = 6.870959713849641\n",
      "Matrix([[aa, ab, ac, ak], [ba, bb, bc, bk], [ca, cb, cc, ck], [ka, kb, kc, kk]])\n",
      "opt abck = 10.822004836624668\n",
      "Matrix([[aa, ab, ac, ak, ay], [ba, bb, bc, bk, by], [ca, cb, cc, ck, cy], [ka, kb, kc, kk, ky], [ya, yb, yc, yk, yy]])\n",
      "opt abckI = 11.382392052520494\n",
      "Time = 632.1265919208527\n"
     ]
    }
   ],
   "source": [
    "t0 = time.time()\n",
    "bin_max = 4\n",
    "Nbins = 3\n",
    "bin_width = bin_max/Nbins\n",
    "gal_bins = (0,bin_width,bin_width,2*bin_width,2*bin_width,3*bin_width)\n",
    "print(f\"gal_bins = {gal_bins}\")\n",
    "print(\"----------------------------\")\n",
    "F = fisher.get_optimal_bispectrum_Fisher(\"abc\", Lmax, dL, Ntheta=Ntheta, f_sky=f_sky, gal_bins=gal_bins)\n",
    "print(f\"opt abc = {np.sqrt(F)}\")\n",
    "F = fisher.get_optimal_bispectrum_Fisher(\"abck\", Lmax, dL, Ntheta=Ntheta, f_sky=f_sky, gal_bins=gal_bins)\n",
    "print(f\"opt abck = {np.sqrt(F)}\")\n",
    "F = fisher.get_optimal_bispectrum_Fisher(\"abckI\", Lmax, dL, Ntheta=Ntheta, f_sky=f_sky, gal_bins=gal_bins)\n",
    "print(f\"opt abckI = {np.sqrt(F)}\")\n",
    "t1 = time.time()\n",
    "print(f\"Time = {t1 - t0}\")"
   ]
  },
  {
   "cell_type": "code",
   "execution_count": 6,
   "id": "d4fc5301",
   "metadata": {},
   "outputs": [
    {
     "name": "stdout",
     "output_type": "stream",
     "text": [
      "gal_bins = (0, 1.0, 1.0, 2.0, 2.0, 3.0, 3.0, 4.0)\n",
      "----------------------------\n",
      "Matrix([[aa, ab, ac, ad], [ba, bb, bc, bd], [ca, cb, cc, cd], [da, db, dc, dd]])\n",
      "opt abcd = 7.504630072325845\n",
      "Matrix([[aa, ab, ac, ad, ak], [ba, bb, bc, bd, bk], [ca, cb, cc, cd, ck], [da, db, dc, dd, dk], [ka, kb, kc, kd, kk]])\n",
      "opt abcdk = 11.09892517101597\n",
      "Matrix([[aa, ab, ac, ad, ak, ay], [ba, bb, bc, bd, bk, by], [ca, cb, cc, cd, ck, cy], [da, db, dc, dd, dk, dy], [ka, kb, kc, kd, kk, ky], [ya, yb, yc, yd, yk, yy]])\n",
      "opt abcdkI = 11.547725703138855\n",
      "Time = 1021.9859747886658\n"
     ]
    }
   ],
   "source": [
    "t0 = time.time()\n",
    "bin_max = 4\n",
    "Nbins = 4\n",
    "bin_width = bin_max/Nbins\n",
    "gal_bins = (0,bin_width,bin_width,2*bin_width,2*bin_width,3*bin_width, 3*bin_width, 4*bin_width)\n",
    "print(f\"gal_bins = {gal_bins}\")\n",
    "print(\"----------------------------\")\n",
    "F = fisher.get_optimal_bispectrum_Fisher(\"abcd\", Lmax, dL, Ntheta=Ntheta, f_sky=f_sky, gal_bins=gal_bins)\n",
    "print(f\"opt abcd = {np.sqrt(F)}\")\n",
    "F = fisher.get_optimal_bispectrum_Fisher(\"abcdk\", Lmax, dL, Ntheta=Ntheta, f_sky=f_sky, gal_bins=gal_bins)\n",
    "print(f\"opt abcdk = {np.sqrt(F)}\")\n",
    "F = fisher.get_optimal_bispectrum_Fisher(\"abcdkI\", Lmax, dL, Ntheta=Ntheta, f_sky=f_sky, gal_bins=gal_bins)\n",
    "print(f\"opt abcdkI = {np.sqrt(F)}\")\n",
    "t1 = time.time()\n",
    "print(f\"Time = {t1 - t0}\")"
   ]
  },
  {
   "cell_type": "code",
   "execution_count": 7,
   "id": "ff057f0a",
   "metadata": {},
   "outputs": [
    {
     "name": "stdout",
     "output_type": "stream",
     "text": [
      "gal_bins = (0, 0.8, 0.8, 1.6, 1.6, 2.4000000000000004, 2.4000000000000004, 3.2, 3.2, 4.0)\n",
      "----------------------------\n",
      "Matrix([[aa, ab, ac, ad, ae], [ba, bb, bc, bd, be], [ca, cb, cc, cd, ce], [da, db, dc, dd, de], [ea, eb, ec, ed, ee]])\n",
      "opt abcde = 8.017634421180729\n",
      "Matrix([[aa, ab, ak, ac, ad, ae], [ba, bb, bk, bc, bd, be], [ka, kb, kk, kc, kd, ke], [ca, cb, ck, cc, cd, ce], [da, db, dk, dc, dd, de], [ea, eb, ek, ec, ed, ee]])\n",
      "opt abcdek = 11.3185275550419\n",
      "Matrix([[aa, ab, ac, ad, ae, ak, ay], [ba, bb, bc, bd, be, bk, by], [ca, cb, cc, cd, ce, ck, cy], [da, db, dc, dd, de, dk, dy], [ea, eb, ec, ed, ee, ek, ey], [ka, kb, kc, kd, ke, kk, ky], [ya, yb, yc, yd, ye, yk, yy]])\n",
      "opt abcdekI = 11.696352104173528\n",
      "Time = 1899.626466035843\n"
     ]
    }
   ],
   "source": [
    "t0 = time.time()\n",
    "bin_max = 4\n",
    "Nbins = 5\n",
    "bin_width = bin_max/Nbins\n",
    "gal_bins = (0,bin_width,bin_width,2*bin_width,2*bin_width,3*bin_width, 3*bin_width, 4*bin_width, 4*bin_width, 5*bin_width)\n",
    "print(f\"gal_bins = {gal_bins}\")\n",
    "print(\"----------------------------\")\n",
    "F = fisher.get_optimal_bispectrum_Fisher(\"abcde\", Lmax, dL, Ntheta=Ntheta, f_sky=f_sky, gal_bins=gal_bins)\n",
    "print(f\"opt abcde = {np.sqrt(F)}\")\n",
    "F = fisher.get_optimal_bispectrum_Fisher(\"abkcde\", Lmax, dL, Ntheta=Ntheta, f_sky=f_sky, gal_bins=gal_bins)\n",
    "print(f\"opt abcdek = {np.sqrt(F)}\")\n",
    "F = fisher.get_optimal_bispectrum_Fisher(\"abcdekI\", Lmax, dL, Ntheta=Ntheta, f_sky=f_sky, gal_bins=gal_bins)\n",
    "print(f\"opt abcdekI = {np.sqrt(F)}\")\n",
    "t1 = time.time()\n",
    "print(f\"Time = {t1 - t0}\")"
   ]
  },
  {
   "cell_type": "code",
   "execution_count": 8,
   "id": "f7b806bd",
   "metadata": {},
   "outputs": [
    {
     "name": "stdout",
     "output_type": "stream",
     "text": [
      "gal_bins = (0, 0.6666666666666666, 0.6666666666666666, 1.3333333333333333, 1.3333333333333333, 2.0, 2.0, 2.6666666666666665, 2.6666666666666665, 3.333333333333333, 3.333333333333333, 4.0)\n",
      "----------------------------\n",
      "Matrix([[aa, ab, ac, ad, ae, az], [ba, bb, bc, bd, be, bz], [ca, cb, cc, cd, ce, cz], [da, db, dc, dd, de, dz], [ea, eb, ec, ed, ee, ez], [za, zb, zc, zd, ze, zz]])\n",
      "opt abcdef = 8.408892072889161\n",
      "Matrix([[aa, ab, ac, ad, ae, az, ak], [ba, bb, bc, bd, be, bz, bk], [ca, cb, cc, cd, ce, cz, ck], [da, db, dc, dd, de, dz, dk], [ea, eb, ec, ed, ee, ez, ek], [za, zb, zc, zd, ze, zz, zk], [ka, kb, kc, kd, ke, kz, kk]])\n",
      "opt abcdefk = 11.435397699236193\n",
      "Matrix([[aa, ab, ac, ad, ae, az, ak, ay], [ba, bb, bc, bd, be, bz, bk, by], [ca, cb, cc, cd, ce, cz, ck, cy], [da, db, dc, dd, de, dz, dk, dy], [ea, eb, ec, ed, ee, ez, ek, ey], [za, zb, zc, zd, ze, zz, zk, zy], [ka, kb, kc, kd, ke, kz, kk, ky], [ya, yb, yc, yd, ye, yz, yk, yy]])\n"
     ]
    },
    {
     "ename": "KeyboardInterrupt",
     "evalue": "",
     "output_type": "error",
     "traceback": [
      "\u001b[0;31m---------------------------------------------------------------------------\u001b[0m",
      "\u001b[0;31mKeyboardInterrupt\u001b[0m                         Traceback (most recent call last)",
      "Input \u001b[0;32mIn [8]\u001b[0m, in \u001b[0;36m<cell line: 12>\u001b[0;34m()\u001b[0m\n\u001b[1;32m     10\u001b[0m F \u001b[38;5;241m=\u001b[39m fisher\u001b[38;5;241m.\u001b[39mget_optimal_bispectrum_Fisher(\u001b[38;5;124m\"\u001b[39m\u001b[38;5;124mabcdefk\u001b[39m\u001b[38;5;124m\"\u001b[39m, Lmax, dL, Ntheta\u001b[38;5;241m=\u001b[39mNtheta, f_sky\u001b[38;5;241m=\u001b[39mf_sky, gal_bins\u001b[38;5;241m=\u001b[39mgal_bins)\n\u001b[1;32m     11\u001b[0m \u001b[38;5;28mprint\u001b[39m(\u001b[38;5;124mf\u001b[39m\u001b[38;5;124m\"\u001b[39m\u001b[38;5;124mopt abcdefk = \u001b[39m\u001b[38;5;132;01m{\u001b[39;00mnp\u001b[38;5;241m.\u001b[39msqrt(F)\u001b[38;5;132;01m}\u001b[39;00m\u001b[38;5;124m\"\u001b[39m)\n\u001b[0;32m---> 12\u001b[0m F \u001b[38;5;241m=\u001b[39m \u001b[43mfisher\u001b[49m\u001b[38;5;241;43m.\u001b[39;49m\u001b[43mget_optimal_bispectrum_Fisher\u001b[49m\u001b[43m(\u001b[49m\u001b[38;5;124;43m\"\u001b[39;49m\u001b[38;5;124;43mabcdefkI\u001b[39;49m\u001b[38;5;124;43m\"\u001b[39;49m\u001b[43m,\u001b[49m\u001b[43m \u001b[49m\u001b[43mLmax\u001b[49m\u001b[43m,\u001b[49m\u001b[43m \u001b[49m\u001b[43mdL\u001b[49m\u001b[43m,\u001b[49m\u001b[43m \u001b[49m\u001b[43mNtheta\u001b[49m\u001b[38;5;241;43m=\u001b[39;49m\u001b[43mNtheta\u001b[49m\u001b[43m,\u001b[49m\u001b[43m \u001b[49m\u001b[43mf_sky\u001b[49m\u001b[38;5;241;43m=\u001b[39;49m\u001b[43mf_sky\u001b[49m\u001b[43m,\u001b[49m\u001b[43m \u001b[49m\u001b[43mgal_bins\u001b[49m\u001b[38;5;241;43m=\u001b[39;49m\u001b[43mgal_bins\u001b[49m\u001b[43m)\u001b[49m\n\u001b[1;32m     13\u001b[0m \u001b[38;5;28mprint\u001b[39m(\u001b[38;5;124mf\u001b[39m\u001b[38;5;124m\"\u001b[39m\u001b[38;5;124mopt abcdefkI = \u001b[39m\u001b[38;5;132;01m{\u001b[39;00mnp\u001b[38;5;241m.\u001b[39msqrt(F)\u001b[38;5;132;01m}\u001b[39;00m\u001b[38;5;124m\"\u001b[39m)\n\u001b[1;32m     14\u001b[0m t1 \u001b[38;5;241m=\u001b[39m time\u001b[38;5;241m.\u001b[39mtime()\n",
      "File \u001b[0;32m~/Documents/repos/omegaQE/kkomega/fisher.py:707\u001b[0m, in \u001b[0;36mFisher.get_optimal_bispectrum_Fisher\u001b[0;34m(self, typs, Lmax, dL, Ntheta, f_sky, verbose, arr, nu, gal_bins, save_array)\u001b[0m\n\u001b[1;32m    693\u001b[0m \u001b[38;5;124;03m\"\"\"\u001b[39;00m\n\u001b[1;32m    694\u001b[0m \n\u001b[1;32m    695\u001b[0m \u001b[38;5;124;03mParameters\u001b[39;00m\n\u001b[0;32m   (...)\u001b[0m\n\u001b[1;32m    704\u001b[0m \n\u001b[1;32m    705\u001b[0m \u001b[38;5;124;03m\"\"\"\u001b[39;00m\n\u001b[1;32m    706\u001b[0m typs \u001b[38;5;241m=\u001b[39m \u001b[38;5;28mlist\u001b[39m(typs)\n\u001b[0;32m--> 707\u001b[0m \u001b[38;5;28;01mreturn\u001b[39;00m \u001b[38;5;28;43mself\u001b[39;49m\u001b[38;5;241;43m.\u001b[39;49m\u001b[43m_get_optimal_bispectrum_Fisher\u001b[49m\u001b[43m(\u001b[49m\u001b[43mtyps\u001b[49m\u001b[43m,\u001b[49m\u001b[43m \u001b[49m\u001b[43mLmax\u001b[49m\u001b[43m,\u001b[49m\u001b[43m \u001b[49m\u001b[43mdL\u001b[49m\u001b[43m,\u001b[49m\u001b[43m \u001b[49m\u001b[43mNtheta\u001b[49m\u001b[43m,\u001b[49m\u001b[43m \u001b[49m\u001b[43mf_sky\u001b[49m\u001b[43m,\u001b[49m\u001b[43m \u001b[49m\u001b[43mverbose\u001b[49m\u001b[43m,\u001b[49m\u001b[43m \u001b[49m\u001b[43marr\u001b[49m\u001b[43m,\u001b[49m\u001b[43m \u001b[49m\u001b[43mnu\u001b[49m\u001b[43m,\u001b[49m\u001b[43m \u001b[49m\u001b[43mgal_bins\u001b[49m\u001b[43m,\u001b[49m\u001b[43m \u001b[49m\u001b[43msave_array\u001b[49m\u001b[43m)\u001b[49m\n",
      "File \u001b[0;32m~/Documents/repos/omegaQE/kkomega/fisher.py:630\u001b[0m, in \u001b[0;36mFisher._get_optimal_bispectrum_Fisher\u001b[0;34m(self, typs, Lmax, dL, Ntheta, f_sky, verbose, arr, nu, gal_bins, save_array)\u001b[0m\n\u001b[1;32m    626\u001b[0m \u001b[38;5;66;03m# if 'I' in typs:\u001b[39;00m\n\u001b[1;32m    627\u001b[0m \u001b[38;5;66;03m#     Lmin = 110\u001b[39;00m\n\u001b[1;32m    628\u001b[0m \u001b[38;5;66;03m# else:\u001b[39;00m\n\u001b[1;32m    629\u001b[0m Lmin \u001b[38;5;241m=\u001b[39m \u001b[38;5;241m30\u001b[39m     \u001b[38;5;66;03m# 1808.07445 and https://cmb-s4.uchicago.edu/wiki/index.php/Survey_Performance_Expectations\u001b[39;00m\n\u001b[0;32m--> 630\u001b[0m C_inv \u001b[38;5;241m=\u001b[39m \u001b[38;5;28;43mself\u001b[39;49m\u001b[38;5;241;43m.\u001b[39;49m\u001b[43m_get_C_inv\u001b[49m\u001b[43m(\u001b[49m\u001b[43mtyps\u001b[49m\u001b[43m,\u001b[49m\u001b[43m \u001b[49m\u001b[43mLmax\u001b[49m\u001b[43m,\u001b[49m\u001b[43m \u001b[49m\u001b[43mnu\u001b[49m\u001b[43m,\u001b[49m\u001b[43m \u001b[49m\u001b[43mgal_bins\u001b[49m\u001b[43m)\u001b[49m\n\u001b[1;32m    631\u001b[0m \u001b[38;5;66;03m# if verbose:\u001b[39;00m\n\u001b[1;32m    632\u001b[0m \u001b[38;5;66;03m#     cond_10 = np.linalg.cond(C_inv[:, :][10])\u001b[39;00m\n\u001b[1;32m    633\u001b[0m \u001b[38;5;66;03m#     cond_100 = np.linalg.cond(C_inv)[:, :, 100]\u001b[39;00m\n\u001b[1;32m    634\u001b[0m \u001b[38;5;66;03m#     cond_1000 = np.linalg.cond(C_inv)[:, :, 1000]\u001b[39;00m\n\u001b[1;32m    635\u001b[0m \u001b[38;5;66;03m#     print(f\"C_inv condition number at L = 10, 100, 1000: {cond_10:.2f}, {cond_100:.2f}, {cond_1000:.2f}\")\u001b[39;00m\n\u001b[1;32m    636\u001b[0m all_combos \u001b[38;5;241m=\u001b[39m typs[:, \u001b[38;5;28;01mNone\u001b[39;00m] \u001b[38;5;241m+\u001b[39m typs[\u001b[38;5;28;01mNone\u001b[39;00m, :]\n",
      "File \u001b[0;32m~/Documents/repos/omegaQE/kkomega/fisher.py:425\u001b[0m, in \u001b[0;36mFisher._get_C_inv\u001b[0;34m(self, typs, Lmax, nu, gal_bins)\u001b[0m\n\u001b[1;32m    423\u001b[0m \u001b[38;5;28;01melse\u001b[39;00m:\n\u001b[1;32m    424\u001b[0m     C_inv \u001b[38;5;241m=\u001b[39m C_sym\u001b[38;5;241m.\u001b[39minv()\n\u001b[0;32m--> 425\u001b[0m C_inv_func \u001b[38;5;241m=\u001b[39m \u001b[43mlambdify\u001b[49m\u001b[43m(\u001b[49m\u001b[43margs_no_fI\u001b[49m\u001b[43m,\u001b[49m\u001b[43m \u001b[49m\u001b[43mC_inv\u001b[49m\u001b[43m)\u001b[49m\n\u001b[1;32m    426\u001b[0m Covs \u001b[38;5;241m=\u001b[39m [\u001b[38;5;28mself\u001b[39m\u001b[38;5;241m.\u001b[39m_get_Cov(arg, Lmax, nu, gal_bins) \u001b[38;5;28;01mfor\u001b[39;00m arg \u001b[38;5;129;01min\u001b[39;00m args]\n\u001b[1;32m    427\u001b[0m \u001b[38;5;28;01mreturn\u001b[39;00m C_inv_func(\u001b[38;5;241m*\u001b[39mCovs)\n",
      "File \u001b[0;32m~/miniconda3/envs/omegaQE/lib/python3.10/site-packages/sympy/utilities/lambdify.py:875\u001b[0m, in \u001b[0;36mlambdify\u001b[0;34m(args, expr, modules, printer, use_imps, dummify, cse)\u001b[0m\n\u001b[1;32m    873\u001b[0m \u001b[38;5;28;01melse\u001b[39;00m:\n\u001b[1;32m    874\u001b[0m     cses, _expr \u001b[38;5;241m=\u001b[39m (), expr\n\u001b[0;32m--> 875\u001b[0m funcstr \u001b[38;5;241m=\u001b[39m \u001b[43mfuncprinter\u001b[49m\u001b[38;5;241;43m.\u001b[39;49m\u001b[43mdoprint\u001b[49m\u001b[43m(\u001b[49m\u001b[43mfuncname\u001b[49m\u001b[43m,\u001b[49m\u001b[43m \u001b[49m\u001b[43miterable_args\u001b[49m\u001b[43m,\u001b[49m\u001b[43m \u001b[49m\u001b[43m_expr\u001b[49m\u001b[43m,\u001b[49m\u001b[43m \u001b[49m\u001b[43mcses\u001b[49m\u001b[38;5;241;43m=\u001b[39;49m\u001b[43mcses\u001b[49m\u001b[43m)\u001b[49m\n\u001b[1;32m    877\u001b[0m \u001b[38;5;66;03m# Collect the module imports from the code printers.\u001b[39;00m\n\u001b[1;32m    878\u001b[0m imp_mod_lines \u001b[38;5;241m=\u001b[39m []\n",
      "File \u001b[0;32m~/miniconda3/envs/omegaQE/lib/python3.10/site-packages/sympy/utilities/lambdify.py:1152\u001b[0m, in \u001b[0;36m_EvaluatorPrinter.doprint\u001b[0;34m(self, funcname, args, expr, cses)\u001b[0m\n\u001b[1;32m   1149\u001b[0m     \u001b[38;5;28;01melse\u001b[39;00m:\n\u001b[1;32m   1150\u001b[0m         funcbody\u001b[38;5;241m.\u001b[39mappend(\u001b[38;5;124m'\u001b[39m\u001b[38;5;132;01m{}\u001b[39;00m\u001b[38;5;124m = \u001b[39m\u001b[38;5;132;01m{}\u001b[39;00m\u001b[38;5;124m'\u001b[39m\u001b[38;5;241m.\u001b[39mformat(s, \u001b[38;5;28mself\u001b[39m\u001b[38;5;241m.\u001b[39m_exprrepr(e)))\n\u001b[0;32m-> 1152\u001b[0m str_expr \u001b[38;5;241m=\u001b[39m \u001b[43m_recursive_to_string\u001b[49m\u001b[43m(\u001b[49m\u001b[38;5;28;43mself\u001b[39;49m\u001b[38;5;241;43m.\u001b[39;49m\u001b[43m_exprrepr\u001b[49m\u001b[43m,\u001b[49m\u001b[43m \u001b[49m\u001b[43mexpr\u001b[49m\u001b[43m)\u001b[49m\n\u001b[1;32m   1155\u001b[0m \u001b[38;5;28;01mif\u001b[39;00m \u001b[38;5;124m'\u001b[39m\u001b[38;5;130;01m\\n\u001b[39;00m\u001b[38;5;124m'\u001b[39m \u001b[38;5;129;01min\u001b[39;00m str_expr:\n\u001b[1;32m   1156\u001b[0m     str_expr \u001b[38;5;241m=\u001b[39m \u001b[38;5;124m'\u001b[39m\u001b[38;5;124m(\u001b[39m\u001b[38;5;132;01m{}\u001b[39;00m\u001b[38;5;124m)\u001b[39m\u001b[38;5;124m'\u001b[39m\u001b[38;5;241m.\u001b[39mformat(str_expr)\n",
      "File \u001b[0;32m~/miniconda3/envs/omegaQE/lib/python3.10/site-packages/sympy/utilities/lambdify.py:956\u001b[0m, in \u001b[0;36m_recursive_to_string\u001b[0;34m(doprint, arg)\u001b[0m\n\u001b[1;32m    953\u001b[0m \u001b[38;5;28;01mfrom\u001b[39;00m \u001b[38;5;21;01msympy\u001b[39;00m\u001b[38;5;21;01m.\u001b[39;00m\u001b[38;5;21;01mcore\u001b[39;00m\u001b[38;5;21;01m.\u001b[39;00m\u001b[38;5;21;01mbasic\u001b[39;00m \u001b[38;5;28;01mimport\u001b[39;00m Basic\n\u001b[1;32m    955\u001b[0m \u001b[38;5;28;01mif\u001b[39;00m \u001b[38;5;28misinstance\u001b[39m(arg, (Basic, MatrixOperations)):\n\u001b[0;32m--> 956\u001b[0m     \u001b[38;5;28;01mreturn\u001b[39;00m \u001b[43mdoprint\u001b[49m\u001b[43m(\u001b[49m\u001b[43marg\u001b[49m\u001b[43m)\u001b[49m\n\u001b[1;32m    957\u001b[0m \u001b[38;5;28;01melif\u001b[39;00m iterable(arg):\n\u001b[1;32m    958\u001b[0m     \u001b[38;5;28;01mif\u001b[39;00m \u001b[38;5;28misinstance\u001b[39m(arg, \u001b[38;5;28mlist\u001b[39m):\n",
      "File \u001b[0;32m~/miniconda3/envs/omegaQE/lib/python3.10/site-packages/sympy/printing/codeprinter.py:150\u001b[0m, in \u001b[0;36mCodePrinter.doprint\u001b[0;34m(self, expr, assign_to)\u001b[0m\n\u001b[1;32m    147\u001b[0m \u001b[38;5;28mself\u001b[39m\u001b[38;5;241m.\u001b[39m_not_supported \u001b[38;5;241m=\u001b[39m \u001b[38;5;28mset\u001b[39m()\n\u001b[1;32m    148\u001b[0m \u001b[38;5;28mself\u001b[39m\u001b[38;5;241m.\u001b[39m_number_symbols \u001b[38;5;241m=\u001b[39m \u001b[38;5;28mset\u001b[39m()  \u001b[38;5;66;03m# type: tSet[tTuple[Expr, Float]]\u001b[39;00m\n\u001b[0;32m--> 150\u001b[0m lines \u001b[38;5;241m=\u001b[39m \u001b[38;5;28;43mself\u001b[39;49m\u001b[38;5;241;43m.\u001b[39;49m\u001b[43m_print\u001b[49m\u001b[43m(\u001b[49m\u001b[43mexpr\u001b[49m\u001b[43m)\u001b[49m\u001b[38;5;241m.\u001b[39msplitlines()\n\u001b[1;32m    152\u001b[0m \u001b[38;5;66;03m# format the output\u001b[39;00m\n\u001b[1;32m    153\u001b[0m \u001b[38;5;28;01mif\u001b[39;00m \u001b[38;5;28mself\u001b[39m\u001b[38;5;241m.\u001b[39m_settings[\u001b[38;5;124m\"\u001b[39m\u001b[38;5;124mhuman\u001b[39m\u001b[38;5;124m\"\u001b[39m]:\n",
      "File \u001b[0;32m~/miniconda3/envs/omegaQE/lib/python3.10/site-packages/sympy/printing/printer.py:331\u001b[0m, in \u001b[0;36mPrinter._print\u001b[0;34m(self, expr, **kwargs)\u001b[0m\n\u001b[1;32m    329\u001b[0m     printmethod \u001b[38;5;241m=\u001b[39m \u001b[38;5;28mgetattr\u001b[39m(\u001b[38;5;28mself\u001b[39m, printmethodname, \u001b[38;5;28;01mNone\u001b[39;00m)\n\u001b[1;32m    330\u001b[0m     \u001b[38;5;28;01mif\u001b[39;00m printmethod \u001b[38;5;129;01mis\u001b[39;00m \u001b[38;5;129;01mnot\u001b[39;00m \u001b[38;5;28;01mNone\u001b[39;00m:\n\u001b[0;32m--> 331\u001b[0m         \u001b[38;5;28;01mreturn\u001b[39;00m \u001b[43mprintmethod\u001b[49m\u001b[43m(\u001b[49m\u001b[43mexpr\u001b[49m\u001b[43m,\u001b[49m\u001b[43m \u001b[49m\u001b[38;5;241;43m*\u001b[39;49m\u001b[38;5;241;43m*\u001b[39;49m\u001b[43mkwargs\u001b[49m\u001b[43m)\u001b[49m\n\u001b[1;32m    332\u001b[0m \u001b[38;5;66;03m# Unknown object, fall back to the emptyPrinter.\u001b[39;00m\n\u001b[1;32m    333\u001b[0m \u001b[38;5;28;01mreturn\u001b[39;00m \u001b[38;5;28mself\u001b[39m\u001b[38;5;241m.\u001b[39memptyPrinter(expr)\n",
      "File \u001b[0;32m~/miniconda3/envs/omegaQE/lib/python3.10/site-packages/sympy/printing/pycode.py:315\u001b[0m, in \u001b[0;36mAbstractPythonCodePrinter.<lambda>\u001b[0;34m(self, expr)\u001b[0m\n\u001b[1;32m    304\u001b[0m     func \u001b[38;5;241m=\u001b[39m \u001b[38;5;28mself\u001b[39m\u001b[38;5;241m.\u001b[39mknown_functions\u001b[38;5;241m.\u001b[39mget(name, name)\n\u001b[1;32m    305\u001b[0m     \u001b[38;5;28;01mreturn\u001b[39;00m \u001b[38;5;124m\"\u001b[39m\u001b[38;5;132;01m%s\u001b[39;00m\u001b[38;5;124m(\u001b[39m\u001b[38;5;132;01m%s\u001b[39;00m\u001b[38;5;124m)\u001b[39m\u001b[38;5;124m\"\u001b[39m \u001b[38;5;241m%\u001b[39m (func, \u001b[38;5;28mself\u001b[39m\u001b[38;5;241m.\u001b[39m_print(expr\u001b[38;5;241m.\u001b[39mtolist()))\n\u001b[1;32m    307\u001b[0m _print_SparseRepMatrix \u001b[38;5;241m=\u001b[39m \\\n\u001b[1;32m    308\u001b[0m     _print_MutableSparseMatrix \u001b[38;5;241m=\u001b[39m \\\n\u001b[1;32m    309\u001b[0m     _print_ImmutableSparseMatrix \u001b[38;5;241m=\u001b[39m \\\n\u001b[1;32m    310\u001b[0m     _print_Matrix \u001b[38;5;241m=\u001b[39m \\\n\u001b[1;32m    311\u001b[0m     _print_DenseMatrix \u001b[38;5;241m=\u001b[39m \\\n\u001b[1;32m    312\u001b[0m     _print_MutableDenseMatrix \u001b[38;5;241m=\u001b[39m \\\n\u001b[1;32m    313\u001b[0m     _print_ImmutableMatrix \u001b[38;5;241m=\u001b[39m \\\n\u001b[1;32m    314\u001b[0m     _print_ImmutableDenseMatrix \u001b[38;5;241m=\u001b[39m \\\n\u001b[0;32m--> 315\u001b[0m     \u001b[38;5;28;01mlambda\u001b[39;00m \u001b[38;5;28mself\u001b[39m, expr: \u001b[38;5;28;43mself\u001b[39;49m\u001b[38;5;241;43m.\u001b[39;49m\u001b[43m_print_MatrixBase\u001b[49m\u001b[43m(\u001b[49m\u001b[43mexpr\u001b[49m\u001b[43m)\u001b[49m\n\u001b[1;32m    317\u001b[0m \u001b[38;5;28;01mdef\u001b[39;00m \u001b[38;5;21m_indent_codestring\u001b[39m(\u001b[38;5;28mself\u001b[39m, codestring):\n\u001b[1;32m    318\u001b[0m     \u001b[38;5;28;01mreturn\u001b[39;00m \u001b[38;5;124m'\u001b[39m\u001b[38;5;130;01m\\n\u001b[39;00m\u001b[38;5;124m'\u001b[39m\u001b[38;5;241m.\u001b[39mjoin([\u001b[38;5;28mself\u001b[39m\u001b[38;5;241m.\u001b[39mtab \u001b[38;5;241m+\u001b[39m line \u001b[38;5;28;01mfor\u001b[39;00m line \u001b[38;5;129;01min\u001b[39;00m codestring\u001b[38;5;241m.\u001b[39msplit(\u001b[38;5;124m'\u001b[39m\u001b[38;5;130;01m\\n\u001b[39;00m\u001b[38;5;124m'\u001b[39m)])\n",
      "File \u001b[0;32m~/miniconda3/envs/omegaQE/lib/python3.10/site-packages/sympy/printing/numpy.py:240\u001b[0m, in \u001b[0;36mNumPyPrinter._print_MatrixBase\u001b[0;34m(self, expr)\u001b[0m\n\u001b[1;32m    238\u001b[0m \u001b[38;5;28;01mif\u001b[39;00m func \u001b[38;5;129;01mis\u001b[39;00m \u001b[38;5;28;01mNone\u001b[39;00m:\n\u001b[1;32m    239\u001b[0m     func \u001b[38;5;241m=\u001b[39m \u001b[38;5;28mself\u001b[39m\u001b[38;5;241m.\u001b[39m_module_format(\u001b[38;5;28mself\u001b[39m\u001b[38;5;241m.\u001b[39m_module \u001b[38;5;241m+\u001b[39m \u001b[38;5;124m'\u001b[39m\u001b[38;5;124m.array\u001b[39m\u001b[38;5;124m'\u001b[39m)\n\u001b[0;32m--> 240\u001b[0m \u001b[38;5;28;01mreturn\u001b[39;00m \u001b[38;5;124m\"\u001b[39m\u001b[38;5;132;01m%s\u001b[39;00m\u001b[38;5;124m(\u001b[39m\u001b[38;5;132;01m%s\u001b[39;00m\u001b[38;5;124m)\u001b[39m\u001b[38;5;124m\"\u001b[39m \u001b[38;5;241m%\u001b[39m (func, \u001b[38;5;28;43mself\u001b[39;49m\u001b[38;5;241;43m.\u001b[39;49m\u001b[43m_print\u001b[49m\u001b[43m(\u001b[49m\u001b[43mexpr\u001b[49m\u001b[38;5;241;43m.\u001b[39;49m\u001b[43mtolist\u001b[49m\u001b[43m(\u001b[49m\u001b[43m)\u001b[49m\u001b[43m)\u001b[49m)\n",
      "File \u001b[0;32m~/miniconda3/envs/omegaQE/lib/python3.10/site-packages/sympy/printing/printer.py:331\u001b[0m, in \u001b[0;36mPrinter._print\u001b[0;34m(self, expr, **kwargs)\u001b[0m\n\u001b[1;32m    329\u001b[0m     printmethod \u001b[38;5;241m=\u001b[39m \u001b[38;5;28mgetattr\u001b[39m(\u001b[38;5;28mself\u001b[39m, printmethodname, \u001b[38;5;28;01mNone\u001b[39;00m)\n\u001b[1;32m    330\u001b[0m     \u001b[38;5;28;01mif\u001b[39;00m printmethod \u001b[38;5;129;01mis\u001b[39;00m \u001b[38;5;129;01mnot\u001b[39;00m \u001b[38;5;28;01mNone\u001b[39;00m:\n\u001b[0;32m--> 331\u001b[0m         \u001b[38;5;28;01mreturn\u001b[39;00m \u001b[43mprintmethod\u001b[49m\u001b[43m(\u001b[49m\u001b[43mexpr\u001b[49m\u001b[43m,\u001b[49m\u001b[43m \u001b[49m\u001b[38;5;241;43m*\u001b[39;49m\u001b[38;5;241;43m*\u001b[39;49m\u001b[43mkwargs\u001b[49m\u001b[43m)\u001b[49m\n\u001b[1;32m    332\u001b[0m \u001b[38;5;66;03m# Unknown object, fall back to the emptyPrinter.\u001b[39;00m\n\u001b[1;32m    333\u001b[0m \u001b[38;5;28;01mreturn\u001b[39;00m \u001b[38;5;28mself\u001b[39m\u001b[38;5;241m.\u001b[39memptyPrinter(expr)\n",
      "File \u001b[0;32m~/miniconda3/envs/omegaQE/lib/python3.10/site-packages/sympy/printing/str.py:236\u001b[0m, in \u001b[0;36mStrPrinter._print_list\u001b[0;34m(self, expr)\u001b[0m\n\u001b[1;32m    235\u001b[0m \u001b[38;5;28;01mdef\u001b[39;00m \u001b[38;5;21m_print_list\u001b[39m(\u001b[38;5;28mself\u001b[39m, expr):\n\u001b[0;32m--> 236\u001b[0m     \u001b[38;5;28;01mreturn\u001b[39;00m \u001b[38;5;124m\"\u001b[39m\u001b[38;5;124m[\u001b[39m\u001b[38;5;132;01m%s\u001b[39;00m\u001b[38;5;124m]\u001b[39m\u001b[38;5;124m\"\u001b[39m \u001b[38;5;241m%\u001b[39m \u001b[38;5;28;43mself\u001b[39;49m\u001b[38;5;241;43m.\u001b[39;49m\u001b[43mstringify\u001b[49m\u001b[43m(\u001b[49m\u001b[43mexpr\u001b[49m\u001b[43m,\u001b[49m\u001b[43m \u001b[49m\u001b[38;5;124;43m\"\u001b[39;49m\u001b[38;5;124;43m, \u001b[39;49m\u001b[38;5;124;43m\"\u001b[39;49m\u001b[43m)\u001b[49m\n",
      "File \u001b[0;32m~/miniconda3/envs/omegaQE/lib/python3.10/site-packages/sympy/printing/str.py:42\u001b[0m, in \u001b[0;36mStrPrinter.stringify\u001b[0;34m(self, args, sep, level)\u001b[0m\n\u001b[1;32m     41\u001b[0m \u001b[38;5;28;01mdef\u001b[39;00m \u001b[38;5;21mstringify\u001b[39m(\u001b[38;5;28mself\u001b[39m, args, sep, level\u001b[38;5;241m=\u001b[39m\u001b[38;5;241m0\u001b[39m):\n\u001b[0;32m---> 42\u001b[0m     \u001b[38;5;28;01mreturn\u001b[39;00m sep\u001b[38;5;241m.\u001b[39mjoin([\u001b[38;5;28mself\u001b[39m\u001b[38;5;241m.\u001b[39mparenthesize(item, level) \u001b[38;5;28;01mfor\u001b[39;00m item \u001b[38;5;129;01min\u001b[39;00m args])\n",
      "File \u001b[0;32m~/miniconda3/envs/omegaQE/lib/python3.10/site-packages/sympy/printing/str.py:42\u001b[0m, in \u001b[0;36m<listcomp>\u001b[0;34m(.0)\u001b[0m\n\u001b[1;32m     41\u001b[0m \u001b[38;5;28;01mdef\u001b[39;00m \u001b[38;5;21mstringify\u001b[39m(\u001b[38;5;28mself\u001b[39m, args, sep, level\u001b[38;5;241m=\u001b[39m\u001b[38;5;241m0\u001b[39m):\n\u001b[0;32m---> 42\u001b[0m     \u001b[38;5;28;01mreturn\u001b[39;00m sep\u001b[38;5;241m.\u001b[39mjoin([\u001b[38;5;28;43mself\u001b[39;49m\u001b[38;5;241;43m.\u001b[39;49m\u001b[43mparenthesize\u001b[49m\u001b[43m(\u001b[49m\u001b[43mitem\u001b[49m\u001b[43m,\u001b[49m\u001b[43m \u001b[49m\u001b[43mlevel\u001b[49m\u001b[43m)\u001b[49m \u001b[38;5;28;01mfor\u001b[39;00m item \u001b[38;5;129;01min\u001b[39;00m args])\n",
      "File \u001b[0;32m~/miniconda3/envs/omegaQE/lib/python3.10/site-packages/sympy/printing/str.py:39\u001b[0m, in \u001b[0;36mStrPrinter.parenthesize\u001b[0;34m(self, item, level, strict)\u001b[0m\n\u001b[1;32m     37\u001b[0m     \u001b[38;5;28;01mreturn\u001b[39;00m \u001b[38;5;124m\"\u001b[39m\u001b[38;5;124m(\u001b[39m\u001b[38;5;132;01m%s\u001b[39;00m\u001b[38;5;124m)\u001b[39m\u001b[38;5;124m\"\u001b[39m \u001b[38;5;241m%\u001b[39m \u001b[38;5;28mself\u001b[39m\u001b[38;5;241m.\u001b[39m_print(item)\n\u001b[1;32m     38\u001b[0m \u001b[38;5;28;01melse\u001b[39;00m:\n\u001b[0;32m---> 39\u001b[0m     \u001b[38;5;28;01mreturn\u001b[39;00m \u001b[38;5;28;43mself\u001b[39;49m\u001b[38;5;241;43m.\u001b[39;49m\u001b[43m_print\u001b[49m\u001b[43m(\u001b[49m\u001b[43mitem\u001b[49m\u001b[43m)\u001b[49m\n",
      "File \u001b[0;32m~/miniconda3/envs/omegaQE/lib/python3.10/site-packages/sympy/printing/printer.py:331\u001b[0m, in \u001b[0;36mPrinter._print\u001b[0;34m(self, expr, **kwargs)\u001b[0m\n\u001b[1;32m    329\u001b[0m     printmethod \u001b[38;5;241m=\u001b[39m \u001b[38;5;28mgetattr\u001b[39m(\u001b[38;5;28mself\u001b[39m, printmethodname, \u001b[38;5;28;01mNone\u001b[39;00m)\n\u001b[1;32m    330\u001b[0m     \u001b[38;5;28;01mif\u001b[39;00m printmethod \u001b[38;5;129;01mis\u001b[39;00m \u001b[38;5;129;01mnot\u001b[39;00m \u001b[38;5;28;01mNone\u001b[39;00m:\n\u001b[0;32m--> 331\u001b[0m         \u001b[38;5;28;01mreturn\u001b[39;00m \u001b[43mprintmethod\u001b[49m\u001b[43m(\u001b[49m\u001b[43mexpr\u001b[49m\u001b[43m,\u001b[49m\u001b[43m \u001b[49m\u001b[38;5;241;43m*\u001b[39;49m\u001b[38;5;241;43m*\u001b[39;49m\u001b[43mkwargs\u001b[49m\u001b[43m)\u001b[49m\n\u001b[1;32m    332\u001b[0m \u001b[38;5;66;03m# Unknown object, fall back to the emptyPrinter.\u001b[39;00m\n\u001b[1;32m    333\u001b[0m \u001b[38;5;28;01mreturn\u001b[39;00m \u001b[38;5;28mself\u001b[39m\u001b[38;5;241m.\u001b[39memptyPrinter(expr)\n",
      "File \u001b[0;32m~/miniconda3/envs/omegaQE/lib/python3.10/site-packages/sympy/printing/str.py:236\u001b[0m, in \u001b[0;36mStrPrinter._print_list\u001b[0;34m(self, expr)\u001b[0m\n\u001b[1;32m    235\u001b[0m \u001b[38;5;28;01mdef\u001b[39;00m \u001b[38;5;21m_print_list\u001b[39m(\u001b[38;5;28mself\u001b[39m, expr):\n\u001b[0;32m--> 236\u001b[0m     \u001b[38;5;28;01mreturn\u001b[39;00m \u001b[38;5;124m\"\u001b[39m\u001b[38;5;124m[\u001b[39m\u001b[38;5;132;01m%s\u001b[39;00m\u001b[38;5;124m]\u001b[39m\u001b[38;5;124m\"\u001b[39m \u001b[38;5;241m%\u001b[39m \u001b[38;5;28;43mself\u001b[39;49m\u001b[38;5;241;43m.\u001b[39;49m\u001b[43mstringify\u001b[49m\u001b[43m(\u001b[49m\u001b[43mexpr\u001b[49m\u001b[43m,\u001b[49m\u001b[43m \u001b[49m\u001b[38;5;124;43m\"\u001b[39;49m\u001b[38;5;124;43m, \u001b[39;49m\u001b[38;5;124;43m\"\u001b[39;49m\u001b[43m)\u001b[49m\n",
      "File \u001b[0;32m~/miniconda3/envs/omegaQE/lib/python3.10/site-packages/sympy/printing/str.py:42\u001b[0m, in \u001b[0;36mStrPrinter.stringify\u001b[0;34m(self, args, sep, level)\u001b[0m\n\u001b[1;32m     41\u001b[0m \u001b[38;5;28;01mdef\u001b[39;00m \u001b[38;5;21mstringify\u001b[39m(\u001b[38;5;28mself\u001b[39m, args, sep, level\u001b[38;5;241m=\u001b[39m\u001b[38;5;241m0\u001b[39m):\n\u001b[0;32m---> 42\u001b[0m     \u001b[38;5;28;01mreturn\u001b[39;00m sep\u001b[38;5;241m.\u001b[39mjoin([\u001b[38;5;28mself\u001b[39m\u001b[38;5;241m.\u001b[39mparenthesize(item, level) \u001b[38;5;28;01mfor\u001b[39;00m item \u001b[38;5;129;01min\u001b[39;00m args])\n",
      "File \u001b[0;32m~/miniconda3/envs/omegaQE/lib/python3.10/site-packages/sympy/printing/str.py:42\u001b[0m, in \u001b[0;36m<listcomp>\u001b[0;34m(.0)\u001b[0m\n\u001b[1;32m     41\u001b[0m \u001b[38;5;28;01mdef\u001b[39;00m \u001b[38;5;21mstringify\u001b[39m(\u001b[38;5;28mself\u001b[39m, args, sep, level\u001b[38;5;241m=\u001b[39m\u001b[38;5;241m0\u001b[39m):\n\u001b[0;32m---> 42\u001b[0m     \u001b[38;5;28;01mreturn\u001b[39;00m sep\u001b[38;5;241m.\u001b[39mjoin([\u001b[38;5;28;43mself\u001b[39;49m\u001b[38;5;241;43m.\u001b[39;49m\u001b[43mparenthesize\u001b[49m\u001b[43m(\u001b[49m\u001b[43mitem\u001b[49m\u001b[43m,\u001b[49m\u001b[43m \u001b[49m\u001b[43mlevel\u001b[49m\u001b[43m)\u001b[49m \u001b[38;5;28;01mfor\u001b[39;00m item \u001b[38;5;129;01min\u001b[39;00m args])\n",
      "File \u001b[0;32m~/miniconda3/envs/omegaQE/lib/python3.10/site-packages/sympy/printing/str.py:39\u001b[0m, in \u001b[0;36mStrPrinter.parenthesize\u001b[0;34m(self, item, level, strict)\u001b[0m\n\u001b[1;32m     37\u001b[0m     \u001b[38;5;28;01mreturn\u001b[39;00m \u001b[38;5;124m\"\u001b[39m\u001b[38;5;124m(\u001b[39m\u001b[38;5;132;01m%s\u001b[39;00m\u001b[38;5;124m)\u001b[39m\u001b[38;5;124m\"\u001b[39m \u001b[38;5;241m%\u001b[39m \u001b[38;5;28mself\u001b[39m\u001b[38;5;241m.\u001b[39m_print(item)\n\u001b[1;32m     38\u001b[0m \u001b[38;5;28;01melse\u001b[39;00m:\n\u001b[0;32m---> 39\u001b[0m     \u001b[38;5;28;01mreturn\u001b[39;00m \u001b[38;5;28;43mself\u001b[39;49m\u001b[38;5;241;43m.\u001b[39;49m\u001b[43m_print\u001b[49m\u001b[43m(\u001b[49m\u001b[43mitem\u001b[49m\u001b[43m)\u001b[49m\n",
      "File \u001b[0;32m~/miniconda3/envs/omegaQE/lib/python3.10/site-packages/sympy/printing/printer.py:331\u001b[0m, in \u001b[0;36mPrinter._print\u001b[0;34m(self, expr, **kwargs)\u001b[0m\n\u001b[1;32m    329\u001b[0m     printmethod \u001b[38;5;241m=\u001b[39m \u001b[38;5;28mgetattr\u001b[39m(\u001b[38;5;28mself\u001b[39m, printmethodname, \u001b[38;5;28;01mNone\u001b[39;00m)\n\u001b[1;32m    330\u001b[0m     \u001b[38;5;28;01mif\u001b[39;00m printmethod \u001b[38;5;129;01mis\u001b[39;00m \u001b[38;5;129;01mnot\u001b[39;00m \u001b[38;5;28;01mNone\u001b[39;00m:\n\u001b[0;32m--> 331\u001b[0m         \u001b[38;5;28;01mreturn\u001b[39;00m \u001b[43mprintmethod\u001b[49m\u001b[43m(\u001b[49m\u001b[43mexpr\u001b[49m\u001b[43m,\u001b[49m\u001b[43m \u001b[49m\u001b[38;5;241;43m*\u001b[39;49m\u001b[38;5;241;43m*\u001b[39;49m\u001b[43mkwargs\u001b[49m\u001b[43m)\u001b[49m\n\u001b[1;32m    332\u001b[0m \u001b[38;5;66;03m# Unknown object, fall back to the emptyPrinter.\u001b[39;00m\n\u001b[1;32m    333\u001b[0m \u001b[38;5;28;01mreturn\u001b[39;00m \u001b[38;5;28mself\u001b[39m\u001b[38;5;241m.\u001b[39memptyPrinter(expr)\n",
      "File \u001b[0;32m~/miniconda3/envs/omegaQE/lib/python3.10/site-packages/sympy/printing/codeprinter.py:545\u001b[0m, in \u001b[0;36mCodePrinter._print_Mul\u001b[0;34m(self, expr)\u001b[0m\n\u001b[1;32m    543\u001b[0m     a_str \u001b[38;5;241m=\u001b[39m [\u001b[38;5;28mself\u001b[39m\u001b[38;5;241m.\u001b[39mparenthesize(a[\u001b[38;5;241m0\u001b[39m], \u001b[38;5;241m0.5\u001b[39m\u001b[38;5;241m*\u001b[39m(PRECEDENCE[\u001b[38;5;124m\"\u001b[39m\u001b[38;5;124mPow\u001b[39m\u001b[38;5;124m\"\u001b[39m]\u001b[38;5;241m+\u001b[39mPRECEDENCE[\u001b[38;5;124m\"\u001b[39m\u001b[38;5;124mMul\u001b[39m\u001b[38;5;124m\"\u001b[39m]))]\n\u001b[1;32m    544\u001b[0m \u001b[38;5;28;01melse\u001b[39;00m:\n\u001b[0;32m--> 545\u001b[0m     a_str \u001b[38;5;241m=\u001b[39m [\u001b[38;5;28mself\u001b[39m\u001b[38;5;241m.\u001b[39mparenthesize(x, prec) \u001b[38;5;28;01mfor\u001b[39;00m x \u001b[38;5;129;01min\u001b[39;00m a]\n\u001b[1;32m    546\u001b[0m b_str \u001b[38;5;241m=\u001b[39m [\u001b[38;5;28mself\u001b[39m\u001b[38;5;241m.\u001b[39mparenthesize(x, prec) \u001b[38;5;28;01mfor\u001b[39;00m x \u001b[38;5;129;01min\u001b[39;00m b]\n\u001b[1;32m    548\u001b[0m \u001b[38;5;66;03m# To parenthesize Pow with exp = -1 and having more than one Symbol\u001b[39;00m\n",
      "File \u001b[0;32m~/miniconda3/envs/omegaQE/lib/python3.10/site-packages/sympy/printing/codeprinter.py:545\u001b[0m, in \u001b[0;36m<listcomp>\u001b[0;34m(.0)\u001b[0m\n\u001b[1;32m    543\u001b[0m     a_str \u001b[38;5;241m=\u001b[39m [\u001b[38;5;28mself\u001b[39m\u001b[38;5;241m.\u001b[39mparenthesize(a[\u001b[38;5;241m0\u001b[39m], \u001b[38;5;241m0.5\u001b[39m\u001b[38;5;241m*\u001b[39m(PRECEDENCE[\u001b[38;5;124m\"\u001b[39m\u001b[38;5;124mPow\u001b[39m\u001b[38;5;124m\"\u001b[39m]\u001b[38;5;241m+\u001b[39mPRECEDENCE[\u001b[38;5;124m\"\u001b[39m\u001b[38;5;124mMul\u001b[39m\u001b[38;5;124m\"\u001b[39m]))]\n\u001b[1;32m    544\u001b[0m \u001b[38;5;28;01melse\u001b[39;00m:\n\u001b[0;32m--> 545\u001b[0m     a_str \u001b[38;5;241m=\u001b[39m [\u001b[38;5;28;43mself\u001b[39;49m\u001b[38;5;241;43m.\u001b[39;49m\u001b[43mparenthesize\u001b[49m\u001b[43m(\u001b[49m\u001b[43mx\u001b[49m\u001b[43m,\u001b[49m\u001b[43m \u001b[49m\u001b[43mprec\u001b[49m\u001b[43m)\u001b[49m \u001b[38;5;28;01mfor\u001b[39;00m x \u001b[38;5;129;01min\u001b[39;00m a]\n\u001b[1;32m    546\u001b[0m b_str \u001b[38;5;241m=\u001b[39m [\u001b[38;5;28mself\u001b[39m\u001b[38;5;241m.\u001b[39mparenthesize(x, prec) \u001b[38;5;28;01mfor\u001b[39;00m x \u001b[38;5;129;01min\u001b[39;00m b]\n\u001b[1;32m    548\u001b[0m \u001b[38;5;66;03m# To parenthesize Pow with exp = -1 and having more than one Symbol\u001b[39;00m\n",
      "File \u001b[0;32m~/miniconda3/envs/omegaQE/lib/python3.10/site-packages/sympy/printing/str.py:37\u001b[0m, in \u001b[0;36mStrPrinter.parenthesize\u001b[0;34m(self, item, level, strict)\u001b[0m\n\u001b[1;32m     35\u001b[0m \u001b[38;5;28;01mdef\u001b[39;00m \u001b[38;5;21mparenthesize\u001b[39m(\u001b[38;5;28mself\u001b[39m, item, level, strict\u001b[38;5;241m=\u001b[39m\u001b[38;5;28;01mFalse\u001b[39;00m):\n\u001b[1;32m     36\u001b[0m     \u001b[38;5;28;01mif\u001b[39;00m (precedence(item) \u001b[38;5;241m<\u001b[39m level) \u001b[38;5;129;01mor\u001b[39;00m ((\u001b[38;5;129;01mnot\u001b[39;00m strict) \u001b[38;5;129;01mand\u001b[39;00m precedence(item) \u001b[38;5;241m<\u001b[39m\u001b[38;5;241m=\u001b[39m level):\n\u001b[0;32m---> 37\u001b[0m         \u001b[38;5;28;01mreturn\u001b[39;00m \u001b[38;5;124m\"\u001b[39m\u001b[38;5;124m(\u001b[39m\u001b[38;5;132;01m%s\u001b[39;00m\u001b[38;5;124m)\u001b[39m\u001b[38;5;124m\"\u001b[39m \u001b[38;5;241m%\u001b[39m \u001b[38;5;28;43mself\u001b[39;49m\u001b[38;5;241;43m.\u001b[39;49m\u001b[43m_print\u001b[49m\u001b[43m(\u001b[49m\u001b[43mitem\u001b[49m\u001b[43m)\u001b[49m\n\u001b[1;32m     38\u001b[0m     \u001b[38;5;28;01melse\u001b[39;00m:\n\u001b[1;32m     39\u001b[0m         \u001b[38;5;28;01mreturn\u001b[39;00m \u001b[38;5;28mself\u001b[39m\u001b[38;5;241m.\u001b[39m_print(item)\n",
      "File \u001b[0;32m~/miniconda3/envs/omegaQE/lib/python3.10/site-packages/sympy/printing/printer.py:331\u001b[0m, in \u001b[0;36mPrinter._print\u001b[0;34m(self, expr, **kwargs)\u001b[0m\n\u001b[1;32m    329\u001b[0m     printmethod \u001b[38;5;241m=\u001b[39m \u001b[38;5;28mgetattr\u001b[39m(\u001b[38;5;28mself\u001b[39m, printmethodname, \u001b[38;5;28;01mNone\u001b[39;00m)\n\u001b[1;32m    330\u001b[0m     \u001b[38;5;28;01mif\u001b[39;00m printmethod \u001b[38;5;129;01mis\u001b[39;00m \u001b[38;5;129;01mnot\u001b[39;00m \u001b[38;5;28;01mNone\u001b[39;00m:\n\u001b[0;32m--> 331\u001b[0m         \u001b[38;5;28;01mreturn\u001b[39;00m \u001b[43mprintmethod\u001b[49m\u001b[43m(\u001b[49m\u001b[43mexpr\u001b[49m\u001b[43m,\u001b[49m\u001b[43m \u001b[49m\u001b[38;5;241;43m*\u001b[39;49m\u001b[38;5;241;43m*\u001b[39;49m\u001b[43mkwargs\u001b[49m\u001b[43m)\u001b[49m\n\u001b[1;32m    332\u001b[0m \u001b[38;5;66;03m# Unknown object, fall back to the emptyPrinter.\u001b[39;00m\n\u001b[1;32m    333\u001b[0m \u001b[38;5;28;01mreturn\u001b[39;00m \u001b[38;5;28mself\u001b[39m\u001b[38;5;241m.\u001b[39memptyPrinter(expr)\n",
      "File \u001b[0;32m~/miniconda3/envs/omegaQE/lib/python3.10/site-packages/sympy/printing/str.py:58\u001b[0m, in \u001b[0;36mStrPrinter._print_Add\u001b[0;34m(self, expr, order)\u001b[0m\n\u001b[1;32m     56\u001b[0m l \u001b[38;5;241m=\u001b[39m []\n\u001b[1;32m     57\u001b[0m \u001b[38;5;28;01mfor\u001b[39;00m term \u001b[38;5;129;01min\u001b[39;00m terms:\n\u001b[0;32m---> 58\u001b[0m     t \u001b[38;5;241m=\u001b[39m \u001b[38;5;28;43mself\u001b[39;49m\u001b[38;5;241;43m.\u001b[39;49m\u001b[43m_print\u001b[49m\u001b[43m(\u001b[49m\u001b[43mterm\u001b[49m\u001b[43m)\u001b[49m\n\u001b[1;32m     59\u001b[0m     \u001b[38;5;28;01mif\u001b[39;00m t\u001b[38;5;241m.\u001b[39mstartswith(\u001b[38;5;124m'\u001b[39m\u001b[38;5;124m-\u001b[39m\u001b[38;5;124m'\u001b[39m):\n\u001b[1;32m     60\u001b[0m         sign \u001b[38;5;241m=\u001b[39m \u001b[38;5;124m\"\u001b[39m\u001b[38;5;124m-\u001b[39m\u001b[38;5;124m\"\u001b[39m\n",
      "    \u001b[0;31m[... skipping similar frames: Printer._print at line 331 (1 times)]\u001b[0m\n",
      "File \u001b[0;32m~/miniconda3/envs/omegaQE/lib/python3.10/site-packages/sympy/printing/codeprinter.py:545\u001b[0m, in \u001b[0;36mCodePrinter._print_Mul\u001b[0;34m(self, expr)\u001b[0m\n\u001b[1;32m    543\u001b[0m     a_str \u001b[38;5;241m=\u001b[39m [\u001b[38;5;28mself\u001b[39m\u001b[38;5;241m.\u001b[39mparenthesize(a[\u001b[38;5;241m0\u001b[39m], \u001b[38;5;241m0.5\u001b[39m\u001b[38;5;241m*\u001b[39m(PRECEDENCE[\u001b[38;5;124m\"\u001b[39m\u001b[38;5;124mPow\u001b[39m\u001b[38;5;124m\"\u001b[39m]\u001b[38;5;241m+\u001b[39mPRECEDENCE[\u001b[38;5;124m\"\u001b[39m\u001b[38;5;124mMul\u001b[39m\u001b[38;5;124m\"\u001b[39m]))]\n\u001b[1;32m    544\u001b[0m \u001b[38;5;28;01melse\u001b[39;00m:\n\u001b[0;32m--> 545\u001b[0m     a_str \u001b[38;5;241m=\u001b[39m [\u001b[38;5;28mself\u001b[39m\u001b[38;5;241m.\u001b[39mparenthesize(x, prec) \u001b[38;5;28;01mfor\u001b[39;00m x \u001b[38;5;129;01min\u001b[39;00m a]\n\u001b[1;32m    546\u001b[0m b_str \u001b[38;5;241m=\u001b[39m [\u001b[38;5;28mself\u001b[39m\u001b[38;5;241m.\u001b[39mparenthesize(x, prec) \u001b[38;5;28;01mfor\u001b[39;00m x \u001b[38;5;129;01min\u001b[39;00m b]\n\u001b[1;32m    548\u001b[0m \u001b[38;5;66;03m# To parenthesize Pow with exp = -1 and having more than one Symbol\u001b[39;00m\n",
      "File \u001b[0;32m~/miniconda3/envs/omegaQE/lib/python3.10/site-packages/sympy/printing/codeprinter.py:545\u001b[0m, in \u001b[0;36m<listcomp>\u001b[0;34m(.0)\u001b[0m\n\u001b[1;32m    543\u001b[0m     a_str \u001b[38;5;241m=\u001b[39m [\u001b[38;5;28mself\u001b[39m\u001b[38;5;241m.\u001b[39mparenthesize(a[\u001b[38;5;241m0\u001b[39m], \u001b[38;5;241m0.5\u001b[39m\u001b[38;5;241m*\u001b[39m(PRECEDENCE[\u001b[38;5;124m\"\u001b[39m\u001b[38;5;124mPow\u001b[39m\u001b[38;5;124m\"\u001b[39m]\u001b[38;5;241m+\u001b[39mPRECEDENCE[\u001b[38;5;124m\"\u001b[39m\u001b[38;5;124mMul\u001b[39m\u001b[38;5;124m\"\u001b[39m]))]\n\u001b[1;32m    544\u001b[0m \u001b[38;5;28;01melse\u001b[39;00m:\n\u001b[0;32m--> 545\u001b[0m     a_str \u001b[38;5;241m=\u001b[39m [\u001b[38;5;28;43mself\u001b[39;49m\u001b[38;5;241;43m.\u001b[39;49m\u001b[43mparenthesize\u001b[49m\u001b[43m(\u001b[49m\u001b[43mx\u001b[49m\u001b[43m,\u001b[49m\u001b[43m \u001b[49m\u001b[43mprec\u001b[49m\u001b[43m)\u001b[49m \u001b[38;5;28;01mfor\u001b[39;00m x \u001b[38;5;129;01min\u001b[39;00m a]\n\u001b[1;32m    546\u001b[0m b_str \u001b[38;5;241m=\u001b[39m [\u001b[38;5;28mself\u001b[39m\u001b[38;5;241m.\u001b[39mparenthesize(x, prec) \u001b[38;5;28;01mfor\u001b[39;00m x \u001b[38;5;129;01min\u001b[39;00m b]\n\u001b[1;32m    548\u001b[0m \u001b[38;5;66;03m# To parenthesize Pow with exp = -1 and having more than one Symbol\u001b[39;00m\n",
      "File \u001b[0;32m~/miniconda3/envs/omegaQE/lib/python3.10/site-packages/sympy/printing/str.py:37\u001b[0m, in \u001b[0;36mStrPrinter.parenthesize\u001b[0;34m(self, item, level, strict)\u001b[0m\n\u001b[1;32m     35\u001b[0m \u001b[38;5;28;01mdef\u001b[39;00m \u001b[38;5;21mparenthesize\u001b[39m(\u001b[38;5;28mself\u001b[39m, item, level, strict\u001b[38;5;241m=\u001b[39m\u001b[38;5;28;01mFalse\u001b[39;00m):\n\u001b[1;32m     36\u001b[0m     \u001b[38;5;28;01mif\u001b[39;00m (precedence(item) \u001b[38;5;241m<\u001b[39m level) \u001b[38;5;129;01mor\u001b[39;00m ((\u001b[38;5;129;01mnot\u001b[39;00m strict) \u001b[38;5;129;01mand\u001b[39;00m precedence(item) \u001b[38;5;241m<\u001b[39m\u001b[38;5;241m=\u001b[39m level):\n\u001b[0;32m---> 37\u001b[0m         \u001b[38;5;28;01mreturn\u001b[39;00m \u001b[38;5;124m\"\u001b[39m\u001b[38;5;124m(\u001b[39m\u001b[38;5;132;01m%s\u001b[39;00m\u001b[38;5;124m)\u001b[39m\u001b[38;5;124m\"\u001b[39m \u001b[38;5;241m%\u001b[39m \u001b[38;5;28;43mself\u001b[39;49m\u001b[38;5;241;43m.\u001b[39;49m\u001b[43m_print\u001b[49m\u001b[43m(\u001b[49m\u001b[43mitem\u001b[49m\u001b[43m)\u001b[49m\n\u001b[1;32m     38\u001b[0m     \u001b[38;5;28;01melse\u001b[39;00m:\n\u001b[1;32m     39\u001b[0m         \u001b[38;5;28;01mreturn\u001b[39;00m \u001b[38;5;28mself\u001b[39m\u001b[38;5;241m.\u001b[39m_print(item)\n",
      "    \u001b[0;31m[... skipping similar frames: Printer._print at line 331 (1 times)]\u001b[0m\n",
      "File \u001b[0;32m~/miniconda3/envs/omegaQE/lib/python3.10/site-packages/sympy/printing/str.py:58\u001b[0m, in \u001b[0;36mStrPrinter._print_Add\u001b[0;34m(self, expr, order)\u001b[0m\n\u001b[1;32m     56\u001b[0m l \u001b[38;5;241m=\u001b[39m []\n\u001b[1;32m     57\u001b[0m \u001b[38;5;28;01mfor\u001b[39;00m term \u001b[38;5;129;01min\u001b[39;00m terms:\n\u001b[0;32m---> 58\u001b[0m     t \u001b[38;5;241m=\u001b[39m \u001b[38;5;28;43mself\u001b[39;49m\u001b[38;5;241;43m.\u001b[39;49m\u001b[43m_print\u001b[49m\u001b[43m(\u001b[49m\u001b[43mterm\u001b[49m\u001b[43m)\u001b[49m\n\u001b[1;32m     59\u001b[0m     \u001b[38;5;28;01mif\u001b[39;00m t\u001b[38;5;241m.\u001b[39mstartswith(\u001b[38;5;124m'\u001b[39m\u001b[38;5;124m-\u001b[39m\u001b[38;5;124m'\u001b[39m):\n\u001b[1;32m     60\u001b[0m         sign \u001b[38;5;241m=\u001b[39m \u001b[38;5;124m\"\u001b[39m\u001b[38;5;124m-\u001b[39m\u001b[38;5;124m\"\u001b[39m\n",
      "    \u001b[0;31m[... skipping similar frames: Printer._print at line 331 (3 times), <listcomp> at line 545 (1 times), StrPrinter._print_Add at line 58 (1 times), CodePrinter._print_Mul at line 545 (1 times), StrPrinter.parenthesize at line 37 (1 times)]\u001b[0m\n",
      "File \u001b[0;32m~/miniconda3/envs/omegaQE/lib/python3.10/site-packages/sympy/printing/codeprinter.py:545\u001b[0m, in \u001b[0;36mCodePrinter._print_Mul\u001b[0;34m(self, expr)\u001b[0m\n\u001b[1;32m    543\u001b[0m     a_str \u001b[38;5;241m=\u001b[39m [\u001b[38;5;28mself\u001b[39m\u001b[38;5;241m.\u001b[39mparenthesize(a[\u001b[38;5;241m0\u001b[39m], \u001b[38;5;241m0.5\u001b[39m\u001b[38;5;241m*\u001b[39m(PRECEDENCE[\u001b[38;5;124m\"\u001b[39m\u001b[38;5;124mPow\u001b[39m\u001b[38;5;124m\"\u001b[39m]\u001b[38;5;241m+\u001b[39mPRECEDENCE[\u001b[38;5;124m\"\u001b[39m\u001b[38;5;124mMul\u001b[39m\u001b[38;5;124m\"\u001b[39m]))]\n\u001b[1;32m    544\u001b[0m \u001b[38;5;28;01melse\u001b[39;00m:\n\u001b[0;32m--> 545\u001b[0m     a_str \u001b[38;5;241m=\u001b[39m [\u001b[38;5;28mself\u001b[39m\u001b[38;5;241m.\u001b[39mparenthesize(x, prec) \u001b[38;5;28;01mfor\u001b[39;00m x \u001b[38;5;129;01min\u001b[39;00m a]\n\u001b[1;32m    546\u001b[0m b_str \u001b[38;5;241m=\u001b[39m [\u001b[38;5;28mself\u001b[39m\u001b[38;5;241m.\u001b[39mparenthesize(x, prec) \u001b[38;5;28;01mfor\u001b[39;00m x \u001b[38;5;129;01min\u001b[39;00m b]\n\u001b[1;32m    548\u001b[0m \u001b[38;5;66;03m# To parenthesize Pow with exp = -1 and having more than one Symbol\u001b[39;00m\n",
      "File \u001b[0;32m~/miniconda3/envs/omegaQE/lib/python3.10/site-packages/sympy/printing/codeprinter.py:545\u001b[0m, in \u001b[0;36m<listcomp>\u001b[0;34m(.0)\u001b[0m\n\u001b[1;32m    543\u001b[0m     a_str \u001b[38;5;241m=\u001b[39m [\u001b[38;5;28mself\u001b[39m\u001b[38;5;241m.\u001b[39mparenthesize(a[\u001b[38;5;241m0\u001b[39m], \u001b[38;5;241m0.5\u001b[39m\u001b[38;5;241m*\u001b[39m(PRECEDENCE[\u001b[38;5;124m\"\u001b[39m\u001b[38;5;124mPow\u001b[39m\u001b[38;5;124m\"\u001b[39m]\u001b[38;5;241m+\u001b[39mPRECEDENCE[\u001b[38;5;124m\"\u001b[39m\u001b[38;5;124mMul\u001b[39m\u001b[38;5;124m\"\u001b[39m]))]\n\u001b[1;32m    544\u001b[0m \u001b[38;5;28;01melse\u001b[39;00m:\n\u001b[0;32m--> 545\u001b[0m     a_str \u001b[38;5;241m=\u001b[39m [\u001b[38;5;28;43mself\u001b[39;49m\u001b[38;5;241;43m.\u001b[39;49m\u001b[43mparenthesize\u001b[49m\u001b[43m(\u001b[49m\u001b[43mx\u001b[49m\u001b[43m,\u001b[49m\u001b[43m \u001b[49m\u001b[43mprec\u001b[49m\u001b[43m)\u001b[49m \u001b[38;5;28;01mfor\u001b[39;00m x \u001b[38;5;129;01min\u001b[39;00m a]\n\u001b[1;32m    546\u001b[0m b_str \u001b[38;5;241m=\u001b[39m [\u001b[38;5;28mself\u001b[39m\u001b[38;5;241m.\u001b[39mparenthesize(x, prec) \u001b[38;5;28;01mfor\u001b[39;00m x \u001b[38;5;129;01min\u001b[39;00m b]\n\u001b[1;32m    548\u001b[0m \u001b[38;5;66;03m# To parenthesize Pow with exp = -1 and having more than one Symbol\u001b[39;00m\n",
      "File \u001b[0;32m~/miniconda3/envs/omegaQE/lib/python3.10/site-packages/sympy/printing/str.py:37\u001b[0m, in \u001b[0;36mStrPrinter.parenthesize\u001b[0;34m(self, item, level, strict)\u001b[0m\n\u001b[1;32m     35\u001b[0m \u001b[38;5;28;01mdef\u001b[39;00m \u001b[38;5;21mparenthesize\u001b[39m(\u001b[38;5;28mself\u001b[39m, item, level, strict\u001b[38;5;241m=\u001b[39m\u001b[38;5;28;01mFalse\u001b[39;00m):\n\u001b[1;32m     36\u001b[0m     \u001b[38;5;28;01mif\u001b[39;00m (precedence(item) \u001b[38;5;241m<\u001b[39m level) \u001b[38;5;129;01mor\u001b[39;00m ((\u001b[38;5;129;01mnot\u001b[39;00m strict) \u001b[38;5;129;01mand\u001b[39;00m precedence(item) \u001b[38;5;241m<\u001b[39m\u001b[38;5;241m=\u001b[39m level):\n\u001b[0;32m---> 37\u001b[0m         \u001b[38;5;28;01mreturn\u001b[39;00m \u001b[38;5;124m\"\u001b[39m\u001b[38;5;124m(\u001b[39m\u001b[38;5;132;01m%s\u001b[39;00m\u001b[38;5;124m)\u001b[39m\u001b[38;5;124m\"\u001b[39m \u001b[38;5;241m%\u001b[39m \u001b[38;5;28;43mself\u001b[39;49m\u001b[38;5;241;43m.\u001b[39;49m\u001b[43m_print\u001b[49m\u001b[43m(\u001b[49m\u001b[43mitem\u001b[49m\u001b[43m)\u001b[49m\n\u001b[1;32m     38\u001b[0m     \u001b[38;5;28;01melse\u001b[39;00m:\n\u001b[1;32m     39\u001b[0m         \u001b[38;5;28;01mreturn\u001b[39;00m \u001b[38;5;28mself\u001b[39m\u001b[38;5;241m.\u001b[39m_print(item)\n",
      "    \u001b[0;31m[... skipping similar frames: Printer._print at line 331 (1 times)]\u001b[0m\n",
      "File \u001b[0;32m~/miniconda3/envs/omegaQE/lib/python3.10/site-packages/sympy/printing/str.py:58\u001b[0m, in \u001b[0;36mStrPrinter._print_Add\u001b[0;34m(self, expr, order)\u001b[0m\n\u001b[1;32m     56\u001b[0m l \u001b[38;5;241m=\u001b[39m []\n\u001b[1;32m     57\u001b[0m \u001b[38;5;28;01mfor\u001b[39;00m term \u001b[38;5;129;01min\u001b[39;00m terms:\n\u001b[0;32m---> 58\u001b[0m     t \u001b[38;5;241m=\u001b[39m \u001b[38;5;28;43mself\u001b[39;49m\u001b[38;5;241;43m.\u001b[39;49m\u001b[43m_print\u001b[49m\u001b[43m(\u001b[49m\u001b[43mterm\u001b[49m\u001b[43m)\u001b[49m\n\u001b[1;32m     59\u001b[0m     \u001b[38;5;28;01mif\u001b[39;00m t\u001b[38;5;241m.\u001b[39mstartswith(\u001b[38;5;124m'\u001b[39m\u001b[38;5;124m-\u001b[39m\u001b[38;5;124m'\u001b[39m):\n\u001b[1;32m     60\u001b[0m         sign \u001b[38;5;241m=\u001b[39m \u001b[38;5;124m\"\u001b[39m\u001b[38;5;124m-\u001b[39m\u001b[38;5;124m\"\u001b[39m\n",
      "File \u001b[0;32m~/miniconda3/envs/omegaQE/lib/python3.10/site-packages/sympy/printing/printer.py:331\u001b[0m, in \u001b[0;36mPrinter._print\u001b[0;34m(self, expr, **kwargs)\u001b[0m\n\u001b[1;32m    329\u001b[0m     printmethod \u001b[38;5;241m=\u001b[39m \u001b[38;5;28mgetattr\u001b[39m(\u001b[38;5;28mself\u001b[39m, printmethodname, \u001b[38;5;28;01mNone\u001b[39;00m)\n\u001b[1;32m    330\u001b[0m     \u001b[38;5;28;01mif\u001b[39;00m printmethod \u001b[38;5;129;01mis\u001b[39;00m \u001b[38;5;129;01mnot\u001b[39;00m \u001b[38;5;28;01mNone\u001b[39;00m:\n\u001b[0;32m--> 331\u001b[0m         \u001b[38;5;28;01mreturn\u001b[39;00m \u001b[43mprintmethod\u001b[49m\u001b[43m(\u001b[49m\u001b[43mexpr\u001b[49m\u001b[43m,\u001b[49m\u001b[43m \u001b[49m\u001b[38;5;241;43m*\u001b[39;49m\u001b[38;5;241;43m*\u001b[39;49m\u001b[43mkwargs\u001b[49m\u001b[43m)\u001b[49m\n\u001b[1;32m    332\u001b[0m \u001b[38;5;66;03m# Unknown object, fall back to the emptyPrinter.\u001b[39;00m\n\u001b[1;32m    333\u001b[0m \u001b[38;5;28;01mreturn\u001b[39;00m \u001b[38;5;28mself\u001b[39m\u001b[38;5;241m.\u001b[39memptyPrinter(expr)\n",
      "File \u001b[0;32m~/miniconda3/envs/omegaQE/lib/python3.10/site-packages/sympy/printing/codeprinter.py:546\u001b[0m, in \u001b[0;36mCodePrinter._print_Mul\u001b[0;34m(self, expr)\u001b[0m\n\u001b[1;32m    544\u001b[0m \u001b[38;5;28;01melse\u001b[39;00m:\n\u001b[1;32m    545\u001b[0m     a_str \u001b[38;5;241m=\u001b[39m [\u001b[38;5;28mself\u001b[39m\u001b[38;5;241m.\u001b[39mparenthesize(x, prec) \u001b[38;5;28;01mfor\u001b[39;00m x \u001b[38;5;129;01min\u001b[39;00m a]\n\u001b[0;32m--> 546\u001b[0m b_str \u001b[38;5;241m=\u001b[39m [\u001b[38;5;28mself\u001b[39m\u001b[38;5;241m.\u001b[39mparenthesize(x, prec) \u001b[38;5;28;01mfor\u001b[39;00m x \u001b[38;5;129;01min\u001b[39;00m b]\n\u001b[1;32m    548\u001b[0m \u001b[38;5;66;03m# To parenthesize Pow with exp = -1 and having more than one Symbol\u001b[39;00m\n\u001b[1;32m    549\u001b[0m \u001b[38;5;28;01mfor\u001b[39;00m item \u001b[38;5;129;01min\u001b[39;00m pow_paren:\n",
      "File \u001b[0;32m~/miniconda3/envs/omegaQE/lib/python3.10/site-packages/sympy/printing/codeprinter.py:546\u001b[0m, in \u001b[0;36m<listcomp>\u001b[0;34m(.0)\u001b[0m\n\u001b[1;32m    544\u001b[0m \u001b[38;5;28;01melse\u001b[39;00m:\n\u001b[1;32m    545\u001b[0m     a_str \u001b[38;5;241m=\u001b[39m [\u001b[38;5;28mself\u001b[39m\u001b[38;5;241m.\u001b[39mparenthesize(x, prec) \u001b[38;5;28;01mfor\u001b[39;00m x \u001b[38;5;129;01min\u001b[39;00m a]\n\u001b[0;32m--> 546\u001b[0m b_str \u001b[38;5;241m=\u001b[39m [\u001b[38;5;28;43mself\u001b[39;49m\u001b[38;5;241;43m.\u001b[39;49m\u001b[43mparenthesize\u001b[49m\u001b[43m(\u001b[49m\u001b[43mx\u001b[49m\u001b[43m,\u001b[49m\u001b[43m \u001b[49m\u001b[43mprec\u001b[49m\u001b[43m)\u001b[49m \u001b[38;5;28;01mfor\u001b[39;00m x \u001b[38;5;129;01min\u001b[39;00m b]\n\u001b[1;32m    548\u001b[0m \u001b[38;5;66;03m# To parenthesize Pow with exp = -1 and having more than one Symbol\u001b[39;00m\n\u001b[1;32m    549\u001b[0m \u001b[38;5;28;01mfor\u001b[39;00m item \u001b[38;5;129;01min\u001b[39;00m pow_paren:\n",
      "File \u001b[0;32m~/miniconda3/envs/omegaQE/lib/python3.10/site-packages/sympy/printing/str.py:37\u001b[0m, in \u001b[0;36mStrPrinter.parenthesize\u001b[0;34m(self, item, level, strict)\u001b[0m\n\u001b[1;32m     35\u001b[0m \u001b[38;5;28;01mdef\u001b[39;00m \u001b[38;5;21mparenthesize\u001b[39m(\u001b[38;5;28mself\u001b[39m, item, level, strict\u001b[38;5;241m=\u001b[39m\u001b[38;5;28;01mFalse\u001b[39;00m):\n\u001b[1;32m     36\u001b[0m     \u001b[38;5;28;01mif\u001b[39;00m (precedence(item) \u001b[38;5;241m<\u001b[39m level) \u001b[38;5;129;01mor\u001b[39;00m ((\u001b[38;5;129;01mnot\u001b[39;00m strict) \u001b[38;5;129;01mand\u001b[39;00m precedence(item) \u001b[38;5;241m<\u001b[39m\u001b[38;5;241m=\u001b[39m level):\n\u001b[0;32m---> 37\u001b[0m         \u001b[38;5;28;01mreturn\u001b[39;00m \u001b[38;5;124m\"\u001b[39m\u001b[38;5;124m(\u001b[39m\u001b[38;5;132;01m%s\u001b[39;00m\u001b[38;5;124m)\u001b[39m\u001b[38;5;124m\"\u001b[39m \u001b[38;5;241m%\u001b[39m \u001b[38;5;28;43mself\u001b[39;49m\u001b[38;5;241;43m.\u001b[39;49m\u001b[43m_print\u001b[49m\u001b[43m(\u001b[49m\u001b[43mitem\u001b[49m\u001b[43m)\u001b[49m\n\u001b[1;32m     38\u001b[0m     \u001b[38;5;28;01melse\u001b[39;00m:\n\u001b[1;32m     39\u001b[0m         \u001b[38;5;28;01mreturn\u001b[39;00m \u001b[38;5;28mself\u001b[39m\u001b[38;5;241m.\u001b[39m_print(item)\n",
      "File \u001b[0;32m~/miniconda3/envs/omegaQE/lib/python3.10/site-packages/sympy/printing/printer.py:331\u001b[0m, in \u001b[0;36mPrinter._print\u001b[0;34m(self, expr, **kwargs)\u001b[0m\n\u001b[1;32m    329\u001b[0m     printmethod \u001b[38;5;241m=\u001b[39m \u001b[38;5;28mgetattr\u001b[39m(\u001b[38;5;28mself\u001b[39m, printmethodname, \u001b[38;5;28;01mNone\u001b[39;00m)\n\u001b[1;32m    330\u001b[0m     \u001b[38;5;28;01mif\u001b[39;00m printmethod \u001b[38;5;129;01mis\u001b[39;00m \u001b[38;5;129;01mnot\u001b[39;00m \u001b[38;5;28;01mNone\u001b[39;00m:\n\u001b[0;32m--> 331\u001b[0m         \u001b[38;5;28;01mreturn\u001b[39;00m \u001b[43mprintmethod\u001b[49m\u001b[43m(\u001b[49m\u001b[43mexpr\u001b[49m\u001b[43m,\u001b[49m\u001b[43m \u001b[49m\u001b[38;5;241;43m*\u001b[39;49m\u001b[38;5;241;43m*\u001b[39;49m\u001b[43mkwargs\u001b[49m\u001b[43m)\u001b[49m\n\u001b[1;32m    332\u001b[0m \u001b[38;5;66;03m# Unknown object, fall back to the emptyPrinter.\u001b[39;00m\n\u001b[1;32m    333\u001b[0m \u001b[38;5;28;01mreturn\u001b[39;00m \u001b[38;5;28mself\u001b[39m\u001b[38;5;241m.\u001b[39memptyPrinter(expr)\n",
      "File \u001b[0;32m~/miniconda3/envs/omegaQE/lib/python3.10/site-packages/sympy/printing/str.py:58\u001b[0m, in \u001b[0;36mStrPrinter._print_Add\u001b[0;34m(self, expr, order)\u001b[0m\n\u001b[1;32m     56\u001b[0m l \u001b[38;5;241m=\u001b[39m []\n\u001b[1;32m     57\u001b[0m \u001b[38;5;28;01mfor\u001b[39;00m term \u001b[38;5;129;01min\u001b[39;00m terms:\n\u001b[0;32m---> 58\u001b[0m     t \u001b[38;5;241m=\u001b[39m \u001b[38;5;28;43mself\u001b[39;49m\u001b[38;5;241;43m.\u001b[39;49m\u001b[43m_print\u001b[49m\u001b[43m(\u001b[49m\u001b[43mterm\u001b[49m\u001b[43m)\u001b[49m\n\u001b[1;32m     59\u001b[0m     \u001b[38;5;28;01mif\u001b[39;00m t\u001b[38;5;241m.\u001b[39mstartswith(\u001b[38;5;124m'\u001b[39m\u001b[38;5;124m-\u001b[39m\u001b[38;5;124m'\u001b[39m):\n\u001b[1;32m     60\u001b[0m         sign \u001b[38;5;241m=\u001b[39m \u001b[38;5;124m\"\u001b[39m\u001b[38;5;124m-\u001b[39m\u001b[38;5;124m\"\u001b[39m\n",
      "File \u001b[0;32m~/miniconda3/envs/omegaQE/lib/python3.10/site-packages/sympy/printing/printer.py:331\u001b[0m, in \u001b[0;36mPrinter._print\u001b[0;34m(self, expr, **kwargs)\u001b[0m\n\u001b[1;32m    329\u001b[0m     printmethod \u001b[38;5;241m=\u001b[39m \u001b[38;5;28mgetattr\u001b[39m(\u001b[38;5;28mself\u001b[39m, printmethodname, \u001b[38;5;28;01mNone\u001b[39;00m)\n\u001b[1;32m    330\u001b[0m     \u001b[38;5;28;01mif\u001b[39;00m printmethod \u001b[38;5;129;01mis\u001b[39;00m \u001b[38;5;129;01mnot\u001b[39;00m \u001b[38;5;28;01mNone\u001b[39;00m:\n\u001b[0;32m--> 331\u001b[0m         \u001b[38;5;28;01mreturn\u001b[39;00m \u001b[43mprintmethod\u001b[49m\u001b[43m(\u001b[49m\u001b[43mexpr\u001b[49m\u001b[43m,\u001b[49m\u001b[43m \u001b[49m\u001b[38;5;241;43m*\u001b[39;49m\u001b[38;5;241;43m*\u001b[39;49m\u001b[43mkwargs\u001b[49m\u001b[43m)\u001b[49m\n\u001b[1;32m    332\u001b[0m \u001b[38;5;66;03m# Unknown object, fall back to the emptyPrinter.\u001b[39;00m\n\u001b[1;32m    333\u001b[0m \u001b[38;5;28;01mreturn\u001b[39;00m \u001b[38;5;28mself\u001b[39m\u001b[38;5;241m.\u001b[39memptyPrinter(expr)\n",
      "File \u001b[0;32m~/miniconda3/envs/omegaQE/lib/python3.10/site-packages/sympy/printing/codeprinter.py:545\u001b[0m, in \u001b[0;36mCodePrinter._print_Mul\u001b[0;34m(self, expr)\u001b[0m\n\u001b[1;32m    543\u001b[0m     a_str \u001b[38;5;241m=\u001b[39m [\u001b[38;5;28mself\u001b[39m\u001b[38;5;241m.\u001b[39mparenthesize(a[\u001b[38;5;241m0\u001b[39m], \u001b[38;5;241m0.5\u001b[39m\u001b[38;5;241m*\u001b[39m(PRECEDENCE[\u001b[38;5;124m\"\u001b[39m\u001b[38;5;124mPow\u001b[39m\u001b[38;5;124m\"\u001b[39m]\u001b[38;5;241m+\u001b[39mPRECEDENCE[\u001b[38;5;124m\"\u001b[39m\u001b[38;5;124mMul\u001b[39m\u001b[38;5;124m\"\u001b[39m]))]\n\u001b[1;32m    544\u001b[0m \u001b[38;5;28;01melse\u001b[39;00m:\n\u001b[0;32m--> 545\u001b[0m     a_str \u001b[38;5;241m=\u001b[39m [\u001b[38;5;28mself\u001b[39m\u001b[38;5;241m.\u001b[39mparenthesize(x, prec) \u001b[38;5;28;01mfor\u001b[39;00m x \u001b[38;5;129;01min\u001b[39;00m a]\n\u001b[1;32m    546\u001b[0m b_str \u001b[38;5;241m=\u001b[39m [\u001b[38;5;28mself\u001b[39m\u001b[38;5;241m.\u001b[39mparenthesize(x, prec) \u001b[38;5;28;01mfor\u001b[39;00m x \u001b[38;5;129;01min\u001b[39;00m b]\n\u001b[1;32m    548\u001b[0m \u001b[38;5;66;03m# To parenthesize Pow with exp = -1 and having more than one Symbol\u001b[39;00m\n",
      "File \u001b[0;32m~/miniconda3/envs/omegaQE/lib/python3.10/site-packages/sympy/printing/codeprinter.py:545\u001b[0m, in \u001b[0;36m<listcomp>\u001b[0;34m(.0)\u001b[0m\n\u001b[1;32m    543\u001b[0m     a_str \u001b[38;5;241m=\u001b[39m [\u001b[38;5;28mself\u001b[39m\u001b[38;5;241m.\u001b[39mparenthesize(a[\u001b[38;5;241m0\u001b[39m], \u001b[38;5;241m0.5\u001b[39m\u001b[38;5;241m*\u001b[39m(PRECEDENCE[\u001b[38;5;124m\"\u001b[39m\u001b[38;5;124mPow\u001b[39m\u001b[38;5;124m\"\u001b[39m]\u001b[38;5;241m+\u001b[39mPRECEDENCE[\u001b[38;5;124m\"\u001b[39m\u001b[38;5;124mMul\u001b[39m\u001b[38;5;124m\"\u001b[39m]))]\n\u001b[1;32m    544\u001b[0m \u001b[38;5;28;01melse\u001b[39;00m:\n\u001b[0;32m--> 545\u001b[0m     a_str \u001b[38;5;241m=\u001b[39m [\u001b[38;5;28;43mself\u001b[39;49m\u001b[38;5;241;43m.\u001b[39;49m\u001b[43mparenthesize\u001b[49m\u001b[43m(\u001b[49m\u001b[43mx\u001b[49m\u001b[43m,\u001b[49m\u001b[43m \u001b[49m\u001b[43mprec\u001b[49m\u001b[43m)\u001b[49m \u001b[38;5;28;01mfor\u001b[39;00m x \u001b[38;5;129;01min\u001b[39;00m a]\n\u001b[1;32m    546\u001b[0m b_str \u001b[38;5;241m=\u001b[39m [\u001b[38;5;28mself\u001b[39m\u001b[38;5;241m.\u001b[39mparenthesize(x, prec) \u001b[38;5;28;01mfor\u001b[39;00m x \u001b[38;5;129;01min\u001b[39;00m b]\n\u001b[1;32m    548\u001b[0m \u001b[38;5;66;03m# To parenthesize Pow with exp = -1 and having more than one Symbol\u001b[39;00m\n",
      "File \u001b[0;32m~/miniconda3/envs/omegaQE/lib/python3.10/site-packages/sympy/printing/str.py:37\u001b[0m, in \u001b[0;36mStrPrinter.parenthesize\u001b[0;34m(self, item, level, strict)\u001b[0m\n\u001b[1;32m     35\u001b[0m \u001b[38;5;28;01mdef\u001b[39;00m \u001b[38;5;21mparenthesize\u001b[39m(\u001b[38;5;28mself\u001b[39m, item, level, strict\u001b[38;5;241m=\u001b[39m\u001b[38;5;28;01mFalse\u001b[39;00m):\n\u001b[1;32m     36\u001b[0m     \u001b[38;5;28;01mif\u001b[39;00m (precedence(item) \u001b[38;5;241m<\u001b[39m level) \u001b[38;5;129;01mor\u001b[39;00m ((\u001b[38;5;129;01mnot\u001b[39;00m strict) \u001b[38;5;129;01mand\u001b[39;00m precedence(item) \u001b[38;5;241m<\u001b[39m\u001b[38;5;241m=\u001b[39m level):\n\u001b[0;32m---> 37\u001b[0m         \u001b[38;5;28;01mreturn\u001b[39;00m \u001b[38;5;124m\"\u001b[39m\u001b[38;5;124m(\u001b[39m\u001b[38;5;132;01m%s\u001b[39;00m\u001b[38;5;124m)\u001b[39m\u001b[38;5;124m\"\u001b[39m \u001b[38;5;241m%\u001b[39m \u001b[38;5;28;43mself\u001b[39;49m\u001b[38;5;241;43m.\u001b[39;49m\u001b[43m_print\u001b[49m\u001b[43m(\u001b[49m\u001b[43mitem\u001b[49m\u001b[43m)\u001b[49m\n\u001b[1;32m     38\u001b[0m     \u001b[38;5;28;01melse\u001b[39;00m:\n\u001b[1;32m     39\u001b[0m         \u001b[38;5;28;01mreturn\u001b[39;00m \u001b[38;5;28mself\u001b[39m\u001b[38;5;241m.\u001b[39m_print(item)\n",
      "    \u001b[0;31m[... skipping similar frames: Printer._print at line 331 (1 times)]\u001b[0m\n",
      "File \u001b[0;32m~/miniconda3/envs/omegaQE/lib/python3.10/site-packages/sympy/printing/str.py:58\u001b[0m, in \u001b[0;36mStrPrinter._print_Add\u001b[0;34m(self, expr, order)\u001b[0m\n\u001b[1;32m     56\u001b[0m l \u001b[38;5;241m=\u001b[39m []\n\u001b[1;32m     57\u001b[0m \u001b[38;5;28;01mfor\u001b[39;00m term \u001b[38;5;129;01min\u001b[39;00m terms:\n\u001b[0;32m---> 58\u001b[0m     t \u001b[38;5;241m=\u001b[39m \u001b[38;5;28;43mself\u001b[39;49m\u001b[38;5;241;43m.\u001b[39;49m\u001b[43m_print\u001b[49m\u001b[43m(\u001b[49m\u001b[43mterm\u001b[49m\u001b[43m)\u001b[49m\n\u001b[1;32m     59\u001b[0m     \u001b[38;5;28;01mif\u001b[39;00m t\u001b[38;5;241m.\u001b[39mstartswith(\u001b[38;5;124m'\u001b[39m\u001b[38;5;124m-\u001b[39m\u001b[38;5;124m'\u001b[39m):\n\u001b[1;32m     60\u001b[0m         sign \u001b[38;5;241m=\u001b[39m \u001b[38;5;124m\"\u001b[39m\u001b[38;5;124m-\u001b[39m\u001b[38;5;124m\"\u001b[39m\n",
      "    \u001b[0;31m[... skipping similar frames: Printer._print at line 331 (1 times)]\u001b[0m\n",
      "File \u001b[0;32m~/miniconda3/envs/omegaQE/lib/python3.10/site-packages/sympy/printing/codeprinter.py:545\u001b[0m, in \u001b[0;36mCodePrinter._print_Mul\u001b[0;34m(self, expr)\u001b[0m\n\u001b[1;32m    543\u001b[0m     a_str \u001b[38;5;241m=\u001b[39m [\u001b[38;5;28mself\u001b[39m\u001b[38;5;241m.\u001b[39mparenthesize(a[\u001b[38;5;241m0\u001b[39m], \u001b[38;5;241m0.5\u001b[39m\u001b[38;5;241m*\u001b[39m(PRECEDENCE[\u001b[38;5;124m\"\u001b[39m\u001b[38;5;124mPow\u001b[39m\u001b[38;5;124m\"\u001b[39m]\u001b[38;5;241m+\u001b[39mPRECEDENCE[\u001b[38;5;124m\"\u001b[39m\u001b[38;5;124mMul\u001b[39m\u001b[38;5;124m\"\u001b[39m]))]\n\u001b[1;32m    544\u001b[0m \u001b[38;5;28;01melse\u001b[39;00m:\n\u001b[0;32m--> 545\u001b[0m     a_str \u001b[38;5;241m=\u001b[39m [\u001b[38;5;28mself\u001b[39m\u001b[38;5;241m.\u001b[39mparenthesize(x, prec) \u001b[38;5;28;01mfor\u001b[39;00m x \u001b[38;5;129;01min\u001b[39;00m a]\n\u001b[1;32m    546\u001b[0m b_str \u001b[38;5;241m=\u001b[39m [\u001b[38;5;28mself\u001b[39m\u001b[38;5;241m.\u001b[39mparenthesize(x, prec) \u001b[38;5;28;01mfor\u001b[39;00m x \u001b[38;5;129;01min\u001b[39;00m b]\n\u001b[1;32m    548\u001b[0m \u001b[38;5;66;03m# To parenthesize Pow with exp = -1 and having more than one Symbol\u001b[39;00m\n",
      "File \u001b[0;32m~/miniconda3/envs/omegaQE/lib/python3.10/site-packages/sympy/printing/codeprinter.py:545\u001b[0m, in \u001b[0;36m<listcomp>\u001b[0;34m(.0)\u001b[0m\n\u001b[1;32m    543\u001b[0m     a_str \u001b[38;5;241m=\u001b[39m [\u001b[38;5;28mself\u001b[39m\u001b[38;5;241m.\u001b[39mparenthesize(a[\u001b[38;5;241m0\u001b[39m], \u001b[38;5;241m0.5\u001b[39m\u001b[38;5;241m*\u001b[39m(PRECEDENCE[\u001b[38;5;124m\"\u001b[39m\u001b[38;5;124mPow\u001b[39m\u001b[38;5;124m\"\u001b[39m]\u001b[38;5;241m+\u001b[39mPRECEDENCE[\u001b[38;5;124m\"\u001b[39m\u001b[38;5;124mMul\u001b[39m\u001b[38;5;124m\"\u001b[39m]))]\n\u001b[1;32m    544\u001b[0m \u001b[38;5;28;01melse\u001b[39;00m:\n\u001b[0;32m--> 545\u001b[0m     a_str \u001b[38;5;241m=\u001b[39m [\u001b[38;5;28;43mself\u001b[39;49m\u001b[38;5;241;43m.\u001b[39;49m\u001b[43mparenthesize\u001b[49m\u001b[43m(\u001b[49m\u001b[43mx\u001b[49m\u001b[43m,\u001b[49m\u001b[43m \u001b[49m\u001b[43mprec\u001b[49m\u001b[43m)\u001b[49m \u001b[38;5;28;01mfor\u001b[39;00m x \u001b[38;5;129;01min\u001b[39;00m a]\n\u001b[1;32m    546\u001b[0m b_str \u001b[38;5;241m=\u001b[39m [\u001b[38;5;28mself\u001b[39m\u001b[38;5;241m.\u001b[39mparenthesize(x, prec) \u001b[38;5;28;01mfor\u001b[39;00m x \u001b[38;5;129;01min\u001b[39;00m b]\n\u001b[1;32m    548\u001b[0m \u001b[38;5;66;03m# To parenthesize Pow with exp = -1 and having more than one Symbol\u001b[39;00m\n",
      "File \u001b[0;32m~/miniconda3/envs/omegaQE/lib/python3.10/site-packages/sympy/printing/str.py:37\u001b[0m, in \u001b[0;36mStrPrinter.parenthesize\u001b[0;34m(self, item, level, strict)\u001b[0m\n\u001b[1;32m     35\u001b[0m \u001b[38;5;28;01mdef\u001b[39;00m \u001b[38;5;21mparenthesize\u001b[39m(\u001b[38;5;28mself\u001b[39m, item, level, strict\u001b[38;5;241m=\u001b[39m\u001b[38;5;28;01mFalse\u001b[39;00m):\n\u001b[1;32m     36\u001b[0m     \u001b[38;5;28;01mif\u001b[39;00m (precedence(item) \u001b[38;5;241m<\u001b[39m level) \u001b[38;5;129;01mor\u001b[39;00m ((\u001b[38;5;129;01mnot\u001b[39;00m strict) \u001b[38;5;129;01mand\u001b[39;00m precedence(item) \u001b[38;5;241m<\u001b[39m\u001b[38;5;241m=\u001b[39m level):\n\u001b[0;32m---> 37\u001b[0m         \u001b[38;5;28;01mreturn\u001b[39;00m \u001b[38;5;124m\"\u001b[39m\u001b[38;5;124m(\u001b[39m\u001b[38;5;132;01m%s\u001b[39;00m\u001b[38;5;124m)\u001b[39m\u001b[38;5;124m\"\u001b[39m \u001b[38;5;241m%\u001b[39m \u001b[38;5;28;43mself\u001b[39;49m\u001b[38;5;241;43m.\u001b[39;49m\u001b[43m_print\u001b[49m\u001b[43m(\u001b[49m\u001b[43mitem\u001b[49m\u001b[43m)\u001b[49m\n\u001b[1;32m     38\u001b[0m     \u001b[38;5;28;01melse\u001b[39;00m:\n\u001b[1;32m     39\u001b[0m         \u001b[38;5;28;01mreturn\u001b[39;00m \u001b[38;5;28mself\u001b[39m\u001b[38;5;241m.\u001b[39m_print(item)\n",
      "    \u001b[0;31m[... skipping similar frames: Printer._print at line 331 (1 times)]\u001b[0m\n",
      "File \u001b[0;32m~/miniconda3/envs/omegaQE/lib/python3.10/site-packages/sympy/printing/str.py:58\u001b[0m, in \u001b[0;36mStrPrinter._print_Add\u001b[0;34m(self, expr, order)\u001b[0m\n\u001b[1;32m     56\u001b[0m l \u001b[38;5;241m=\u001b[39m []\n\u001b[1;32m     57\u001b[0m \u001b[38;5;28;01mfor\u001b[39;00m term \u001b[38;5;129;01min\u001b[39;00m terms:\n\u001b[0;32m---> 58\u001b[0m     t \u001b[38;5;241m=\u001b[39m \u001b[38;5;28;43mself\u001b[39;49m\u001b[38;5;241;43m.\u001b[39;49m\u001b[43m_print\u001b[49m\u001b[43m(\u001b[49m\u001b[43mterm\u001b[49m\u001b[43m)\u001b[49m\n\u001b[1;32m     59\u001b[0m     \u001b[38;5;28;01mif\u001b[39;00m t\u001b[38;5;241m.\u001b[39mstartswith(\u001b[38;5;124m'\u001b[39m\u001b[38;5;124m-\u001b[39m\u001b[38;5;124m'\u001b[39m):\n\u001b[1;32m     60\u001b[0m         sign \u001b[38;5;241m=\u001b[39m \u001b[38;5;124m\"\u001b[39m\u001b[38;5;124m-\u001b[39m\u001b[38;5;124m\"\u001b[39m\n",
      "File \u001b[0;32m~/miniconda3/envs/omegaQE/lib/python3.10/site-packages/sympy/printing/printer.py:331\u001b[0m, in \u001b[0;36mPrinter._print\u001b[0;34m(self, expr, **kwargs)\u001b[0m\n\u001b[1;32m    329\u001b[0m     printmethod \u001b[38;5;241m=\u001b[39m \u001b[38;5;28mgetattr\u001b[39m(\u001b[38;5;28mself\u001b[39m, printmethodname, \u001b[38;5;28;01mNone\u001b[39;00m)\n\u001b[1;32m    330\u001b[0m     \u001b[38;5;28;01mif\u001b[39;00m printmethod \u001b[38;5;129;01mis\u001b[39;00m \u001b[38;5;129;01mnot\u001b[39;00m \u001b[38;5;28;01mNone\u001b[39;00m:\n\u001b[0;32m--> 331\u001b[0m         \u001b[38;5;28;01mreturn\u001b[39;00m \u001b[43mprintmethod\u001b[49m\u001b[43m(\u001b[49m\u001b[43mexpr\u001b[49m\u001b[43m,\u001b[49m\u001b[43m \u001b[49m\u001b[38;5;241;43m*\u001b[39;49m\u001b[38;5;241;43m*\u001b[39;49m\u001b[43mkwargs\u001b[49m\u001b[43m)\u001b[49m\n\u001b[1;32m    332\u001b[0m \u001b[38;5;66;03m# Unknown object, fall back to the emptyPrinter.\u001b[39;00m\n\u001b[1;32m    333\u001b[0m \u001b[38;5;28;01mreturn\u001b[39;00m \u001b[38;5;28mself\u001b[39m\u001b[38;5;241m.\u001b[39memptyPrinter(expr)\n",
      "File \u001b[0;32m~/miniconda3/envs/omegaQE/lib/python3.10/site-packages/sympy/printing/codeprinter.py:519\u001b[0m, in \u001b[0;36mCodePrinter._print_Mul\u001b[0;34m(self, expr)\u001b[0m\n\u001b[1;32m    516\u001b[0m pow_paren \u001b[38;5;241m=\u001b[39m []  \u001b[38;5;66;03m# Will collect all pow with more than one base element and exp = -1\u001b[39;00m\n\u001b[1;32m    518\u001b[0m \u001b[38;5;28;01mif\u001b[39;00m \u001b[38;5;28mself\u001b[39m\u001b[38;5;241m.\u001b[39morder \u001b[38;5;129;01mnot\u001b[39;00m \u001b[38;5;129;01min\u001b[39;00m (\u001b[38;5;124m'\u001b[39m\u001b[38;5;124mold\u001b[39m\u001b[38;5;124m'\u001b[39m, \u001b[38;5;124m'\u001b[39m\u001b[38;5;124mnone\u001b[39m\u001b[38;5;124m'\u001b[39m):\n\u001b[0;32m--> 519\u001b[0m     args \u001b[38;5;241m=\u001b[39m \u001b[43mexpr\u001b[49m\u001b[38;5;241;43m.\u001b[39;49m\u001b[43mas_ordered_factors\u001b[49m\u001b[43m(\u001b[49m\u001b[43m)\u001b[49m\n\u001b[1;32m    520\u001b[0m \u001b[38;5;28;01melse\u001b[39;00m:\n\u001b[1;32m    521\u001b[0m     \u001b[38;5;66;03m# use make_args in case expr was something like -x -> x\u001b[39;00m\n\u001b[1;32m    522\u001b[0m     args \u001b[38;5;241m=\u001b[39m Mul\u001b[38;5;241m.\u001b[39mmake_args(expr)\n",
      "File \u001b[0;32m~/miniconda3/envs/omegaQE/lib/python3.10/site-packages/sympy/core/mul.py:2073\u001b[0m, in \u001b[0;36mMul.as_ordered_factors\u001b[0;34m(self, order)\u001b[0m\n\u001b[1;32m   2060\u001b[0m \u001b[38;5;124;03m\"\"\"Transform an expression into an ordered list of factors.\u001b[39;00m\n\u001b[1;32m   2061\u001b[0m \n\u001b[1;32m   2062\u001b[0m \u001b[38;5;124;03mExamples\u001b[39;00m\n\u001b[0;32m   (...)\u001b[0m\n\u001b[1;32m   2070\u001b[0m \n\u001b[1;32m   2071\u001b[0m \u001b[38;5;124;03m\"\"\"\u001b[39;00m\n\u001b[1;32m   2072\u001b[0m cpart, ncpart \u001b[38;5;241m=\u001b[39m \u001b[38;5;28mself\u001b[39m\u001b[38;5;241m.\u001b[39margs_cnc()\n\u001b[0;32m-> 2073\u001b[0m \u001b[43mcpart\u001b[49m\u001b[38;5;241;43m.\u001b[39;49m\u001b[43msort\u001b[49m\u001b[43m(\u001b[49m\u001b[43mkey\u001b[49m\u001b[38;5;241;43m=\u001b[39;49m\u001b[38;5;28;43;01mlambda\u001b[39;49;00m\u001b[43m \u001b[49m\u001b[43mexpr\u001b[49m\u001b[43m:\u001b[49m\u001b[43m \u001b[49m\u001b[43mexpr\u001b[49m\u001b[38;5;241;43m.\u001b[39;49m\u001b[43msort_key\u001b[49m\u001b[43m(\u001b[49m\u001b[43morder\u001b[49m\u001b[38;5;241;43m=\u001b[39;49m\u001b[43morder\u001b[49m\u001b[43m)\u001b[49m\u001b[43m)\u001b[49m\n\u001b[1;32m   2074\u001b[0m \u001b[38;5;28;01mreturn\u001b[39;00m cpart \u001b[38;5;241m+\u001b[39m ncpart\n",
      "File \u001b[0;32m~/miniconda3/envs/omegaQE/lib/python3.10/site-packages/sympy/core/mul.py:2073\u001b[0m, in \u001b[0;36mMul.as_ordered_factors.<locals>.<lambda>\u001b[0;34m(expr)\u001b[0m\n\u001b[1;32m   2060\u001b[0m \u001b[38;5;124;03m\"\"\"Transform an expression into an ordered list of factors.\u001b[39;00m\n\u001b[1;32m   2061\u001b[0m \n\u001b[1;32m   2062\u001b[0m \u001b[38;5;124;03mExamples\u001b[39;00m\n\u001b[0;32m   (...)\u001b[0m\n\u001b[1;32m   2070\u001b[0m \n\u001b[1;32m   2071\u001b[0m \u001b[38;5;124;03m\"\"\"\u001b[39;00m\n\u001b[1;32m   2072\u001b[0m cpart, ncpart \u001b[38;5;241m=\u001b[39m \u001b[38;5;28mself\u001b[39m\u001b[38;5;241m.\u001b[39margs_cnc()\n\u001b[0;32m-> 2073\u001b[0m cpart\u001b[38;5;241m.\u001b[39msort(key\u001b[38;5;241m=\u001b[39m\u001b[38;5;28;01mlambda\u001b[39;00m expr: \u001b[43mexpr\u001b[49m\u001b[38;5;241;43m.\u001b[39;49m\u001b[43msort_key\u001b[49m\u001b[43m(\u001b[49m\u001b[43morder\u001b[49m\u001b[38;5;241;43m=\u001b[39;49m\u001b[43morder\u001b[49m\u001b[43m)\u001b[49m)\n\u001b[1;32m   2074\u001b[0m \u001b[38;5;28;01mreturn\u001b[39;00m cpart \u001b[38;5;241m+\u001b[39m ncpart\n",
      "File \u001b[0;32m~/miniconda3/envs/omegaQE/lib/python3.10/site-packages/sympy/core/cache.py:70\u001b[0m, in \u001b[0;36m__cacheit.<locals>.func_wrapper.<locals>.wrapper\u001b[0;34m(*args, **kwargs)\u001b[0m\n\u001b[1;32m     67\u001b[0m \u001b[38;5;129m@wraps\u001b[39m(func)\n\u001b[1;32m     68\u001b[0m \u001b[38;5;28;01mdef\u001b[39;00m \u001b[38;5;21mwrapper\u001b[39m(\u001b[38;5;241m*\u001b[39margs, \u001b[38;5;241m*\u001b[39m\u001b[38;5;241m*\u001b[39mkwargs):\n\u001b[1;32m     69\u001b[0m     \u001b[38;5;28;01mtry\u001b[39;00m:\n\u001b[0;32m---> 70\u001b[0m         retval \u001b[38;5;241m=\u001b[39m \u001b[43mcfunc\u001b[49m\u001b[43m(\u001b[49m\u001b[38;5;241;43m*\u001b[39;49m\u001b[43margs\u001b[49m\u001b[43m,\u001b[49m\u001b[43m \u001b[49m\u001b[38;5;241;43m*\u001b[39;49m\u001b[38;5;241;43m*\u001b[39;49m\u001b[43mkwargs\u001b[49m\u001b[43m)\u001b[49m\n\u001b[1;32m     71\u001b[0m     \u001b[38;5;28;01mexcept\u001b[39;00m \u001b[38;5;167;01mTypeError\u001b[39;00m \u001b[38;5;28;01mas\u001b[39;00m e:\n\u001b[1;32m     72\u001b[0m         \u001b[38;5;28;01mif\u001b[39;00m \u001b[38;5;129;01mnot\u001b[39;00m e\u001b[38;5;241m.\u001b[39margs \u001b[38;5;129;01mor\u001b[39;00m \u001b[38;5;129;01mnot\u001b[39;00m e\u001b[38;5;241m.\u001b[39margs[\u001b[38;5;241m0\u001b[39m]\u001b[38;5;241m.\u001b[39mstartswith(\u001b[38;5;124m'\u001b[39m\u001b[38;5;124munhashable type:\u001b[39m\u001b[38;5;124m'\u001b[39m):\n",
      "File \u001b[0;32m~/miniconda3/envs/omegaQE/lib/python3.10/site-packages/sympy/core/basic.py:374\u001b[0m, in \u001b[0;36mBasic.__eq__\u001b[0;34m(self, other)\u001b[0m\n\u001b[1;32m    370\u001b[0m     \u001b[38;5;28;01mreturn\u001b[39;00m \u001b[38;5;28mself\u001b[39m\u001b[38;5;241m.\u001b[39m_do_eq_sympify(other)\n\u001b[1;32m    372\u001b[0m \u001b[38;5;66;03m# check for pure number expr\u001b[39;00m\n\u001b[1;32m    373\u001b[0m \u001b[38;5;28;01mif\u001b[39;00m  \u001b[38;5;129;01mnot\u001b[39;00m (\u001b[38;5;28mself\u001b[39m\u001b[38;5;241m.\u001b[39mis_Number \u001b[38;5;129;01mand\u001b[39;00m other\u001b[38;5;241m.\u001b[39mis_Number) \u001b[38;5;129;01mand\u001b[39;00m (\n\u001b[0;32m--> 374\u001b[0m         \u001b[38;5;28;43mtype\u001b[39;49m\u001b[43m(\u001b[49m\u001b[38;5;28;43mself\u001b[39;49m\u001b[43m)\u001b[49m \u001b[38;5;241m!=\u001b[39m \u001b[38;5;28mtype\u001b[39m(other)):\n\u001b[1;32m    375\u001b[0m     \u001b[38;5;28;01mreturn\u001b[39;00m \u001b[38;5;28;01mFalse\u001b[39;00m\n\u001b[1;32m    376\u001b[0m a, b \u001b[38;5;241m=\u001b[39m \u001b[38;5;28mself\u001b[39m\u001b[38;5;241m.\u001b[39m_hashable_content(), other\u001b[38;5;241m.\u001b[39m_hashable_content()\n",
      "\u001b[0;31mKeyboardInterrupt\u001b[0m: "
     ]
    }
   ],
   "source": [
    "t0 = time.time()\n",
    "bin_max = 4\n",
    "Nbins = 6\n",
    "bin_width = bin_max/Nbins\n",
    "gal_bins = (0,bin_width,bin_width,2*bin_width,2*bin_width,3*bin_width, 3*bin_width, 4*bin_width, 4*bin_width, 5*bin_width, 5*bin_width, 6*bin_width)\n",
    "print(f\"gal_bins = {gal_bins}\")\n",
    "print(\"----------------------------\")\n",
    "F = fisher.get_optimal_bispectrum_Fisher(\"abcdef\", Lmax, dL, Ntheta=Ntheta, f_sky=f_sky, gal_bins=gal_bins)\n",
    "print(f\"opt abcdef = {np.sqrt(F)}\")\n",
    "F = fisher.get_optimal_bispectrum_Fisher(\"abcdefk\", Lmax, dL, Ntheta=Ntheta, f_sky=f_sky, gal_bins=gal_bins)\n",
    "print(f\"opt abcdefk = {np.sqrt(F)}\")\n",
    "F = fisher.get_optimal_bispectrum_Fisher(\"abcdefkI\", Lmax, dL, Ntheta=Ntheta, f_sky=f_sky, gal_bins=gal_bins)\n",
    "print(f\"opt abcdefkI = {np.sqrt(F)}\")\n",
    "t1 = time.time()\n",
    "print(f\"Time = {t1 - t0}\")"
   ]
  },
  {
   "cell_type": "code",
   "execution_count": 16,
   "id": "5cf18aec",
   "metadata": {},
   "outputs": [
    {
     "data": {
      "image/png": "[encoded data removed]",
      "text/plain": [
       "<Figure size 432x288 with 1 Axes>"
      ]
     },
     "metadata": {
      "needs_background": "light"
     },
     "output_type": "display_data"
    }
   ],
   "source": [
    "import matplotlib.pyplot as plt\n",
    "bins = [iii for iii in range(1, 7)]\n",
    "SNs_kgI = [11.5, 11.1,11.4,11.5,11.7,11.8]\n",
    "SNs_g = [0.5, 5.3, 6.9,7.5,8,8.4]\n",
    "SNs_gk = [9.6, 10.3, 10.8,11.1,11.3,11.4]\n",
    "plt.plot(bins, SNs_kgI, label=\"gkI\")\n",
    "plt.plot(bins, SNs_g, label=\"g\")\n",
    "plt.plot(bins, SNs_gk, label=\"gk\")\n",
    "plt.legend()\n",
    "plt.show()"
   ]
  }
 ],
 "metadata": {
  "kernelspec": {
   "display_name": "Python 3 (ipykernel)",
   "language": "python",
   "name": "python3"
  },
  "language_info": {
   "codemirror_mode": {
    "name": "ipython",
    "version": 3
   },
   "file_extension": ".py",
   "mimetype": "text/x-python",
   "name": "python",
   "nbconvert_exporter": "python",
   "pygments_lexer": "ipython3",
   "version": "3.10.2"
  }
 },
 "nbformat": 4,
 "nbformat_minor": 5
}
