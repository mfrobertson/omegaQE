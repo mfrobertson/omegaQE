{
 "cells": [
  {
   "cell_type": "code",
   "execution_count": 1,
   "id": "2cc17c49",
   "metadata": {},
   "outputs": [],
   "source": [
    "from bias import Bias\n",
    "import numpy as np\n",
    "import matplotlib.pyplot as plt\n",
    "import time"
   ]
  },
  {
   "cell_type": "code",
   "execution_count": 2,
   "id": "8dd6fb46",
   "metadata": {},
   "outputs": [],
   "source": [
    "N0_file = \"cache/_N0/N0_my_SO_14_14_TQU.npy\"\n",
    "bias = Bias(N0_file)"
   ]
  },
  {
   "cell_type": "code",
   "execution_count": 3,
   "id": "84ea28d3",
   "metadata": {},
   "outputs": [
    {
     "name": "stdout",
     "output_type": "stream",
     "text": [
      "Matrix([[kk, kg], [gk, gg]])\n",
      "Matrix([[kk, kg], [gk, gg]])\n",
      "2.099043998892705e-23\n",
      "Time = 223.5922110080719\n"
     ]
    }
   ],
   "source": [
    "t0 = time.time()\n",
    "bi = bias.mixed_bispectrum(\"kg\", 100, 150, 200)\n",
    "print(bi)\n",
    "t1 = time.time()\n",
    "print(f\"Time = {t1 - t0}\")"
   ]
  },
  {
   "cell_type": "code",
   "execution_count": 4,
   "id": "fa72b0bd",
   "metadata": {},
   "outputs": [
    {
     "name": "stdout",
     "output_type": "stream",
     "text": [
      "Matrix([[kk, kg], [gk, gg]])\n",
      "2.099043998892705e-23\n",
      "Time = 1.920173168182373\n"
     ]
    }
   ],
   "source": [
    "t0 = time.time()\n",
    "bi = bias.mixed_bispectrum(\"kg\", 100, 150, 200)\n",
    "print(bi)\n",
    "t1 = time.time()\n",
    "print(f\"Time = {t1 - t0}\")"
   ]
  },
  {
   "cell_type": "code",
   "execution_count": 12,
   "id": "6b75d7f8",
   "metadata": {},
   "outputs": [
    {
     "name": "stdout",
     "output_type": "stream",
     "text": [
      "Matrix([[kk, kg], [gk, gg]])\n"
     ]
    },
    {
     "data": {
      "image/png": "[encoded data removed]",
      "text/plain": [
       "<Figure size 432x288 with 1 Axes>"
      ]
     },
     "metadata": {
      "needs_background": "light"
     },
     "output_type": "display_data"
    }
   ],
   "source": [
    "L = np.arange(2, 4000)\n",
    "L1 = L\n",
    "L2 = L\n",
    "bi = bias.mixed_bispectrum(\"kg\", L, L1, L2)\n",
    "plt.loglog(L[3:], bi[3:], color=\"blue\")\n",
    "plt.loglog(L[:4], np.abs(bi[:4]),linestyle=\"--\", color=\"blue\") \n",
    "plt.show()"
   ]
  }
 ],
 "metadata": {
  "kernelspec": {
   "display_name": "Python 3 (ipykernel)",
   "language": "python",
   "name": "python3"
  },
  "language_info": {
   "codemirror_mode": {
    "name": "ipython",
    "version": 3
   },
   "file_extension": ".py",
   "mimetype": "text/x-python",
   "name": "python",
   "nbconvert_exporter": "python",
   "pygments_lexer": "ipython3",
   "version": "3.10.2"
  }
 },
 "nbformat": 4,
 "nbformat_minor": 5
}
