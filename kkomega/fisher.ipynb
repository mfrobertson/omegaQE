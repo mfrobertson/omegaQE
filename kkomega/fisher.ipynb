{
 "cells": [
  {
   "cell_type": "code",
   "execution_count": 1,
   "id": "8d0eb0f6",
   "metadata": {},
   "outputs": [],
   "source": [
    "from fisher import Fisher\n",
    "import numpy as np\n",
    "import time\n",
    "import matplotlib.pyplot as plt"
   ]
  },
  {
   "cell_type": "code",
   "execution_count": 2,
   "id": "933e3075",
   "metadata": {},
   "outputs": [],
   "source": [
    "N0_file = \"cache/_N0/N0_planck_14_14_TQU.npy\"\n",
    "ells_sample_file = \"cache/_M/10000_1000/ells.npy\"\n",
    "M_file = \"cache/_M/4000_1000/M.npy\""
   ]
  },
  {
   "cell_type": "code",
   "execution_count": 3,
   "id": "47433302",
   "metadata": {},
   "outputs": [],
   "source": [
    "fisher = Fisher(N0_file, ells_sample_file, M_file)"
   ]
  },
  {
   "cell_type": "code",
   "execution_count": 4,
   "id": "0cc311f4",
   "metadata": {},
   "outputs": [
    {
     "data": {
      "text/plain": [
       "[<matplotlib.lines.Line2D at 0x14825e200>]"
      ]
     },
     "execution_count": 4,
     "metadata": {},
     "output_type": "execute_result"
    },
    {
     "data": {
      "image/png": "[encoded data removed]",
      "text/plain": [
       "<Figure size 432x288 with 1 Axes>"
      ]
     },
     "metadata": {
      "needs_background": "light"
     },
     "output_type": "display_data"
    },
    {
     "data": {
      "image/png": "[encoded data removed]",
      "text/plain": [
       "<Figure size 432x288 with 1 Axes>"
      ]
     },
     "metadata": {
      "needs_background": "light"
     },
     "output_type": "display_data"
    }
   ],
   "source": [
    "N0 = fisher.N0\n",
    "N_phi = N0[0]\n",
    "N_phi[4] = 0.5 * (N_phi[3] + N_phi[5])\n",
    "ells = np.arange(2,2000)\n",
    "plt.plot(ells, 0.25 * N_phi[ells]*(ells + 0.5)**4)\n",
    "plt.figure()\n",
    "plt.semilogy(ells, N_phi[ells])"
   ]
  },
  {
   "cell_type": "code",
   "execution_count": 5,
   "id": "8024cf26",
   "metadata": {},
   "outputs": [
    {
     "name": "stdout",
     "output_type": "stream",
     "text": [
      "N0[4] = nan, replacing with mean of N[3] = 3.247179605490625e-07 and N[5] = 5.095209445785938e-07\n",
      "-------------------------------------\n",
      "-------------------------------------\n",
      "180.2120361328125\n",
      "2.0228648122134963e-06\n",
      "0.0014222745206933492\n"
     ]
    }
   ],
   "source": [
    "Lmax = 2000\n",
    "dL = 1\n",
    "L3max = 4000\n",
    "f_sky = 0.7\n",
    "t0 = time.time()\n",
    "F_conv = fisher.convergence_rotation_bispectrum_SN(Lmax, dL, L3max, f_sky)\n",
    "t1 = time.time()\n",
    "print(t1 - t0)\n",
    "print(F_conv)\n",
    "print(np.sqrt(F_conv))"
   ]
  },
  {
   "cell_type": "code",
   "execution_count": 6,
   "id": "4d561d01",
   "metadata": {},
   "outputs": [
    {
     "name": "stdout",
     "output_type": "stream",
     "text": [
      "0.02240026893665956\n"
     ]
    }
   ],
   "source": [
    "print(np.sqrt(F_conv*(2*np.pi)**3))"
   ]
  },
  {
   "cell_type": "code",
   "execution_count": 11,
   "id": "f8844f52",
   "metadata": {},
   "outputs": [
    {
     "name": "stdout",
     "output_type": "stream",
     "text": [
      "-------------------------------------\n",
      "122.35785007476807\n",
      "3.0208870468980734e-06\n",
      "0.0017380699200256798\n"
     ]
    }
   ],
   "source": [
    "Lmax = 2000\n",
    "dL = 5\n",
    "L3max = 4000\n",
    "f_sky = 0.7\n",
    "t0 = time.time()\n",
    "F_conv = fisher.convergence_bispectrum_SN(Lmax, dL, L3max, f_sky)\n",
    "t1 = time.time()\n",
    "print(t1 - t0)\n",
    "print(F_conv)\n",
    "print(np.sqrt(F_conv))"
   ]
  }
 ],
 "metadata": {
  "kernelspec": {
   "display_name": "Python 3 (ipykernel)",
   "language": "python",
   "name": "python3"
  },
  "language_info": {
   "codemirror_mode": {
    "name": "ipython",
    "version": 3
   },
   "file_extension": ".py",
   "mimetype": "text/x-python",
   "name": "python",
   "nbconvert_exporter": "python",
   "pygments_lexer": "ipython3",
   "version": "3.10.1"
  }
 },
 "nbformat": 4,
 "nbformat_minor": 5
}
