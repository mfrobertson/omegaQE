{
 "cells": [
  {
   "cell_type": "code",
   "execution_count": 1,
   "id": "e29eeb8c",
   "metadata": {},
   "outputs": [],
   "source": [
    "from fisher import Fisher\n",
    "import numpy as np\n",
    "import time\n",
    "import matplotlib.pyplot as plt"
   ]
  },
  {
   "cell_type": "code",
   "execution_count": 2,
   "id": "4b9a137a",
   "metadata": {},
   "outputs": [],
   "source": [
    "N0_file = \"cache/_N0/N0_my_Planck_14_14_TQU.npy\"\n",
    "ells_sample_file = \"cache/_M/10000_1000/ells.npy\"\n",
    "M_file = \"cache/_M/4000_1000/M.npy\""
   ]
  },
  {
   "cell_type": "code",
   "execution_count": 3,
   "id": "1a14d4b6",
   "metadata": {},
   "outputs": [],
   "source": [
    "fisher = Fisher(N0_file, ells_sample_file, M_file)"
   ]
  },
  {
   "cell_type": "code",
   "execution_count": 4,
   "id": "24027ed6",
   "metadata": {},
   "outputs": [
    {
     "data": {
      "text/plain": [
       "[<matplotlib.lines.Line2D at 0x11f35e410>]"
      ]
     },
     "execution_count": 4,
     "metadata": {},
     "output_type": "execute_result"
    },
    {
     "data": {
      "image/png": "[encoded data removed]",
      "text/plain": [
       "<Figure size 432x288 with 1 Axes>"
      ]
     },
     "metadata": {
      "needs_background": "light"
     },
     "output_type": "display_data"
    },
    {
     "data": {
      "image/png": "[encoded data removed]",
      "text/plain": [
       "<Figure size 432x288 with 1 Axes>"
      ]
     },
     "metadata": {
      "needs_background": "light"
     },
     "output_type": "display_data"
    }
   ],
   "source": [
    "N0 = fisher.N0\n",
    "N_phi = N0[0]\n",
    "N_phi[4] = 0.5 * (N_phi[3] + N_phi[5])\n",
    "ells = np.arange(2,2000)\n",
    "plt.plot(ells, 0.25 * N_phi[ells]*(ells + 0.5)**4)\n",
    "plt.figure()\n",
    "plt.semilogy(ells, N_phi[ells])"
   ]
  },
  {
   "cell_type": "code",
   "execution_count": 5,
   "id": "8f7f8115",
   "metadata": {},
   "outputs": [
    {
     "name": "stdout",
     "output_type": "stream",
     "text": [
      "Time = 147.09592723846436\n",
      "F = 0.006541727877981305\n",
      "S/N = 0.0808809487950117\n"
     ]
    }
   ],
   "source": [
    "Lmax = 2000\n",
    "dL = 1\n",
    "dTheta = 0.3\n",
    "L3max = 2000\n",
    "f_sky = 0.7\n",
    "t0 = time.time()\n",
    "F_conv_rot = fisher.get_convergence_rotation_bispectrum_Fisher(Lmax, dL, dTheta, L3max, f_sky)\n",
    "t1 = time.time()\n",
    "print(f\"Time = {t1 - t0}\")\n",
    "print(f\"F = {F_conv_rot}\")\n",
    "print(f\"S/N = {np.sqrt(F_conv_rot)}\")"
   ]
  },
  {
   "cell_type": "code",
   "execution_count": 6,
   "id": "e5dc4a02",
   "metadata": {},
   "outputs": [
    {
     "name": "stdout",
     "output_type": "stream",
     "text": [
      "Time = 73.8485951423645\n",
      "F = 0.006431844749968854\n",
      "S/N = 0.08019878272124119\n"
     ]
    }
   ],
   "source": [
    "Lmax = 2000\n",
    "dL = 1\n",
    "dTheta = 0.3\n",
    "L3max = 2000\n",
    "f_sky = 0.7\n",
    "t0 = time.time()\n",
    "F_conv_rot = fisher.get_convergence_rotation_bispectrum_Fisher2(Lmax, dL, dTheta, L3max, f_sky)\n",
    "t1 = time.time()\n",
    "print(f\"Time = {t1 - t0}\")\n",
    "print(f\"F = {F_conv_rot}\")\n",
    "print(f\"S/N = {np.sqrt(F_conv_rot)}\")"
   ]
  },
  {
   "cell_type": "code",
   "execution_count": 7,
   "id": "6af00fbf",
   "metadata": {},
   "outputs": [
    {
     "name": "stdout",
     "output_type": "stream",
     "text": [
      "Time = 19.263159036636353\n",
      "F = 0.32046310083192214\n",
      "S/N = 0.5660946041360244\n"
     ]
    }
   ],
   "source": [
    "Lmax = 2000\n",
    "dL = 5\n",
    "dTheta = 0.3\n",
    "L3max = 2000\n",
    "f_sky = 0.7\n",
    "t0 = time.time()\n",
    "F_conv = fisher.get_convergence_bispectrum_Fisher(Lmax, dL, dTheta, L3max, f_sky)\n",
    "t1 = time.time()\n",
    "print(f\"Time = {t1 - t0}\")\n",
    "print(f\"F = {F_conv}\")\n",
    "print(f\"S/N = {np.sqrt(F_conv)}\")"
   ]
  },
  {
   "cell_type": "code",
   "execution_count": 8,
   "id": "6361108e",
   "metadata": {},
   "outputs": [
    {
     "name": "stdout",
     "output_type": "stream",
     "text": [
      "Time = 10.023349046707153\n",
      "F = 0.25794474151529606\n",
      "S/N = 0.5078826060373559\n"
     ]
    }
   ],
   "source": [
    "Lmax = 2000\n",
    "dL = 5\n",
    "dTheta = 0.3\n",
    "L3max = 2000\n",
    "f_sky = 0.7\n",
    "t0 = time.time()\n",
    "F_conv = fisher.get_convergence_bispectrum_Fisher2(Lmax, dL, dTheta, L3max, f_sky)\n",
    "t1 = time.time()\n",
    "print(f\"Time = {t1 - t0}\")\n",
    "print(f\"F = {F_conv}\")\n",
    "print(f\"S/N = {np.sqrt(F_conv)}\")"
   ]
  },
  {
   "cell_type": "code",
   "execution_count": 12,
   "id": "32e0f102",
   "metadata": {},
   "outputs": [
    {
     "name": "stdout",
     "output_type": "stream",
     "text": [
      "my_SA\n",
      "S/N = 0.4144976540330068\n",
      "---------------------------\n",
      "my_SPT\n",
      "S/N = 0.4961491564497076\n",
      "---------------------------\n",
      "my_S4\n",
      "S/N = 3.2374256362938736\n",
      "---------------------------\n",
      "my_S5\n",
      "S/N = 7.398889926111046\n",
      "---------------------------\n",
      "my_SO\n",
      "S/N = 1.4955486064473038\n",
      "---------------------------\n",
      "Time = 1515.5014419555664\n"
     ]
    }
   ],
   "source": [
    "Lmax = 4000\n",
    "dL = 1\n",
    "dTheta = 0.3\n",
    "L3max = 4000\n",
    "f_skys = [0.65, 0.06, 0.4, 0.5, 0.4]\n",
    "exps = [\"my_SA\", \"my_SPT\", \"my_S4\", \"my_S5\", \"my_SO\"]\n",
    "t0 = time.time()\n",
    "for iii, exp in enumerate(exps):\n",
    "    N0_file = f\"cache/_N0/N0_{exp}_14_14_TQU.npy\"\n",
    "    fisher = Fisher(N0_file, ells_sample_file, M_file)\n",
    "    f_sky = f_skys[iii]\n",
    "    F_conv_rot = fisher.get_convergence_rotation_bispectrum_Fisher2(Lmax, dL, dTheta, L3max, f_sky)\n",
    "    print(exp)\n",
    "    print(f\"S/N = {np.sqrt(F_conv_rot)}\")\n",
    "    print(\"---------------------------\")\n",
    "t1 = time.time()\n",
    "print(f\"Time = {t1 - t0}\")\n"
   ]
  },
  {
   "cell_type": "code",
   "execution_count": 13,
   "id": "ab356834",
   "metadata": {},
   "outputs": [
    {
     "name": "stdout",
     "output_type": "stream",
     "text": [
      "my_SA\n",
      "S/N = 2.843712589095752\n",
      "---------------------------\n",
      "my_SPT\n",
      "S/N = 3.715951047033612\n",
      "---------------------------\n",
      "my_S4\n",
      "S/N = 17.37944144256577\n",
      "---------------------------\n",
      "my_S5\n",
      "S/N = 41.132681069651966\n",
      "---------------------------\n",
      "my_SO\n",
      "S/N = 9.256930682549676\n",
      "---------------------------\n",
      "Time = 4702.653460979462\n"
     ]
    }
   ],
   "source": [
    "Lmax = 4000\n",
    "dL = 1\n",
    "dTheta = 0.3\n",
    "L3max = 4000\n",
    "f_skys = [0.65, 0.06, 0.4, 0.5, 0.4]\n",
    "exps = [\"my_SA\", \"my_SPT\", \"my_S4\", \"my_S5\", \"my_SO\"]\n",
    "t0 = time.time()\n",
    "for iii, exp in enumerate(exps):\n",
    "    N0_file = f\"cache/_N0/N0_{exp}_14_14_TQU.npy\"\n",
    "    fisher = Fisher(N0_file, ells_sample_file, M_file)\n",
    "    f_sky = f_skys[iii]\n",
    "    F_conv_rot = fisher.get_convergence_bispectrum_Fisher2(Lmax, dL, dTheta, L3max, f_sky)\n",
    "    print(exp)\n",
    "    print(f\"S/N = {np.sqrt(F_conv_rot)}\")\n",
    "    print(\"---------------------------\")\n",
    "t1 = time.time()\n",
    "print(f\"Time = {t1 - t0}\")"
   ]
  }
 ],
 "metadata": {
  "kernelspec": {
   "display_name": "Python 3 (ipykernel)",
   "language": "python",
   "name": "python3"
  },
  "language_info": {
   "codemirror_mode": {
    "name": "ipython",
    "version": 3
   },
   "file_extension": ".py",
   "mimetype": "text/x-python",
   "name": "python",
   "nbconvert_exporter": "python",
   "pygments_lexer": "ipython3",
   "version": "3.10.1"
  }
 },
 "nbformat": 4,
 "nbformat_minor": 5
}
