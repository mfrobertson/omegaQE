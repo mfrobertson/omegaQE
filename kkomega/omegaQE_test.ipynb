{
 "cells": [
  {
   "cell_type": "code",
   "execution_count": 2,
   "id": "a63c2e8d",
   "metadata": {},
   "outputs": [],
   "source": [
    "import matplotlib.pyplot as plt\n",
    "from scipy import stats\n",
    "from covariance import Covariance\n",
    "from cosmology import Cosmology\n",
    "from powerspectra import Powerspectra\n",
    "power=Powerspectra()\n",
    "cov = Covariance()\n",
    "cosmo = Cosmology()"
   ]
  },
  {
   "cell_type": "code",
   "execution_count": 46,
   "id": "0dc4f124",
   "metadata": {},
   "outputs": [],
   "source": [
    "fields = \"kg\"\n",
    "fields = np.char.array(list(fields))\n",
    "fish = Fisher()\n",
    "def get_F_L_and_C_inv_splines(Lmax=5000): \n",
    "        sample_Ls = fish.covariance.get_log_sample_Ls(Lmin=2, Lmax=Lmax, Nells=50)\n",
    "        sample_Ls, F_L, C_inv = fish.get_F_L(fields, Ls=sample_Ls, Ntheta=100, nu=353e9, return_C_inv=True)\n",
    "        F_L_spline = InterpolatedUnivariateSpline(sample_Ls, F_L)\n",
    "        N_fields = np.size(fields)\n",
    "        C_inv_splines = np.empty((N_fields, N_fields), dtype=InterpolatedUnivariateSpline)\n",
    "        Ls = np.arange(Lmax+1)\n",
    "        for iii in range(N_fields):\n",
    "            for jjj in range(N_fields):\n",
    "                C_inv_ij = C_inv[iii, jjj]\n",
    "                C_inv_splines[iii, jjj] = InterpolatedUnivariateSpline(Ls[2:], C_inv_ij[2:])\n",
    "        return F_L_spline, C_inv_splines"
   ]
  },
  {
   "cell_type": "code",
   "execution_count": 47,
   "id": "c505fd81",
   "metadata": {},
   "outputs": [],
   "source": [
    "F_L_spline, C_inv_spline = get_F_L_and_C_inv_splines()"
   ]
  },
  {
   "cell_type": "code",
   "execution_count": 85,
   "id": "fd9163d5",
   "metadata": {},
   "outputs": [],
   "source": [
    "import numpy as np\n",
    "from fisher import Fisher\n",
    "from fields import Fields\n",
    "from powerspectra import Powerspectra\n",
    "from cosmology import Cosmology\n",
    "from scipy.interpolate import InterpolatedUnivariateSpline\n",
    "\n",
    "class OmegaQE:\n",
    "\n",
    "    def __init__(self, field_labels, N_pix=2 ** 7, Lmax=5000, kappa_map=None):\n",
    "        self.fields = Fields(field_labels, N_pix, Lmax, kappa_map)\n",
    "        self.L_map = self.fields.kM\n",
    "        self.Lx_map, self.Ly_map = self._get_Lx_Ly_maps()\n",
    "        self.Cls = dict.fromkeys(self.fields.fields)\n",
    "        self.windows = dict.fromkeys(self.fields.fields)\n",
    "        self.a_bars = dict.fromkeys(self.fields.fields)\n",
    "        self._power = Powerspectra()\n",
    "        self._cosmo = Cosmology()\n",
    "        self.fish = fish\n",
    "        self.F_L_spline, self.C_inv_spline = F_L_spline, C_inv_spline\n",
    "        self.populate_a_bars()\n",
    "\n",
    "    def _populate_Cls_and_windows(self, Chis):\n",
    "        for field in self.fields.fields:\n",
    "            self.Cls[field], self.windows[field] = self._get_ps_and_window(self.L_map, Chis, self._cosmo.get_chi_star(),\n",
    "                                                                           field)\n",
    "\n",
    "    def _get_ps_and_window(self, ells, Chis, Chi_source2, field, nu=353e9, gal_distro=\"LSST_gold\"):\n",
    "        shape_1, shape_2 = np.shape(self.L_map)\n",
    "        if field == \"k\":\n",
    "            Cl = self._power.get_kappa_ps_2source(ells.flatten(), Chis, Chi_source2)\n",
    "            Cl = np.reshape(Cl, (shape_1, shape_2, np.size(Chis)))\n",
    "            window = self._cosmo.cmb_lens_window(Chis, Chi_source2)\n",
    "            return Cl, window\n",
    "        if field == \"g\":\n",
    "            Cl = self._power.get_gal_kappa_ps(ells.flatten(), Chis, gal_distro=gal_distro)\n",
    "            Cl = np.reshape(Cl, (shape_1, shape_2, np.size(Chis)))\n",
    "            window = self._cosmo.gal_window_Chi(Chis)\n",
    "            return Cl, window\n",
    "        if field == \"I\":\n",
    "            Cl = self._power.get_cib_kappa_ps(ells.flatten(), nu=nu, Chi_source1=Chis)\n",
    "            Cl = np.reshape(Cl, (shape_1, shape_2, np.size(Chis)))\n",
    "            window = self._cosmo.cib_window_Chi(Chis, nu)\n",
    "            return Cl, window\n",
    "\n",
    "    def _get_Lx_Ly_maps(self):\n",
    "        Lx, Ly = self.fields.get_kx_ky(self.fields.N_pix, self.fields.get_dist() / self.fields.N_pix)\n",
    "        Lx_map = Lx[None, :] * np.ones(np.shape(self.fields.kM))\n",
    "        Ly_map = Ly[:, None] * np.ones(np.shape(self.fields.kM))\n",
    "        return Lx_map, Ly_map\n",
    "\n",
    "    def _L_comp_map(self, index):\n",
    "        if index == 0:\n",
    "            return self.Lx_map\n",
    "        if index == 1:\n",
    "            return self.Ly_map\n",
    "\n",
    "    def _get_f(self, i, p, r, weyl_ps, matter_weyl_ps, Chi_index):\n",
    "        window = self.windows[i][Chi_index]\n",
    "        L_map = self.L_map\n",
    "        if i == \"k\":\n",
    "            h = (L_map + 0.5) ** 4 * window * weyl_ps[:, :, Chi_index]\n",
    "        else:\n",
    "            h = -(L_map + 0.5) ** 2 * window * matter_weyl_ps[:, :, Chi_index]\n",
    "        return self._L_comp_map(p) * self._L_comp_map(r) / ((L_map + 0.5) ** 2) * h\n",
    "\n",
    "    def _get_g(self, i, p, r, Chi_index):\n",
    "        return self._L_comp_map(p) * self._L_comp_map(r) / ((self.L_map + 0.5) ** 2) * self.Cls[i][:,:,Chi_index]\n",
    "\n",
    "    def get_matter_ps(self, Chis):\n",
    "        Chis = Chis[None, None, :]\n",
    "        Ls = self.L_map[:, :, None]\n",
    "        zs = self._cosmo.Chi_to_z(Chis)\n",
    "        ks = (Ls + 0.5) / Chis\n",
    "        weyl_PK = self._cosmo.get_matter_PK(typ=\"weyl\")\n",
    "        weyl_ps = self._cosmo.get_matter_ps(weyl_PK, zs, ks, weyl_scaled=False, typ=\"weyl\")\n",
    "        matter_weyl_PK = self._cosmo.get_matter_PK(typ=\"matter-weyl\")\n",
    "        matter_weyl_ps = self._cosmo.get_matter_ps(matter_weyl_PK, zs, ks, weyl_scaled=False, typ=\"matter-weyl\")\n",
    "        return weyl_ps, matter_weyl_ps\n",
    "\n",
    "    def get_C_inv(self, typ):\n",
    "        idx1 = np.where(self.fields.fields == typ[0])[0][0]\n",
    "        idx2 = np.where(self.fields.fields == typ[1])[0][0]\n",
    "        return self.C_inv_spline[idx1][idx2](self.L_map)\n",
    "    \n",
    "    def populate_a_bars(self):\n",
    "        Ls = self.L_map.flatten()\n",
    "        N_fields = np.size(self.fields.fields)\n",
    "        a = np.zeros((np.size(Ls), N_fields, 1))\n",
    "        C_inv = np.zeros((np.size(Ls), N_fields, N_fields))\n",
    "        for iii, field_i in enumerate(self.fields.fields):\n",
    "            a[:,iii, 0] = self.fields.fft_maps[field_i].flatten()\n",
    "            for jjj, field_j in enumerate(self.fields.fields):\n",
    "                C_inv[:,iii,jjj] = self.C_inv_spline[iii][jjj](Ls)\n",
    "        a_bars = np.matmul(C_inv, a)\n",
    "        for iii, field in enumerate(self.fields.fields):\n",
    "            a_bar = a_bars[:,iii,0]\n",
    "            self.a_bars[field] = np.reshape(a_bar, np.shape(self.L_map))\n",
    "\n",
    "\n",
    "    def get_omega(self, Nchi=100, zmin=0, zmax=None, kmin=0, kmax=100, extended=True):\n",
    "        Chis = np.linspace(0, self._cosmo.get_chi_star(), Nchi)[1:]\n",
    "        dChi = Chis[1] - Chis[0]\n",
    "        weyl_ps, matter_weyl_ps = self.get_matter_ps(Chis)\n",
    "        self._populate_Cls_and_windows(Chis)\n",
    "        r_s = [(0, 1), (1, 0)]\n",
    "        \n",
    "        omega_F = 0\n",
    "        for i in self.fields.fields:\n",
    "            for j in self.fields.fields:\n",
    "                a_i = self.a_bars[i]\n",
    "                a_j = self.a_bars[j]\n",
    "                for p in range(2):\n",
    "                    q = p\n",
    "                    for r, s in r_s:\n",
    "                        fac = -1 if r > s else 1\n",
    "                        I_1 = np.zeros((self.fields.N_pix, self.fields.N_pix//2 + 1, np.size(Chis)),dtype=\"complex128\")\n",
    "                        I_2 = np.zeros((self.fields.N_pix, self.fields.N_pix//2 + 1, np.size(Chis)),dtype=\"complex128\")\n",
    "                        for Chi_index, Chi in enumerate(Chis):\n",
    "                            F_i_fft = fac * self._get_f(i, p, r, weyl_ps, matter_weyl_ps, Chi_index) * a_i\n",
    "                            G_j_fft = fac * self._get_g(j, q, s, Chi_index) * a_j\n",
    "                            F_j_fft = fac * self._get_f(j, q, s, weyl_ps, matter_weyl_ps, Chi_index) * a_j\n",
    "                            G_i_fft = fac * self._get_g(i, p, r, Chi_index) * a_i\n",
    "\n",
    "                            F_i = np.fft.irfft2(F_i_fft, norm=\"ortho\")\n",
    "                            F_j = np.fft.irfft2(F_j_fft, norm=\"ortho\")\n",
    "                            G_i = np.fft.irfft2(G_i_fft, norm=\"ortho\")\n",
    "                            G_j = np.fft.irfft2(G_j_fft, norm=\"ortho\")\n",
    "                            \n",
    "                            I_1[:,:,Chi_index] += np.fft.rfft2(F_i*G_j, norm=\"ortho\")*(self.windows[\"k\"]/(Chis**2))[Chi_index]\n",
    "                            I_2[:,:,Chi_index] -= np.fft.rfft2(F_j*G_i, norm=\"ortho\")*(self.windows[\"k\"]/(Chis**2))[Chi_index]\n",
    "                        \n",
    "                        omega_F += dChi * np.sum(I_1, axis=2)\n",
    "                        omega_F += dChi * np.sum(I_2, axis=2)\n",
    "                        \n",
    "        return(2*omega_F/self.F_L_spline(self.L_map))\n",
    "\n"
   ]
  },
  {
   "cell_type": "code",
   "execution_count": 86,
   "id": "a81211e6",
   "metadata": {},
   "outputs": [
    {
     "name": "stdout",
     "output_type": "stream",
     "text": [
      "CPU times: user 2min 42s, sys: 5.83 s, total: 2min 48s\n",
      "Wall time: 21.5 s\n"
     ]
    }
   ],
   "source": [
    "%time qe = OmegaQE(\"kg\")"
   ]
  },
  {
   "cell_type": "code",
   "execution_count": 87,
   "id": "145a3edd",
   "metadata": {
    "scrolled": true
   },
   "outputs": [
    {
     "name": "stdout",
     "output_type": "stream",
     "text": [
      "CPU times: user 2min 18s, sys: 7.88 s, total: 2min 26s\n",
      "Wall time: 49.8 s\n"
     ]
    }
   ],
   "source": [
    "%time omega = qe.get_omega()"
   ]
  },
  {
   "cell_type": "code",
   "execution_count": 88,
   "id": "fca4bd63",
   "metadata": {},
   "outputs": [
    {
     "name": "stdout",
     "output_type": "stream",
     "text": [
      "[[ 1.91187951e-25+0.00000000e+00j  3.17602790e-25+0.00000000e+00j\n",
      "  -5.17190871e-26+1.14839443e-41j ... -4.20237232e-29+3.73245640e-45j\n",
      "  -8.95893008e-30+1.49781240e-44j -4.97894341e-29+0.00000000e+00j]\n",
      " [ 0.00000000e+00-4.40762413e-42j -5.75803631e-25+7.99088061e-42j\n",
      "   4.40430159e-26+4.88975703e-42j ... -5.04294202e-29-7.46505379e-45j\n",
      "  -3.58368989e-29-7.48930830e-45j  0.00000000e+00-6.58655061e-45j]\n",
      " [ 1.03438174e-25-5.74197214e-42j -2.64258095e-25+0.00000000e+00j\n",
      "   5.86694644e-26-6.51361902e-42j ...  0.00000000e+00+7.46548181e-45j\n",
      "   4.21652459e-29-3.74502615e-45j  1.18669585e-28-1.50571092e-44j]\n",
      " ...\n",
      " [-1.83440008e-25+0.00000000e+00j -1.41758780e-25-1.96729827e-42j\n",
      "  -3.61953821e-26+0.00000000e+00j ...  0.00000000e+00+0.00000000e+00j\n",
      "   0.00000000e+00+0.00000000e+00j -1.58970425e-29+0.00000000e+00j]\n",
      " [-2.06876349e-25-2.87098607e-42j  0.00000000e+00+9.77951407e-42j\n",
      "   9.16710381e-28+0.00000000e+00j ... -3.36215411e-29+7.46548181e-45j\n",
      "   0.00000000e+00+1.87251307e-45j  8.47639891e-29-1.31749705e-44j]\n",
      " [ 1.58801395e-25+0.00000000e+00j  2.87901816e-25-5.99316046e-42j\n",
      "   0.00000000e+00-2.21567116e-42j ... -8.40490337e-30+7.46505379e-45j\n",
      "   3.37288461e-29-1.87232707e-45j -1.69503925e-29-2.82280740e-45j]]\n"
     ]
    }
   ],
   "source": [
    "print(omega)"
   ]
  },
  {
   "cell_type": "code",
   "execution_count": 79,
   "id": "03ed1ea4",
   "metadata": {},
   "outputs": [],
   "source": [
    "nBins=50\n",
    "ps = np.real(np.conjugate(omega) * omega).flatten()\n",
    "means, bin_edges, binnumber = stats.binned_statistic(qe.L_map.flatten(), ps, 'mean', bins=nBins)\n",
    "binSeperation = bin_edges[1]\n",
    "kBins = np.asarray([bin_edges[i] - binSeperation / 2 for i in range(1, len(bin_edges))])\n",
    "counts, *others = stats.binned_statistic(qe.L_map.flatten(), ps, 'count', bins=nBins)\n",
    "stds, *others = stats.binned_statistic(qe.L_map.flatten(), ps, 'std', bins=nBins)\n",
    "errors = stds / np.sqrt(counts)"
   ]
  },
  {
   "cell_type": "code",
   "execution_count": 80,
   "id": "908092db",
   "metadata": {},
   "outputs": [
    {
     "data": {
      "text/plain": [
       "(30.0, 4000.0)"
      ]
     },
     "execution_count": 80,
     "metadata": {},
     "output_type": "execute_result"
    },
    {
     "data": {
      "image/png": "[encoded data removed]",
      "text/plain": [
       "<Figure size 432x288 with 1 Axes>"
      ]
     },
     "metadata": {
      "needs_background": "light"
     },
     "output_type": "display_data"
    }
   ],
   "source": [
    "import matplotlib.pyplot as plt\n",
    "plt.loglog(kBins, kBins**4*means/((2*np.pi**2)))\n",
    "plt.xlim(3e1, 4e3)\n",
    "# plt.ylim(9e-13,6e-11)"
   ]
  },
  {
   "cell_type": "code",
   "execution_count": 19,
   "id": "8fd882ab",
   "metadata": {},
   "outputs": [
    {
     "data": {
      "text/plain": [
       "[<matplotlib.lines.Line2D at 0x2c79ece80>]"
      ]
     },
     "execution_count": 19,
     "metadata": {},
     "output_type": "execute_result"
    },
    {
     "data": {
      "image/png": "[encoded data removed]",
      "text/plain": [
       "<Figure size 432x288 with 1 Axes>"
      ]
     },
     "metadata": {
      "needs_background": "light"
     },
     "output_type": "display_data"
    }
   ],
   "source": [
    "Nchi=100\n",
    "Chis = np.linspace(0, cosmo.get_chi_star(), Nchi)[1:]\n",
    "Chi_index=50\n",
    "Cl_kk = qe.Cls[\"k\"][:,:,Chi_index]\n",
    "Ls_true=np.arange(0,5001)\n",
    "Cl_kk_true = power.get_kappa_ps_2source(Ls_true,Chis[Chi_index], cosmo.get_chi_star())\n",
    "Ls = qe.fields.kM.flatten()\n",
    "plt.plot(Ls, Cl_kk.flatten(),\".\")\n",
    "plt.plot(Ls_true, Cl_kk_true)"
   ]
  },
  {
   "cell_type": "code",
   "execution_count": 13,
   "id": "df282bec",
   "metadata": {},
   "outputs": [
    {
     "data": {
      "text/plain": [
       "[<matplotlib.lines.Line2D at 0x16b9ac2b0>]"
      ]
     },
     "execution_count": 13,
     "metadata": {},
     "output_type": "execute_result"
    },
    {
     "data": {
      "image/png": "[encoded data removed]",
      "text/plain": [
       "<Figure size 432x288 with 1 Axes>"
      ]
     },
     "metadata": {
      "needs_background": "light"
     },
     "output_type": "display_data"
    }
   ],
   "source": [
    "C_inv_kg = qe.get_C_inv(\"kg\")\n",
    "C_kk = cov.get_Cov(\"kk\", ellmax=5000)\n",
    "C_gg = cov.get_Cov(\"gg\", ellmax=5000)\n",
    "C_kg = cov.get_Cov(\"kg\", ellmax=5000)\n",
    "Ls = qe.fields.kM.flatten()\n",
    "plt.plot(Ls, C_inv_kg.flatten(), \".\")\n",
    "Ls = np.arange(np.size(C_kk))\n",
    "# plt.plot(Ls, C_gg/(C_kk*C_gg - C_kg**2))\n",
    "plt.plot(Ls, -C_kg/(C_kk*C_gg - C_kg**2))\n",
    "# plt.ylim(0, 3e7)"
   ]
  },
  {
   "cell_type": "code",
   "execution_count": 10,
   "id": "586eeeef",
   "metadata": {},
   "outputs": [
    {
     "name": "stdout",
     "output_type": "stream",
     "text": [
      "Matrix([[gg/(gg*kk - gk*kg), -kg/(gg*kk - gk*kg)], [-gk/(gg*kk - gk*kg), kk/(gg*kk - gk*kg)]])\n"
     ]
    },
    {
     "data": {
      "text/plain": [
       "(0.0, 30000000.0)"
      ]
     },
     "execution_count": 10,
     "metadata": {},
     "output_type": "execute_result"
    },
    {
     "data": {
      "image/png": "[encoded data removed]",
      "text/plain": [
       "<Figure size 432x288 with 1 Axes>"
      ]
     },
     "metadata": {
      "needs_background": "light"
     },
     "output_type": "display_data"
    }
   ],
   "source": [
    "Ls = qe.fields.kM.flatten()\n",
    "plt.plot(Ls, C_inv_kk.flatten(), \".\")\n",
    "C_inv = cov.get_C_inv(\"kg\", 5000, 353e9)\n",
    "Ls = np.arange(np.size(C_inv[0][0]))\n",
    "plt.plot(Ls, C_inv[0][0])\n",
    "plt.ylim(0, 3e7)"
   ]
  },
  {
   "cell_type": "code",
   "execution_count": 64,
   "id": "27358070",
   "metadata": {},
   "outputs": [],
   "source": [
    "Chis = np.linspace(0, cosmo.get_chi_star(), 100)[1:]\n",
    "dChi = Chis[1] - Chis[0]\n",
    "weyl_ps, matter_weyl_ps = qe.get_matter_ps(Chis)"
   ]
  },
  {
   "cell_type": "code",
   "execution_count": 65,
   "id": "dcc60795",
   "metadata": {},
   "outputs": [
    {
     "data": {
      "text/plain": [
       "[<matplotlib.lines.Line2D at 0x1423484c0>]"
      ]
     },
     "execution_count": 65,
     "metadata": {},
     "output_type": "execute_result"
    },
    {
     "data": {
      "image/png": "[encoded data removed]",
      "text/plain": [
       "<Figure size 432x288 with 1 Axes>"
      ]
     },
     "metadata": {
      "needs_background": "light"
     },
     "output_type": "display_data"
    }
   ],
   "source": [
    "Chis = np.linspace(0, cosmo.get_chi_star(), 100)[1:]\n",
    "Chis = Chis[None, None, :]\n",
    "Ls = qe.fields.kM[:, :, None]\n",
    "zs = cosmo.Chi_to_z(Chis)\n",
    "ks = (Ls + 0.5) / Chis\n",
    "Chi_index=10\n",
    "weyl_ps_flat = weyl_ps[:,:,Chi_index].flatten()\n",
    "ks = ks[:,:,Chi_index].flatten()\n",
    "plt.loglog(ks, ks**4*weyl_ps_flat, \".\")"
   ]
  },
  {
   "cell_type": "code",
   "execution_count": 34,
   "id": "fe7475eb",
   "metadata": {},
   "outputs": [],
   "source": [
    "from scipy import stats\n",
    "nBins=30\n",
    "ps = np.real(np.conjugate(qe.fields.fft_maps[\"g\"]) * qe.fields.fft_maps[\"I\"]).flatten()\n",
    "means, bin_edges, binnumber = stats.binned_statistic(qe.L_map.flatten(), ps, 'mean', bins=nBins)\n",
    "binSeperation = bin_edges[1]\n",
    "kBins = np.asarray([bin_edges[i] - binSeperation / 2 for i in range(1, len(bin_edges))])\n",
    "counts, *others = stats.binned_statistic(qe.L_map.flatten(), ps, 'count', bins=nBins)\n",
    "stds, *others = stats.binned_statistic(qe.L_map.flatten(), ps, 'std', bins=nBins)\n",
    "errors = stds / np.sqrt(counts)"
   ]
  },
  {
   "cell_type": "code",
   "execution_count": 35,
   "id": "00632e42",
   "metadata": {},
   "outputs": [
    {
     "data": {
      "text/plain": [
       "<ErrorbarContainer object of 3 artists>"
      ]
     },
     "execution_count": 35,
     "metadata": {},
     "output_type": "execute_result"
    },
    {
     "data": {
      "image/png": "[encoded data removed]",
      "text/plain": [
       "<Figure size 432x288 with 1 Axes>"
      ]
     },
     "metadata": {
      "needs_background": "light"
     },
     "output_type": "display_data"
    }
   ],
   "source": [
    "Cl_kg = cov.get_Cl(\"Ig\", ellmax=5000)\n",
    "plt.plot(np.arange(np.size(Cl_kg)), Cl_kg)\n",
    "plt.semilogy(kBins, means, \".\", color=\"red\")\n",
    "plt.errorbar(kBins, means, errors, ls=\"none\", color=\"red\")"
   ]
  },
  {
   "cell_type": "code",
   "execution_count": 15,
   "id": "494d63d5",
   "metadata": {},
   "outputs": [],
   "source": [
    "_power = Powerspectra()\n",
    "_cosmo=Cosmology()\n",
    "_field = Fields(\"kgI\")"
   ]
  },
  {
   "cell_type": "code",
   "execution_count": 18,
   "id": "2333d3ed",
   "metadata": {},
   "outputs": [
    {
     "name": "stdout",
     "output_type": "stream",
     "text": [
      "(8320, 99)\n"
     ]
    }
   ],
   "source": [
    "Ls = _field.kM\n",
    "Nchi=100\n",
    "Chis = np.linspace(0, _cosmo.get_chi_star(), Nchi)[1:]\n",
    "ps = _power.get_kappa_ps_2source(Ls.flatten(), Chis, _cosmo.get_chi_star())\n",
    "print(np.shape(ps))"
   ]
  },
  {
   "cell_type": "code",
   "execution_count": 20,
   "id": "26a93ee0",
   "metadata": {},
   "outputs": [
    {
     "name": "stdout",
     "output_type": "stream",
     "text": [
      "(128, 65, 99)\n"
     ]
    }
   ],
   "source": [
    "shape_1, shape_2 = np.shape(_field.kM)\n",
    "ps = np.reshape(ps, (shape_1, shape_2,Nchi-1))\n",
    "print(np.shape(ps))"
   ]
  },
  {
   "cell_type": "code",
   "execution_count": 30,
   "id": "dd7c8717",
   "metadata": {},
   "outputs": [],
   "source": [
    "Lx = np.arange(10)\n",
    "Ly = np.arange(50,70)\n",
    "Lx = Lx[None, :] * np.ones((20,10))\n",
    "Ly = Ly[:, None] * np.ones((20,10))"
   ]
  },
  {
   "cell_type": "code",
   "execution_count": 31,
   "id": "91f8ed70",
   "metadata": {},
   "outputs": [
    {
     "name": "stdout",
     "output_type": "stream",
     "text": [
      "[[0. 1. 2. 3. 4. 5. 6. 7. 8. 9.]\n",
      " [0. 1. 2. 3. 4. 5. 6. 7. 8. 9.]\n",
      " [0. 1. 2. 3. 4. 5. 6. 7. 8. 9.]\n",
      " [0. 1. 2. 3. 4. 5. 6. 7. 8. 9.]\n",
      " [0. 1. 2. 3. 4. 5. 6. 7. 8. 9.]\n",
      " [0. 1. 2. 3. 4. 5. 6. 7. 8. 9.]\n",
      " [0. 1. 2. 3. 4. 5. 6. 7. 8. 9.]\n",
      " [0. 1. 2. 3. 4. 5. 6. 7. 8. 9.]\n",
      " [0. 1. 2. 3. 4. 5. 6. 7. 8. 9.]\n",
      " [0. 1. 2. 3. 4. 5. 6. 7. 8. 9.]\n",
      " [0. 1. 2. 3. 4. 5. 6. 7. 8. 9.]\n",
      " [0. 1. 2. 3. 4. 5. 6. 7. 8. 9.]\n",
      " [0. 1. 2. 3. 4. 5. 6. 7. 8. 9.]\n",
      " [0. 1. 2. 3. 4. 5. 6. 7. 8. 9.]\n",
      " [0. 1. 2. 3. 4. 5. 6. 7. 8. 9.]\n",
      " [0. 1. 2. 3. 4. 5. 6. 7. 8. 9.]\n",
      " [0. 1. 2. 3. 4. 5. 6. 7. 8. 9.]\n",
      " [0. 1. 2. 3. 4. 5. 6. 7. 8. 9.]\n",
      " [0. 1. 2. 3. 4. 5. 6. 7. 8. 9.]\n",
      " [0. 1. 2. 3. 4. 5. 6. 7. 8. 9.]]\n"
     ]
    }
   ],
   "source": [
    "print(Lx)"
   ]
  },
  {
   "cell_type": "code",
   "execution_count": 32,
   "id": "67c9f9f3",
   "metadata": {},
   "outputs": [
    {
     "name": "stdout",
     "output_type": "stream",
     "text": [
      "[[50. 50. 50. 50. 50. 50. 50. 50. 50. 50.]\n",
      " [51. 51. 51. 51. 51. 51. 51. 51. 51. 51.]\n",
      " [52. 52. 52. 52. 52. 52. 52. 52. 52. 52.]\n",
      " [53. 53. 53. 53. 53. 53. 53. 53. 53. 53.]\n",
      " [54. 54. 54. 54. 54. 54. 54. 54. 54. 54.]\n",
      " [55. 55. 55. 55. 55. 55. 55. 55. 55. 55.]\n",
      " [56. 56. 56. 56. 56. 56. 56. 56. 56. 56.]\n",
      " [57. 57. 57. 57. 57. 57. 57. 57. 57. 57.]\n",
      " [58. 58. 58. 58. 58. 58. 58. 58. 58. 58.]\n",
      " [59. 59. 59. 59. 59. 59. 59. 59. 59. 59.]\n",
      " [60. 60. 60. 60. 60. 60. 60. 60. 60. 60.]\n",
      " [61. 61. 61. 61. 61. 61. 61. 61. 61. 61.]\n",
      " [62. 62. 62. 62. 62. 62. 62. 62. 62. 62.]\n",
      " [63. 63. 63. 63. 63. 63. 63. 63. 63. 63.]\n",
      " [64. 64. 64. 64. 64. 64. 64. 64. 64. 64.]\n",
      " [65. 65. 65. 65. 65. 65. 65. 65. 65. 65.]\n",
      " [66. 66. 66. 66. 66. 66. 66. 66. 66. 66.]\n",
      " [67. 67. 67. 67. 67. 67. 67. 67. 67. 67.]\n",
      " [68. 68. 68. 68. 68. 68. 68. 68. 68. 68.]\n",
      " [69. 69. 69. 69. 69. 69. 69. 69. 69. 69.]]\n"
     ]
    }
   ],
   "source": [
    "print(Ly)"
   ]
  },
  {
   "cell_type": "code",
   "execution_count": 51,
   "id": "6399c973",
   "metadata": {},
   "outputs": [],
   "source": [
    "steps = np.ones(99)[None, None,:]"
   ]
  },
  {
   "cell_type": "code",
   "execution_count": 54,
   "id": "35829c13",
   "metadata": {},
   "outputs": [
    {
     "name": "stdout",
     "output_type": "stream",
     "text": [
      "(128, 65, 99)\n"
     ]
    }
   ],
   "source": [
    "print(np.shape(ps))"
   ]
  },
  {
   "cell_type": "code",
   "execution_count": 57,
   "id": "f4d46d76",
   "metadata": {},
   "outputs": [
    {
     "name": "stdout",
     "output_type": "stream",
     "text": [
      "(128, 65)\n"
     ]
    }
   ],
   "source": [
    "print(np.shape(np.sum(ps, axis=2)))"
   ]
  },
  {
   "cell_type": "code",
   "execution_count": null,
   "id": "42ede9f1",
   "metadata": {},
   "outputs": [],
   "source": []
  }
 ],
 "metadata": {
  "kernelspec": {
   "display_name": "Python 3 (ipykernel)",
   "language": "python",
   "name": "python3"
  },
  "language_info": {
   "codemirror_mode": {
    "name": "ipython",
    "version": 3
   },
   "file_extension": ".py",
   "mimetype": "text/x-python",
   "name": "python",
   "nbconvert_exporter": "python",
   "pygments_lexer": "ipython3",
   "version": "3.10.2"
  }
 },
 "nbformat": 4,
 "nbformat_minor": 5
}
