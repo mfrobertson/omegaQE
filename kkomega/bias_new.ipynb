{
 "cells": [
  {
   "cell_type": "code",
   "execution_count": 1,
   "id": "754ca30f",
   "metadata": {},
   "outputs": [],
   "source": [
    "from bias_vec import Bias\n",
    "from qe_vec import QE\n",
    "import numpy as np\n",
    "import matplotlib.pyplot as plt\n",
    "import matplotlib\n",
    "import time\n",
    "import cProfile\n",
    "from noise import Noise\n",
    "from cosmology import Cosmology"
   ]
  },
  {
   "cell_type": "code",
   "execution_count": 2,
   "id": "ed38c0a1",
   "metadata": {},
   "outputs": [
    {
     "name": "stdout",
     "output_type": "stream",
     "text": [
      "Matrix([[TT, TE, TB], [ET, EE, EB], [BT, BE, BB]])\n",
      "Time = 77.70357918739319\n"
     ]
    }
   ],
   "source": [
    "t0 = time.time()\n",
    "N0_file = \"cache/_N0/N0_my_SO_14_14_TQU.npy\"\n",
    "bias = Bias(N0_file, M_path=\"cache/_M\")\n",
    "t1 = time.time()\n",
    "print(f\"Time = {t1 - t0}\")"
   ]
  },
  {
   "cell_type": "code",
   "execution_count": 3,
   "id": "0be15078",
   "metadata": {},
   "outputs": [
    {
     "name": "stdout",
     "output_type": "stream",
     "text": [
      "A: [4.69404880e-13 3.85014401e-15 6.54219507e-18 3.68838221e-19\n",
      " 1.48797143e-20]\n",
      "30\n",
      "100\n",
      "500\n",
      "1000\n",
      "2000\n",
      "time: 210.45305395126343\n"
     ]
    }
   ],
   "source": [
    "Ls = [30, 100, 500, 1000, 2000]\n",
    "t0 = time.time()\n",
    "N_A1, N_C1 = bias.bias(\"TT\", Ls)\n",
    "t1 = time.time()\n",
    "print(f\"time: {t1-t0}\")"
   ]
  },
  {
   "cell_type": "code",
   "execution_count": 4,
   "id": "ffc9f6c0",
   "metadata": {},
   "outputs": [
    {
     "name": "stdout",
     "output_type": "stream",
     "text": [
      "[ 1.88685853e-12  1.72011816e-13  2.67319816e-16 -4.08760775e-19\n",
      " -4.39788899e-19]\n",
      "[-1.68476041e-12 -1.37528871e-13  4.27566633e-17  8.46011909e-18\n",
      "  1.30733265e-19]\n"
     ]
    }
   ],
   "source": [
    "print(N_A1)\n",
    "print(N_C1)"
   ]
  },
  {
   "cell_type": "code",
   "execution_count": 7,
   "id": "86c02365",
   "metadata": {},
   "outputs": [
    {
     "name": "stdout",
     "output_type": "stream",
     "text": [
      "A: [2.05489800e-13 1.77830775e-15 3.26512239e-18 1.97263105e-19\n",
      " 1.06783864e-20]\n",
      "30\n",
      "100\n",
      "500\n",
      "1000\n",
      "2000\n",
      "time: 541.4758279323578\n"
     ]
    }
   ],
   "source": [
    "Ls = [30, 100, 500, 1000, 2000]\n",
    "t0 = time.time()\n",
    "N_A1, N_C1 = bias.bias_phi(\"TT\", Ls)\n",
    "t1 = time.time()\n",
    "print(f\"time: {t1-t0}\")"
   ]
  },
  {
   "cell_type": "code",
   "execution_count": 8,
   "id": "6956358a",
   "metadata": {},
   "outputs": [
    {
     "name": "stdout",
     "output_type": "stream",
     "text": [
      "[ 1.21514175e-11  1.09250698e-12 -1.08409346e-15 -1.28113259e-16\n",
      " -2.59936784e-17]\n",
      "[-1.12993295e-11 -8.04329406e-13  5.55867529e-15  5.17391269e-16\n",
      "  5.50548225e-17]\n"
     ]
    }
   ],
   "source": [
    "print(N_A1)\n",
    "print(N_C1)"
   ]
  },
  {
   "cell_type": "code",
   "execution_count": null,
   "id": "da7937f3",
   "metadata": {},
   "outputs": [],
   "source": []
  }
 ],
 "metadata": {
  "kernelspec": {
   "display_name": "Python 3 (ipykernel)",
   "language": "python",
   "name": "python3"
  },
  "language_info": {
   "codemirror_mode": {
    "name": "ipython",
    "version": 3
   },
   "file_extension": ".py",
   "mimetype": "text/x-python",
   "name": "python",
   "nbconvert_exporter": "python",
   "pygments_lexer": "ipython3",
   "version": "3.10.2"
  }
 },
 "nbformat": 4,
 "nbformat_minor": 5
}
