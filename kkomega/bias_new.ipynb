{
 "cells": [
  {
   "cell_type": "code",
   "execution_count": 1,
   "id": "148c35c1",
   "metadata": {},
   "outputs": [],
   "source": [
    "from bias import Bias\n",
    "import numpy as np\n",
    "import matplotlib.pyplot as plt\n",
    "import matplotlib\n",
    "import time\n",
    "import cProfile\n",
    "from noise import Noise\n",
    "from cosmology import Cosmology"
   ]
  },
  {
   "cell_type": "code",
   "execution_count": 2,
   "id": "bde580ea",
   "metadata": {},
   "outputs": [
    {
     "name": "stdout",
     "output_type": "stream",
     "text": [
      "Matrix([[TT, TE, TB], [ET, EE, EB], [BT, BE, BB]])\n",
      "Time = 77.48160576820374\n"
     ]
    }
   ],
   "source": [
    "t0 = time.time()\n",
    "N0_file = \"cache/_N0/N0_my_SO_14_14_TQU.npy\"\n",
    "bias = Bias(N0_file, M_path=\"cache/_M\")\n",
    "t1 = time.time()\n",
    "print(f\"Time = {t1 - t0}\")"
   ]
  },
  {
   "cell_type": "code",
   "execution_count": 6,
   "id": "a8e2c91e",
   "metadata": {},
   "outputs": [
    {
     "name": "stdout",
     "output_type": "stream",
     "text": [
      "[-7.32192112e-14]\n",
      "Time = 12.740096092224121\n"
     ]
    }
   ],
   "source": [
    "t0 = time.time()\n",
    "N_A1 =bias.NA1(100, N_L1=20, N_L3=20, Ntheta12=20, Ntheta13=20)\n",
    "print(N_A1)\n",
    "t1 = time.time()\n",
    "print(f\"Time = {t1 - t0}\")"
   ]
  },
  {
   "cell_type": "code",
   "execution_count": 19,
   "id": "55cfbb8c",
   "metadata": {},
   "outputs": [
    {
     "name": "stdout",
     "output_type": "stream",
     "text": [
      "[-6.39529118e-14]\n",
      "Time = 13.368662118911743\n"
     ]
    }
   ],
   "source": [
    "t0 = time.time()\n",
    "N_A1 =bias.NA1(100, N_L1=20, N_L3=50, Ntheta12=20, Ntheta13=20)\n",
    "print(N_A1)\n",
    "t1 = time.time()\n",
    "print(f\"Time = {t1 - t0}\")"
   ]
  },
  {
   "cell_type": "code",
   "execution_count": 23,
   "id": "748b023c",
   "metadata": {},
   "outputs": [
    {
     "name": "stdout",
     "output_type": "stream",
     "text": [
      "[-6.69276394e-14]\n",
      "Time = 22.401420831680298\n"
     ]
    }
   ],
   "source": [
    "t0 = time.time()\n",
    "N_A1 =bias.NA1(100, N_L1=20, N_L3=50, Ntheta12=30, Ntheta13=20)\n",
    "print(N_A1)\n",
    "t1 = time.time()\n",
    "print(f\"Time = {t1 - t0}\")"
   ]
  },
  {
   "cell_type": "code",
   "execution_count": 3,
   "id": "5e1bc93b",
   "metadata": {},
   "outputs": [
    {
     "name": "stdout",
     "output_type": "stream",
     "text": [
      "[-5.55577092e-14]\n",
      "Time = 21.44883704185486\n"
     ]
    }
   ],
   "source": [
    "t0 = time.time()\n",
    "N_A1 =bias.NA1(100, N_L1=20, N_L3=50, Ntheta12=30, Ntheta13=10)\n",
    "print(N_A1)\n",
    "t1 = time.time()\n",
    "print(f\"Time = {t1 - t0}\")"
   ]
  },
  {
   "cell_type": "code",
   "execution_count": 4,
   "id": "e48e990c",
   "metadata": {},
   "outputs": [
    {
     "name": "stdout",
     "output_type": "stream",
     "text": [
      "[-5.7636416e-14]\n",
      "Time = 13.809734344482422\n"
     ]
    }
   ],
   "source": [
    "t0 = time.time()\n",
    "N_A1 =bias.NA1(100, N_L1=20, N_L3=100, Ntheta12=20, Ntheta13=100)\n",
    "print(N_A1)\n",
    "t1 = time.time()\n",
    "print(f\"Time = {t1 - t0}\")"
   ]
  },
  {
   "cell_type": "code",
   "execution_count": 5,
   "id": "59d28e78",
   "metadata": {},
   "outputs": [
    {
     "name": "stdout",
     "output_type": "stream",
     "text": [
      "[-1.04066101e-16]\n",
      "[5.23903943e-17]\n"
     ]
    }
   ],
   "source": [
    "N_A1 =bias.NA1(500, Ntheta=50)\n",
    "print(N_A1)\n",
    "N_A1 =bias.NA1(1000, Ntheta=50)\n",
    "print(N_A1)"
   ]
  },
  {
   "cell_type": "code",
   "execution_count": null,
   "id": "de44ef92",
   "metadata": {},
   "outputs": [
    {
     "name": "stdout",
     "output_type": "stream",
     "text": [
      "30.0\n",
      "35.0\n",
      "40.0\n",
      "66.72402148800236\n",
      "111.30237608828497\n",
      "185.6635533445111\n",
      "309.7054730724508\n"
     ]
    }
   ],
   "source": [
    "samp1 = np.arange(30, 40, 5)\n",
    "samp2 = np.logspace(1, 3, 10) * 4\n",
    "Ls_theory = np.concatenate((samp1, samp2))\n",
    "N_A1_theory = np.zeros(np.size(Ls_theory))\n",
    "N_C1_theory = np.zeros(np.size(Ls_theory))\n",
    "t0 = time.time()\n",
    "N_A1_theory, N_C1_theory = bias.bias_gmv(Ls_theory, N_L1=20, N_L3=100, Ntheta12=20, Ntheta13=100)\n",
    "print(N_A1_theory)\n",
    "print(N_C1_theory)\n",
    "print(N_A1_theory+N_C1_theory)\n",
    "t1 = time.time()\n",
    "print(f\"Time = {t1 - t0}\")"
   ]
  },
  {
   "cell_type": "code",
   "execution_count": null,
   "id": "9cdc698f",
   "metadata": {},
   "outputs": [],
   "source": [
    "omega_Ls, omega_ps = Cosmology().get_postborn_omega_ps(ellmax=8000)"
   ]
  },
  {
   "cell_type": "code",
   "execution_count": null,
   "id": "371440a5",
   "metadata": {},
   "outputs": [],
   "source": [
    "plt.semilogx(omega_Ls, omega_ps)\n",
    "plt.semilogx(Ls_theory, N_A1_theory+N_C1_theory, label=\"theory\")\n",
    "plt.ylim(-1e-11,1e-11)\n",
    "plt.xlim(3e1,4e3)\n",
    "plt.legend()\n",
    "plt.show()"
   ]
  },
  {
   "cell_type": "code",
   "execution_count": null,
   "id": "7593c997",
   "metadata": {},
   "outputs": [],
   "source": [
    "plt.loglog(omega_Ls, omega_ps)\n",
    "plt.loglog(Ls_theory, np.abs(N_A1_theory+N_C1_theory), label=\"theory\")\n",
    "plt.xlim(3e1,4e3)\n",
    "plt.legend()\n",
    "plt.show()"
   ]
  },
  {
   "cell_type": "code",
   "execution_count": 4,
   "id": "ec6c52a5",
   "metadata": {},
   "outputs": [
    {
     "name": "stdout",
     "output_type": "stream",
     "text": [
      "[8.96781085e-13 8.43185909e-13 6.02353091e-13 3.66920266e-13\n",
      " 2.56208495e-13 5.58169816e-14 9.33535729e-15 1.35806550e-15\n",
      " 1.81233151e-16 2.20481861e-17 2.08062394e-18 8.39527447e-21]\n",
      "[-8.09473561e-13 -7.48682024e-13 -5.22265947e-13 -3.14523191e-13\n",
      " -1.93414700e-13 -3.47613043e-14 -4.09896465e-15 -2.93304414e-16\n",
      " -2.60530827e-18  3.88152553e-18  9.22677451e-19 -9.68200714e-21]\n",
      "[ 8.73075244e-14  9.45038849e-14  8.00871440e-14  5.23970751e-14\n",
      "  6.27937949e-14  2.10556774e-14  5.23639264e-15  1.06476109e-15\n",
      "  1.78627843e-16  2.59297116e-17  3.00330139e-18 -1.28673267e-21]\n",
      "Time = 196.49963307380676\n"
     ]
    }
   ],
   "source": [
    "samp1 = np.arange(30, 40, 5)\n",
    "samp2 = np.logspace(1, 3, 10) * 4\n",
    "Ls_theory = np.concatenate((samp1, samp2))\n",
    "N_A1_theory = np.zeros(np.size(Ls_theory))\n",
    "N_C1_theory = np.zeros(np.size(Ls_theory))\n",
    "t0 = time.time()\n",
    "N_A1_theory, N_C1_theory = bias.bias(\"TT\", Ls_theory, N_L1=20, N_L3=100, Ntheta12=20, Ntheta13=100)\n",
    "print(N_A1_theory)\n",
    "print(N_C1_theory)\n",
    "print(N_A1_theory+N_C1_theory)\n",
    "t1 = time.time()\n",
    "print(f\"Time = {t1 - t0}\")"
   ]
  },
  {
   "cell_type": "code",
   "execution_count": 5,
   "id": "0c0b606e",
   "metadata": {},
   "outputs": [],
   "source": [
    "omega_Ls, omega_ps = Cosmology().get_postborn_omega_ps(ellmax=8000)"
   ]
  },
  {
   "cell_type": "code",
   "execution_count": 6,
   "id": "2d7a925a",
   "metadata": {},
   "outputs": [
    {
     "data": {
      "image/png": "[encoded data removed]",
      "text/plain": [
       "<Figure size 432x288 with 1 Axes>"
      ]
     },
     "metadata": {
      "needs_background": "light"
     },
     "output_type": "display_data"
    }
   ],
   "source": [
    "plt.semilogx(omega_Ls, omega_ps)\n",
    "plt.semilogx(Ls_theory, N_A1_theory+N_C1_theory, label=\"theory\")\n",
    "plt.ylim(-1e-11,1e-11)\n",
    "plt.xlim(3e1,4e3)\n",
    "plt.legend()\n",
    "plt.show()"
   ]
  },
  {
   "cell_type": "code",
   "execution_count": 7,
   "id": "4943bbf6",
   "metadata": {},
   "outputs": [
    {
     "data": {
      "image/png": "[encoded data removed]",
      "text/plain": [
       "<Figure size 432x288 with 1 Axes>"
      ]
     },
     "metadata": {
      "needs_background": "light"
     },
     "output_type": "display_data"
    }
   ],
   "source": [
    "plt.loglog(omega_Ls, omega_ps)\n",
    "plt.loglog(Ls_theory, np.abs(N_A1_theory+N_C1_theory), label=\"theory\")\n",
    "plt.xlim(3e1,4e3)\n",
    "plt.legend()\n",
    "plt.show()"
   ]
  },
  {
   "cell_type": "code",
   "execution_count": 3,
   "id": "4cf944f4",
   "metadata": {},
   "outputs": [
    {
     "name": "stdout",
     "output_type": "stream",
     "text": [
      "[8.96781085e-13 8.43185909e-13 6.02353091e-13 3.66920266e-13\n",
      " 2.56208495e-13 5.58169816e-14 9.33535729e-15 1.35806550e-15\n",
      " 1.81233151e-16 2.20481861e-17 2.08062394e-18 8.39527447e-21]\n",
      "[-8.09473561e-13 -7.48682024e-13 -5.22265947e-13 -3.14523191e-13\n",
      " -1.93414700e-13 -3.47613043e-14 -4.09896465e-15 -2.93304414e-16\n",
      " -2.60530827e-18  3.88152553e-18  9.22677451e-19 -9.68200714e-21]\n",
      "[ 8.73075244e-14  9.45038849e-14  8.00871440e-14  5.23970751e-14\n",
      "  6.27937949e-14  2.10556774e-14  5.23639264e-15  1.06476109e-15\n",
      "  1.78627843e-16  2.59297116e-17  3.00330139e-18 -1.28673267e-21]\n",
      "Time = 208.793310880661\n"
     ]
    }
   ],
   "source": [
    "samp1 = np.arange(30, 40, 5)\n",
    "samp2 = np.logspace(1, 3, 10) * 4\n",
    "Ls_theory = np.concatenate((samp1, samp2))\n",
    "N_A1_theory = np.zeros(np.size(Ls_theory))\n",
    "N_C1_theory = np.zeros(np.size(Ls_theory))\n",
    "t0 = time.time()\n",
    "N_A1_theory, N_C1_theory = bias.bias_TT(Ls_theory, N_L1=20, N_L3=100, Ntheta12=20, Ntheta13=100)\n",
    "print(N_A1_theory)\n",
    "print(N_C1_theory)\n",
    "print(N_A1_theory+N_C1_theory)\n",
    "t1 = time.time()\n",
    "print(f\"Time = {t1 - t0}\")"
   ]
  },
  {
   "cell_type": "code",
   "execution_count": 4,
   "id": "27c91815",
   "metadata": {},
   "outputs": [],
   "source": [
    "omega_Ls, omega_ps = Cosmology().get_postborn_omega_ps(ellmax=8000)"
   ]
  },
  {
   "cell_type": "code",
   "execution_count": 5,
   "id": "8a5fddc2",
   "metadata": {},
   "outputs": [
    {
     "data": {
      "image/png": "[encoded data removed]",
      "text/plain": [
       "<Figure size 432x288 with 1 Axes>"
      ]
     },
     "metadata": {
      "needs_background": "light"
     },
     "output_type": "display_data"
    }
   ],
   "source": [
    "plt.semilogx(omega_Ls, omega_ps)\n",
    "plt.semilogx(Ls_theory, N_A1_theory+N_C1_theory, label=\"theory\")\n",
    "plt.ylim(-1e-11,1e-11)\n",
    "plt.xlim(3e1,4e3)\n",
    "plt.legend()\n",
    "plt.show()"
   ]
  },
  {
   "cell_type": "code",
   "execution_count": 6,
   "id": "2440b49b",
   "metadata": {},
   "outputs": [
    {
     "data": {
      "image/png": "[encoded data removed]",
      "text/plain": [
       "<Figure size 432x288 with 1 Axes>"
      ]
     },
     "metadata": {
      "needs_background": "light"
     },
     "output_type": "display_data"
    }
   ],
   "source": [
    "plt.loglog(omega_Ls, omega_ps)\n",
    "plt.loglog(Ls_theory, np.abs(N_A1_theory+N_C1_theory), label=\"theory\")\n",
    "plt.xlim(3e1,4e3)\n",
    "plt.legend()\n",
    "plt.show()"
   ]
  },
  {
   "cell_type": "code",
   "execution_count": 13,
   "id": "d78e7d53",
   "metadata": {},
   "outputs": [
    {
     "name": "stdout",
     "output_type": "stream",
     "text": [
      "30.0\n",
      "35.0\n",
      "40.0\n",
      "66.72402148800236\n",
      "111.30237608828497\n",
      "185.6635533445111\n",
      "309.7054730724508\n",
      "516.6198660059536\n",
      "861.7738760127529\n",
      "1437.5254655218503\n",
      "2397.9370012757636\n",
      "4000.0\n",
      "[-5.79670903e-13 -5.82466496e-13 -5.35959443e-13 -2.01820642e-13\n",
      " -3.78546619e-14 -3.34397350e-15  7.04318110e-17  1.10779272e-16\n",
      "  7.55790108e-17  8.90306732e-17  1.35024460e-16  1.93953111e-16]\n",
      "[ 6.10423590e-13  6.16353778e-13  5.70331524e-13  2.23863596e-13\n",
      "  4.78476838e-14  6.48915004e-15  6.75043388e-16  5.35600384e-17\n",
      " -1.96902043e-18 -6.08174947e-19 -4.48195848e-20  7.28831473e-22]\n",
      "[3.07526870e-14 3.38872820e-14 3.43720808e-14 2.20429546e-14\n",
      " 9.99302192e-15 3.14517654e-15 7.45475199e-16 1.64339310e-16\n",
      " 7.36099904e-17 8.84224983e-17 1.34979640e-16 1.93953840e-16]\n",
      "Time = 4103.909677743912\n"
     ]
    }
   ],
   "source": [
    "samp1 = np.arange(30, 40, 5)\n",
    "samp2 = np.logspace(1, 3, 10) * 4\n",
    "Ls_theory = np.concatenate((samp1, samp2))\n",
    "N_A1_theory = np.zeros(np.size(Ls_theory))\n",
    "N_C1_theory = np.zeros(np.size(Ls_theory))\n",
    "t0 = time.time()\n",
    "for iii, L in enumerate(Ls_theory):\n",
    "    print(L)\n",
    "    N_A1_theory[iii], N_C1_theory[iii] = bias.bias(L, N_L1=100, N_L3=100, Ntheta12=100, Ntheta13=100)\n",
    "print(N_A1_theory)\n",
    "print(N_C1_theory)\n",
    "print(N_A1_theory+N_C1_theory)\n",
    "t1 = time.time()\n",
    "print(f\"Time = {t1 - t0}\")"
   ]
  },
  {
   "cell_type": "code",
   "execution_count": 16,
   "id": "619ca1e8",
   "metadata": {},
   "outputs": [
    {
     "data": {
      "image/png": "[encoded data removed]",
      "text/plain": [
       "<Figure size 432x288 with 1 Axes>"
      ]
     },
     "metadata": {
      "needs_background": "light"
     },
     "output_type": "display_data"
    }
   ],
   "source": [
    "plt.semilogx(omega_Ls, omega_ps)\n",
    "plt.semilogx(Ls_theory, N_A1_theory+N_C1_theory, label=\"theory\")\n",
    "plt.ylim(-1e-11,1e-11)\n",
    "plt.xlim(3e1,4e3)\n",
    "plt.legend()\n",
    "plt.show()"
   ]
  },
  {
   "cell_type": "code",
   "execution_count": 17,
   "id": "03060a4b",
   "metadata": {},
   "outputs": [
    {
     "data": {
      "image/png": "[encoded data removed]",
      "text/plain": [
       "<Figure size 432x288 with 1 Axes>"
      ]
     },
     "metadata": {
      "needs_background": "light"
     },
     "output_type": "display_data"
    }
   ],
   "source": [
    "plt.loglog(omega_Ls, omega_ps)\n",
    "plt.loglog(Ls_theory, np.abs(N_A1_theory+N_C1_theory), label=\"theory\")\n",
    "plt.xlim(3e1,4e3)\n",
    "plt.legend()\n",
    "plt.show()"
   ]
  },
  {
   "cell_type": "code",
   "execution_count": 4,
   "id": "dec944a2",
   "metadata": {},
   "outputs": [
    {
     "name": "stdout",
     "output_type": "stream",
     "text": [
      "30.0\n",
      "35.0\n",
      "40.0\n",
      "66.72402148800236\n",
      "111.30237608828497\n",
      "185.6635533445111\n",
      "309.7054730724508\n",
      "516.6198660059536\n",
      "861.7738760127529\n",
      "1437.5254655218503\n",
      "2397.9370012757636\n",
      "4000.0\n",
      "[-5.79763656e-13 -5.88811872e-13 -5.39216669e-13 -2.03847263e-13\n",
      " -3.88822773e-14 -3.79000976e-15 -1.11302407e-16  3.36984921e-17\n",
      "  6.27377694e-17  8.48170764e-17  1.34796694e-16  1.19171791e-16]\n",
      "[ 6.08022800e-13  6.20694383e-13  5.71255418e-13  2.24041156e-13\n",
      "  4.77931188e-14  6.43552331e-15  6.47487212e-16  4.64411400e-17\n",
      " -2.89162292e-18 -6.64156315e-19 -4.14995917e-20  7.57804613e-22]\n",
      "[2.82591446e-14 3.18825100e-14 3.20387490e-14 2.01938930e-14\n",
      " 8.91084147e-15 2.64551355e-15 5.36184805e-16 8.01396321e-17\n",
      " 5.98461465e-17 8.41529201e-17 1.34755195e-16 1.19172549e-16]\n",
      "Time = 176.11881113052368\n"
     ]
    }
   ],
   "source": [
    "samp1 = np.arange(30, 40, 5)\n",
    "samp2 = np.logspace(1, 3, 10) * 4\n",
    "Ls_theory = np.concatenate((samp1, samp2))\n",
    "N_A1_theory = np.zeros(np.size(Ls_theory))\n",
    "N_C1_theory = np.zeros(np.size(Ls_theory))\n",
    "t0 = time.time()\n",
    "for iii, L in enumerate(Ls_theory):\n",
    "    print(L)\n",
    "    N_A1_theory[iii], N_C1_theory[iii] = bias.bias(L, N_L1=20, N_L3=100, Ntheta12=20, Ntheta13=100)\n",
    "print(N_A1_theory)\n",
    "print(N_C1_theory)\n",
    "print(N_A1_theory+N_C1_theory)\n",
    "t1 = time.time()\n",
    "print(f\"Time = {t1 - t0}\")"
   ]
  },
  {
   "cell_type": "code",
   "execution_count": 5,
   "id": "da142f56",
   "metadata": {},
   "outputs": [],
   "source": [
    "omega_Ls, omega_ps = Cosmology().get_postborn_omega_ps(ellmax=8000)"
   ]
  },
  {
   "cell_type": "code",
   "execution_count": 6,
   "id": "8580ed75",
   "metadata": {},
   "outputs": [
    {
     "data": {
      "image/png": "[encoded data removed]",
      "text/plain": [
       "<Figure size 432x288 with 1 Axes>"
      ]
     },
     "metadata": {
      "needs_background": "light"
     },
     "output_type": "display_data"
    }
   ],
   "source": [
    "plt.semilogx(omega_Ls, omega_ps)\n",
    "plt.semilogx(Ls_theory, N_A1_theory+N_C1_theory, label=\"theory\")\n",
    "plt.ylim(-1e-11,1e-11)\n",
    "plt.xlim(3e1,4e3)\n",
    "plt.legend()\n",
    "plt.show()"
   ]
  },
  {
   "cell_type": "code",
   "execution_count": 7,
   "id": "9f208e86",
   "metadata": {},
   "outputs": [
    {
     "data": {
      "image/png": "[encoded data removed]",
      "text/plain": [
       "<Figure size 432x288 with 1 Axes>"
      ]
     },
     "metadata": {
      "needs_background": "light"
     },
     "output_type": "display_data"
    }
   ],
   "source": [
    "plt.loglog(omega_Ls, omega_ps)\n",
    "plt.loglog(Ls_theory, np.abs(N_A1_theory+N_C1_theory), label=\"theory\")\n",
    "plt.xlim(3e1,4e3)\n",
    "plt.legend()\n",
    "plt.show()"
   ]
  },
  {
   "cell_type": "code",
   "execution_count": 3,
   "id": "4aaa6b22",
   "metadata": {},
   "outputs": [
    {
     "name": "stdout",
     "output_type": "stream",
     "text": [
      "30.0\n",
      "35.0\n",
      "40.0\n",
      "66.72402148800236\n",
      "111.30237608828497\n",
      "185.6635533445111\n",
      "309.7054730724508\n",
      "516.6198660059536\n",
      "861.7738760127529\n",
      "1437.5254655218503\n",
      "2397.9370012757636\n",
      "4000.0\n",
      "[-2.34633932e-12 -2.37792384e-12 -2.20126420e-12 -8.50821207e-13\n",
      " -1.76816566e-13 -2.33193730e-14 -2.51508799e-15 -2.50358597e-16\n",
      "  6.88784815e-18  1.93078969e-16  3.28372073e-16  1.75759145e-16]\n",
      "[ 2.33333948e-12  2.36316538e-12  2.18576085e-12  8.38547789e-13\n",
      "  1.71099097e-13  2.13131081e-14  1.85742067e-15  1.07485116e-16\n",
      " -9.85894229e-18 -1.93472984e-18 -1.14376501e-19  1.85847340e-22]\n",
      "[-1.29998459e-14 -1.47584600e-14 -1.55033471e-14 -1.22734186e-14\n",
      " -5.71746873e-15 -2.00626487e-15 -6.57667320e-16 -1.42873481e-16\n",
      " -2.97109414e-18  1.91144239e-16  3.28257697e-16  1.75759331e-16]\n",
      "Time = 173.84501600265503\n"
     ]
    }
   ],
   "source": [
    "samp1 = np.arange(30, 40, 5)\n",
    "samp2 = np.logspace(1, 3, 10) * 4\n",
    "Ls_theory = np.concatenate((samp1, samp2))\n",
    "N_A1_theory = np.zeros(np.size(Ls_theory))\n",
    "N_C1_theory = np.zeros(np.size(Ls_theory))\n",
    "t0 = time.time()\n",
    "for iii, L in enumerate(Ls_theory):\n",
    "    print(L)\n",
    "    N_A1_theory[iii], N_C1_theory[iii] = bias.bias(L, N_L1=20, N_L3=100, Ntheta12=20, Ntheta13=100)\n",
    "print(N_A1_theory)\n",
    "print(N_C1_theory)\n",
    "print(N_A1_theory+N_C1_theory)\n",
    "t1 = time.time()\n",
    "print(f\"Time = {t1 - t0}\")"
   ]
  },
  {
   "cell_type": "code",
   "execution_count": 4,
   "id": "94945e1d",
   "metadata": {},
   "outputs": [],
   "source": [
    "omega_Ls, omega_ps = Cosmology().get_postborn_omega_ps(ellmax=8000)"
   ]
  },
  {
   "cell_type": "code",
   "execution_count": 5,
   "id": "b6e3e175",
   "metadata": {},
   "outputs": [
    {
     "data": {
      "image/png": "[encoded data removed]",
      "text/plain": [
       "<Figure size 432x288 with 1 Axes>"
      ]
     },
     "metadata": {
      "needs_background": "light"
     },
     "output_type": "display_data"
    }
   ],
   "source": [
    "plt.semilogx(omega_Ls, omega_ps)\n",
    "plt.semilogx(Ls_theory, N_A1_theory+N_C1_theory, label=\"theory\")\n",
    "plt.ylim(-1e-11,1e-11)\n",
    "plt.xlim(3e1,4e3)\n",
    "plt.legend()\n",
    "plt.show()"
   ]
  },
  {
   "cell_type": "code",
   "execution_count": 6,
   "id": "52b9c459",
   "metadata": {},
   "outputs": [
    {
     "data": {
      "image/png": "[encoded data removed]",
      "text/plain": [
       "<Figure size 432x288 with 1 Axes>"
      ]
     },
     "metadata": {
      "needs_background": "light"
     },
     "output_type": "display_data"
    }
   ],
   "source": [
    "plt.loglog(omega_Ls, omega_ps)\n",
    "plt.loglog(Ls_theory, np.abs(N_A1_theory+N_C1_theory), label=\"theory\")\n",
    "plt.xlim(3e1,4e3)\n",
    "plt.legend()\n",
    "plt.show()"
   ]
  },
  {
   "cell_type": "code",
   "execution_count": null,
   "id": "dff805be",
   "metadata": {},
   "outputs": [],
   "source": []
  }
 ],
 "metadata": {
  "kernelspec": {
   "display_name": "Python 3 (ipykernel)",
   "language": "python",
   "name": "python3"
  },
  "language_info": {
   "codemirror_mode": {
    "name": "ipython",
    "version": 3
   },
   "file_extension": ".py",
   "mimetype": "text/x-python",
   "name": "python",
   "nbconvert_exporter": "python",
   "pygments_lexer": "ipython3",
   "version": "3.10.2"
  }
 },
 "nbformat": 4,
 "nbformat_minor": 5
}
